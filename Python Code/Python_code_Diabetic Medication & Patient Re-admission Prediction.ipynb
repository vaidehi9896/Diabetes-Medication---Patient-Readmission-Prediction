{
 "cells": [
  {
   "cell_type": "code",
   "execution_count": 196,
   "metadata": {},
   "outputs": [],
   "source": [
    "#Diabetic Medication & Patient Re-admission Prediction using different Classification algorithms\n",
    "# importing libraries\n",
    "import pandas as pd\n",
    "import numpy as np"
   ]
  },
  {
   "cell_type": "code",
   "execution_count": 197,
   "metadata": {},
   "outputs": [
    {
     "name": "stderr",
     "output_type": "stream",
     "text": [
      "C:\\Users\\raina\\Anaconda3\\lib\\site-packages\\IPython\\core\\interactiveshell.py:3058: DtypeWarning: Columns (10) have mixed types. Specify dtype option on import or set low_memory=False.\n",
      "  interactivity=interactivity, compiler=compiler, result=result)\n"
     ]
    }
   ],
   "source": [
    "#Load the data into python and replace missing values with NA\n",
    "missing_values = [\"?\"]\n",
    "data = pd.read_csv(\"diabetic_data.csv\", na_values = missing_values)"
   ]
  },
  {
   "cell_type": "code",
   "execution_count": 198,
   "metadata": {},
   "outputs": [
    {
     "data": {
      "text/html": [
       "<div>\n",
       "<style scoped>\n",
       "    .dataframe tbody tr th:only-of-type {\n",
       "        vertical-align: middle;\n",
       "    }\n",
       "\n",
       "    .dataframe tbody tr th {\n",
       "        vertical-align: top;\n",
       "    }\n",
       "\n",
       "    .dataframe thead th {\n",
       "        text-align: right;\n",
       "    }\n",
       "</style>\n",
       "<table border=\"1\" class=\"dataframe\">\n",
       "  <thead>\n",
       "    <tr style=\"text-align: right;\">\n",
       "      <th></th>\n",
       "      <th>encounter_id</th>\n",
       "      <th>patient_nbr</th>\n",
       "      <th>race</th>\n",
       "      <th>gender</th>\n",
       "      <th>age</th>\n",
       "      <th>weight</th>\n",
       "      <th>admission_type_id</th>\n",
       "      <th>discharge_disposition_id</th>\n",
       "      <th>admission_source_id</th>\n",
       "      <th>time_in_hospital</th>\n",
       "      <th>...</th>\n",
       "      <th>citoglipton</th>\n",
       "      <th>insulin</th>\n",
       "      <th>glyburide-metformin</th>\n",
       "      <th>glipizide-metformin</th>\n",
       "      <th>glimepiride-pioglitazone</th>\n",
       "      <th>metformin-rosiglitazone</th>\n",
       "      <th>metformin-pioglitazone</th>\n",
       "      <th>change</th>\n",
       "      <th>diabetesMed</th>\n",
       "      <th>readmitted</th>\n",
       "    </tr>\n",
       "  </thead>\n",
       "  <tbody>\n",
       "    <tr>\n",
       "      <td>0</td>\n",
       "      <td>2278392</td>\n",
       "      <td>8222157</td>\n",
       "      <td>Caucasian</td>\n",
       "      <td>Female</td>\n",
       "      <td>[0-10)</td>\n",
       "      <td>NaN</td>\n",
       "      <td>6</td>\n",
       "      <td>25</td>\n",
       "      <td>1</td>\n",
       "      <td>1</td>\n",
       "      <td>...</td>\n",
       "      <td>No</td>\n",
       "      <td>No</td>\n",
       "      <td>No</td>\n",
       "      <td>No</td>\n",
       "      <td>No</td>\n",
       "      <td>No</td>\n",
       "      <td>No</td>\n",
       "      <td>No</td>\n",
       "      <td>No</td>\n",
       "      <td>NO</td>\n",
       "    </tr>\n",
       "    <tr>\n",
       "      <td>1</td>\n",
       "      <td>149190</td>\n",
       "      <td>55629189</td>\n",
       "      <td>Caucasian</td>\n",
       "      <td>Female</td>\n",
       "      <td>[10-20)</td>\n",
       "      <td>NaN</td>\n",
       "      <td>1</td>\n",
       "      <td>1</td>\n",
       "      <td>7</td>\n",
       "      <td>3</td>\n",
       "      <td>...</td>\n",
       "      <td>No</td>\n",
       "      <td>Up</td>\n",
       "      <td>No</td>\n",
       "      <td>No</td>\n",
       "      <td>No</td>\n",
       "      <td>No</td>\n",
       "      <td>No</td>\n",
       "      <td>Ch</td>\n",
       "      <td>Yes</td>\n",
       "      <td>&gt;30</td>\n",
       "    </tr>\n",
       "    <tr>\n",
       "      <td>2</td>\n",
       "      <td>64410</td>\n",
       "      <td>86047875</td>\n",
       "      <td>AfricanAmerican</td>\n",
       "      <td>Female</td>\n",
       "      <td>[20-30)</td>\n",
       "      <td>NaN</td>\n",
       "      <td>1</td>\n",
       "      <td>1</td>\n",
       "      <td>7</td>\n",
       "      <td>2</td>\n",
       "      <td>...</td>\n",
       "      <td>No</td>\n",
       "      <td>No</td>\n",
       "      <td>No</td>\n",
       "      <td>No</td>\n",
       "      <td>No</td>\n",
       "      <td>No</td>\n",
       "      <td>No</td>\n",
       "      <td>No</td>\n",
       "      <td>Yes</td>\n",
       "      <td>NO</td>\n",
       "    </tr>\n",
       "    <tr>\n",
       "      <td>3</td>\n",
       "      <td>500364</td>\n",
       "      <td>82442376</td>\n",
       "      <td>Caucasian</td>\n",
       "      <td>Male</td>\n",
       "      <td>[30-40)</td>\n",
       "      <td>NaN</td>\n",
       "      <td>1</td>\n",
       "      <td>1</td>\n",
       "      <td>7</td>\n",
       "      <td>2</td>\n",
       "      <td>...</td>\n",
       "      <td>No</td>\n",
       "      <td>Up</td>\n",
       "      <td>No</td>\n",
       "      <td>No</td>\n",
       "      <td>No</td>\n",
       "      <td>No</td>\n",
       "      <td>No</td>\n",
       "      <td>Ch</td>\n",
       "      <td>Yes</td>\n",
       "      <td>NO</td>\n",
       "    </tr>\n",
       "    <tr>\n",
       "      <td>4</td>\n",
       "      <td>16680</td>\n",
       "      <td>42519267</td>\n",
       "      <td>Caucasian</td>\n",
       "      <td>Male</td>\n",
       "      <td>[40-50)</td>\n",
       "      <td>NaN</td>\n",
       "      <td>1</td>\n",
       "      <td>1</td>\n",
       "      <td>7</td>\n",
       "      <td>1</td>\n",
       "      <td>...</td>\n",
       "      <td>No</td>\n",
       "      <td>Steady</td>\n",
       "      <td>No</td>\n",
       "      <td>No</td>\n",
       "      <td>No</td>\n",
       "      <td>No</td>\n",
       "      <td>No</td>\n",
       "      <td>Ch</td>\n",
       "      <td>Yes</td>\n",
       "      <td>NO</td>\n",
       "    </tr>\n",
       "  </tbody>\n",
       "</table>\n",
       "<p>5 rows × 50 columns</p>\n",
       "</div>"
      ],
      "text/plain": [
       "   encounter_id  patient_nbr             race  gender      age weight  \\\n",
       "0       2278392      8222157        Caucasian  Female   [0-10)    NaN   \n",
       "1        149190     55629189        Caucasian  Female  [10-20)    NaN   \n",
       "2         64410     86047875  AfricanAmerican  Female  [20-30)    NaN   \n",
       "3        500364     82442376        Caucasian    Male  [30-40)    NaN   \n",
       "4         16680     42519267        Caucasian    Male  [40-50)    NaN   \n",
       "\n",
       "   admission_type_id  discharge_disposition_id  admission_source_id  \\\n",
       "0                  6                        25                    1   \n",
       "1                  1                         1                    7   \n",
       "2                  1                         1                    7   \n",
       "3                  1                         1                    7   \n",
       "4                  1                         1                    7   \n",
       "\n",
       "   time_in_hospital  ... citoglipton insulin  glyburide-metformin  \\\n",
       "0                 1  ...          No      No                   No   \n",
       "1                 3  ...          No      Up                   No   \n",
       "2                 2  ...          No      No                   No   \n",
       "3                 2  ...          No      Up                   No   \n",
       "4                 1  ...          No  Steady                   No   \n",
       "\n",
       "   glipizide-metformin  glimepiride-pioglitazone  metformin-rosiglitazone  \\\n",
       "0                   No                        No                       No   \n",
       "1                   No                        No                       No   \n",
       "2                   No                        No                       No   \n",
       "3                   No                        No                       No   \n",
       "4                   No                        No                       No   \n",
       "\n",
       "   metformin-pioglitazone  change diabetesMed readmitted  \n",
       "0                      No      No          No         NO  \n",
       "1                      No      Ch         Yes        >30  \n",
       "2                      No      No         Yes         NO  \n",
       "3                      No      Ch         Yes         NO  \n",
       "4                      No      Ch         Yes         NO  \n",
       "\n",
       "[5 rows x 50 columns]"
      ]
     },
     "execution_count": 198,
     "metadata": {},
     "output_type": "execute_result"
    }
   ],
   "source": [
    "# checking head of the data\n",
    "data.head()"
   ]
  },
  {
   "cell_type": "code",
   "execution_count": 199,
   "metadata": {
    "scrolled": true
   },
   "outputs": [
    {
     "data": {
      "text/plain": [
       "encounter_id                    0\n",
       "patient_nbr                     0\n",
       "race                         2273\n",
       "gender                          0\n",
       "age                             0\n",
       "weight                      98569\n",
       "admission_type_id               0\n",
       "discharge_disposition_id        0\n",
       "admission_source_id             0\n",
       "time_in_hospital                0\n",
       "payer_code                  40256\n",
       "medical_specialty           49949\n",
       "num_lab_procedures              0\n",
       "num_procedures                  0\n",
       "num_medications                 0\n",
       "number_outpatient               0\n",
       "number_emergency                0\n",
       "number_inpatient                0\n",
       "diag_1                         21\n",
       "diag_2                        358\n",
       "diag_3                       1423\n",
       "number_diagnoses                0\n",
       "max_glu_serum                   0\n",
       "A1Cresult                       0\n",
       "metformin                       0\n",
       "repaglinide                     0\n",
       "nateglinide                     0\n",
       "chlorpropamide                  0\n",
       "glimepiride                     0\n",
       "acetohexamide                   0\n",
       "glipizide                       0\n",
       "glyburide                       0\n",
       "tolbutamide                     0\n",
       "pioglitazone                    0\n",
       "rosiglitazone                   0\n",
       "acarbose                        0\n",
       "miglitol                        0\n",
       "troglitazone                    0\n",
       "tolazamide                      0\n",
       "examide                         0\n",
       "citoglipton                     0\n",
       "insulin                         0\n",
       "glyburide-metformin             0\n",
       "glipizide-metformin             0\n",
       "glimepiride-pioglitazone        0\n",
       "metformin-rosiglitazone         0\n",
       "metformin-pioglitazone          0\n",
       "change                          0\n",
       "diabetesMed                     0\n",
       "readmitted                      0\n",
       "dtype: int64"
      ]
     },
     "execution_count": 199,
     "metadata": {},
     "output_type": "execute_result"
    }
   ],
   "source": [
    "# check the null values for each attribute\n",
    "data.isnull().sum()"
   ]
  },
  {
   "cell_type": "code",
   "execution_count": 200,
   "metadata": {},
   "outputs": [
    {
     "data": {
      "text/plain": [
       "21"
      ]
     },
     "execution_count": 200,
     "metadata": {},
     "output_type": "execute_result"
    }
   ],
   "source": [
    "# to check total number of null values in diag_1\n",
    "data['diag_1'].isnull().sum()"
   ]
  },
  {
   "cell_type": "code",
   "execution_count": 201,
   "metadata": {},
   "outputs": [
    {
     "data": {
      "text/plain": [
       "0     250.83\n",
       "1        276\n",
       "2        648\n",
       "3          8\n",
       "4        197\n",
       "5        414\n",
       "6        414\n",
       "7        428\n",
       "8        398\n",
       "9        434\n",
       "10     250.7\n",
       "11       157\n",
       "12       428\n",
       "13       428\n",
       "14       518\n",
       "15       999\n",
       "16       410\n",
       "17       682\n",
       "18       402\n",
       "19       737\n",
       "20       410\n",
       "21       572\n",
       "22       410\n",
       "23       V57\n",
       "24       189\n",
       "25       786\n",
       "26       427\n",
       "27       996\n",
       "28       277\n",
       "29       428\n",
       "30       584\n",
       "31       462\n",
       "32       996\n",
       "33       473\n",
       "34       428\n",
       "35       411\n",
       "36       174\n",
       "37       486\n",
       "38       998\n",
       "39       996\n",
       "40       414\n",
       "41       511\n",
       "42       V57\n",
       "43       428\n",
       "44       432\n",
       "45       626\n",
       "46       428\n",
       "47       295\n",
       "48       414\n",
       "49       428\n",
       "Name: diag_1, dtype: object"
      ]
     },
     "execution_count": 201,
     "metadata": {},
     "output_type": "execute_result"
    }
   ],
   "source": [
    "# checking the top  records of column diag_1\n",
    "data['diag_1'].head(50)"
   ]
  },
  {
   "cell_type": "code",
   "execution_count": 202,
   "metadata": {},
   "outputs": [],
   "source": [
    "# convert numerical data into string type\n",
    "data['diag_1'] = data['diag_1'].astype(str)\n",
    "data['diag_2'] = data['diag_2'].astype(str)\n",
    "data['diag_3'] = data['diag_3'].astype(str)"
   ]
  },
  {
   "cell_type": "code",
   "execution_count": 203,
   "metadata": {},
   "outputs": [],
   "source": [
    "#fill in the missing values with most frequent term\n",
    "data['diag_1'] = data['diag_1'].fillna(data['diag_1'].value_counts().index[0])\n",
    "data['diag_2'] = data['diag_2'].fillna(data['diag_2'].value_counts().index[0])\n",
    "data['diag_3'] = data['diag_3'].fillna(data['diag_3'].value_counts().index[0])"
   ]
  },
  {
   "cell_type": "code",
   "execution_count": 204,
   "metadata": {},
   "outputs": [],
   "source": [
    "# convert numerical data into string type\n",
    "data['admission_type_id'] = data['admission_type_id'].astype(str)\n",
    "data['discharge_disposition_id'] = data['discharge_disposition_id'].astype(str)\n",
    "data['admission_source_id'] = data['admission_source_id'].astype(str)"
   ]
  },
  {
   "cell_type": "code",
   "execution_count": 205,
   "metadata": {},
   "outputs": [
    {
     "name": "stdout",
     "output_type": "stream",
     "text": [
      "<class 'pandas.core.frame.DataFrame'>\n",
      "RangeIndex: 101766 entries, 0 to 101765\n",
      "Data columns (total 50 columns):\n",
      "encounter_id                101766 non-null int64\n",
      "patient_nbr                 101766 non-null int64\n",
      "race                        99493 non-null object\n",
      "gender                      101766 non-null object\n",
      "age                         101766 non-null object\n",
      "weight                      3197 non-null object\n",
      "admission_type_id           101766 non-null object\n",
      "discharge_disposition_id    101766 non-null object\n",
      "admission_source_id         101766 non-null object\n",
      "time_in_hospital            101766 non-null int64\n",
      "payer_code                  61510 non-null object\n",
      "medical_specialty           51817 non-null object\n",
      "num_lab_procedures          101766 non-null int64\n",
      "num_procedures              101766 non-null int64\n",
      "num_medications             101766 non-null int64\n",
      "number_outpatient           101766 non-null int64\n",
      "number_emergency            101766 non-null int64\n",
      "number_inpatient            101766 non-null int64\n",
      "diag_1                      101766 non-null object\n",
      "diag_2                      101766 non-null object\n",
      "diag_3                      101766 non-null object\n",
      "number_diagnoses            101766 non-null int64\n",
      "max_glu_serum               101766 non-null object\n",
      "A1Cresult                   101766 non-null object\n",
      "metformin                   101766 non-null object\n",
      "repaglinide                 101766 non-null object\n",
      "nateglinide                 101766 non-null object\n",
      "chlorpropamide              101766 non-null object\n",
      "glimepiride                 101766 non-null object\n",
      "acetohexamide               101766 non-null object\n",
      "glipizide                   101766 non-null object\n",
      "glyburide                   101766 non-null object\n",
      "tolbutamide                 101766 non-null object\n",
      "pioglitazone                101766 non-null object\n",
      "rosiglitazone               101766 non-null object\n",
      "acarbose                    101766 non-null object\n",
      "miglitol                    101766 non-null object\n",
      "troglitazone                101766 non-null object\n",
      "tolazamide                  101766 non-null object\n",
      "examide                     101766 non-null object\n",
      "citoglipton                 101766 non-null object\n",
      "insulin                     101766 non-null object\n",
      "glyburide-metformin         101766 non-null object\n",
      "glipizide-metformin         101766 non-null object\n",
      "glimepiride-pioglitazone    101766 non-null object\n",
      "metformin-rosiglitazone     101766 non-null object\n",
      "metformin-pioglitazone      101766 non-null object\n",
      "change                      101766 non-null object\n",
      "diabetesMed                 101766 non-null object\n",
      "readmitted                  101766 non-null object\n",
      "dtypes: int64(10), object(40)\n",
      "memory usage: 38.8+ MB\n"
     ]
    }
   ],
   "source": [
    "data.info()"
   ]
  },
  {
   "cell_type": "code",
   "execution_count": 206,
   "metadata": {},
   "outputs": [],
   "source": [
    "# create a function to group the records into particular categories\n",
    "def changeDiag(data, col):\n",
    "    data[col] = data[col].astype(str)\n",
    "    for i,x in enumerate(data[col]):\n",
    "        if(x[0] == 'V' or x[0] == 'E'):\n",
    "            data.loc[i, col] = \"Others\"   \n",
    "        else: \n",
    "            x = float(x)\n",
    "            if (x >= 250.00 and x < 251):\n",
    "                data.loc[i, col] = 'Diabetes' \n",
    "            elif (x >= 390 and x <= 459) or x == 785:\n",
    "                data.loc[i, col] = 'Circulatory'\n",
    "            elif (x >= 460 and x<= 519) or x == 786:\n",
    "                data.loc[i, col] = 'Respiratory'\n",
    "            elif (x >= 520 and x <= 579) or x == 787:\n",
    "                data.loc[i, col] = 'Digestive'\n",
    "            elif (x >= 800 and x <= 999):\n",
    "                 data.loc[i, col] = 'Injury'\n",
    "            elif (x >= 710 and x <= 739):\n",
    "                 data.loc[i, col] = 'Musculoskeletal'\n",
    "            elif (x >= 580 and x <= 629) or x == 788:\n",
    "                 data.loc[i, col] = 'Genitourinary'\n",
    "            elif (x >= 140 and x <= 239):\n",
    "                 data.loc[i, col] = 'Neoplasms'\n",
    "            elif (x >= 790 and x <= 799) or x == 780 or x == 781 or x == 784:\n",
    "                 data.loc[i, col] = 'Others'\n",
    "            elif (x >= 240 and x <= 279):\n",
    "                 data.loc[i, col] = 'Others'\n",
    "            elif (x >= 680 and x <= 709) or x == 782:\n",
    "                 data.loc[i, col] = 'Others'\n",
    "            elif (x >= 1 and x <= 139) or x == 783 or x == 789:\n",
    "                 data.loc[i, col] = 'Others'       \n",
    "            elif (x >= 290 and x <= 319):\n",
    "                 data.loc[i, col] = 'Others'\n",
    "            elif (x >= 280 and x <= 289):\n",
    "                 data.loc[i, col] = 'Others'\n",
    "            elif (x >= 320 and x <= 359):\n",
    "                 data.loc[i, col] = 'Others'\n",
    "            elif (x >= 630 and x <= 679):\n",
    "                 data.loc[i, col] = 'Others'\n",
    "            elif (x >= 360 and x <= 389):\n",
    "                 data.loc[i, col] = 'Others'\n",
    "            elif (x >= 740 and x <= 759):\n",
    "                 data.loc[i, col] = 'Others'\n",
    "            else:\n",
    "                data.loc[i, col] = 'Others'\n",
    "    return data"
   ]
  },
  {
   "cell_type": "code",
   "execution_count": 207,
   "metadata": {},
   "outputs": [],
   "source": [
    "# run function changeDiag for columns diag_1, diag_2, diag_3\n",
    "data = changeDiag(data, \"diag_1\")\n",
    "data = changeDiag(data, \"diag_2\")\n",
    "data = changeDiag(data, \"diag_3\")"
   ]
  },
  {
   "cell_type": "code",
   "execution_count": 208,
   "metadata": {},
   "outputs": [
    {
     "data": {
      "text/html": [
       "<div>\n",
       "<style scoped>\n",
       "    .dataframe tbody tr th:only-of-type {\n",
       "        vertical-align: middle;\n",
       "    }\n",
       "\n",
       "    .dataframe tbody tr th {\n",
       "        vertical-align: top;\n",
       "    }\n",
       "\n",
       "    .dataframe thead th {\n",
       "        text-align: right;\n",
       "    }\n",
       "</style>\n",
       "<table border=\"1\" class=\"dataframe\">\n",
       "  <thead>\n",
       "    <tr style=\"text-align: right;\">\n",
       "      <th></th>\n",
       "      <th>diag_1</th>\n",
       "    </tr>\n",
       "  </thead>\n",
       "  <tbody>\n",
       "    <tr>\n",
       "      <td>0</td>\n",
       "      <td>Diabetes</td>\n",
       "    </tr>\n",
       "    <tr>\n",
       "      <td>1</td>\n",
       "      <td>Others</td>\n",
       "    </tr>\n",
       "    <tr>\n",
       "      <td>2</td>\n",
       "      <td>Others</td>\n",
       "    </tr>\n",
       "    <tr>\n",
       "      <td>3</td>\n",
       "      <td>Others</td>\n",
       "    </tr>\n",
       "    <tr>\n",
       "      <td>4</td>\n",
       "      <td>Neoplasms</td>\n",
       "    </tr>\n",
       "    <tr>\n",
       "      <td>5</td>\n",
       "      <td>Circulatory</td>\n",
       "    </tr>\n",
       "    <tr>\n",
       "      <td>6</td>\n",
       "      <td>Circulatory</td>\n",
       "    </tr>\n",
       "    <tr>\n",
       "      <td>7</td>\n",
       "      <td>Circulatory</td>\n",
       "    </tr>\n",
       "    <tr>\n",
       "      <td>8</td>\n",
       "      <td>Circulatory</td>\n",
       "    </tr>\n",
       "    <tr>\n",
       "      <td>9</td>\n",
       "      <td>Circulatory</td>\n",
       "    </tr>\n",
       "    <tr>\n",
       "      <td>10</td>\n",
       "      <td>Diabetes</td>\n",
       "    </tr>\n",
       "    <tr>\n",
       "      <td>11</td>\n",
       "      <td>Neoplasms</td>\n",
       "    </tr>\n",
       "    <tr>\n",
       "      <td>12</td>\n",
       "      <td>Circulatory</td>\n",
       "    </tr>\n",
       "    <tr>\n",
       "      <td>13</td>\n",
       "      <td>Circulatory</td>\n",
       "    </tr>\n",
       "    <tr>\n",
       "      <td>14</td>\n",
       "      <td>Respiratory</td>\n",
       "    </tr>\n",
       "    <tr>\n",
       "      <td>15</td>\n",
       "      <td>Injury</td>\n",
       "    </tr>\n",
       "    <tr>\n",
       "      <td>16</td>\n",
       "      <td>Circulatory</td>\n",
       "    </tr>\n",
       "    <tr>\n",
       "      <td>17</td>\n",
       "      <td>Others</td>\n",
       "    </tr>\n",
       "    <tr>\n",
       "      <td>18</td>\n",
       "      <td>Circulatory</td>\n",
       "    </tr>\n",
       "    <tr>\n",
       "      <td>19</td>\n",
       "      <td>Musculoskeletal</td>\n",
       "    </tr>\n",
       "    <tr>\n",
       "      <td>20</td>\n",
       "      <td>Circulatory</td>\n",
       "    </tr>\n",
       "    <tr>\n",
       "      <td>21</td>\n",
       "      <td>Digestive</td>\n",
       "    </tr>\n",
       "    <tr>\n",
       "      <td>22</td>\n",
       "      <td>Circulatory</td>\n",
       "    </tr>\n",
       "    <tr>\n",
       "      <td>23</td>\n",
       "      <td>Others</td>\n",
       "    </tr>\n",
       "    <tr>\n",
       "      <td>24</td>\n",
       "      <td>Neoplasms</td>\n",
       "    </tr>\n",
       "    <tr>\n",
       "      <td>25</td>\n",
       "      <td>Respiratory</td>\n",
       "    </tr>\n",
       "    <tr>\n",
       "      <td>26</td>\n",
       "      <td>Circulatory</td>\n",
       "    </tr>\n",
       "    <tr>\n",
       "      <td>27</td>\n",
       "      <td>Injury</td>\n",
       "    </tr>\n",
       "    <tr>\n",
       "      <td>28</td>\n",
       "      <td>Others</td>\n",
       "    </tr>\n",
       "    <tr>\n",
       "      <td>29</td>\n",
       "      <td>Circulatory</td>\n",
       "    </tr>\n",
       "    <tr>\n",
       "      <td>30</td>\n",
       "      <td>Genitourinary</td>\n",
       "    </tr>\n",
       "    <tr>\n",
       "      <td>31</td>\n",
       "      <td>Respiratory</td>\n",
       "    </tr>\n",
       "    <tr>\n",
       "      <td>32</td>\n",
       "      <td>Injury</td>\n",
       "    </tr>\n",
       "    <tr>\n",
       "      <td>33</td>\n",
       "      <td>Respiratory</td>\n",
       "    </tr>\n",
       "    <tr>\n",
       "      <td>34</td>\n",
       "      <td>Circulatory</td>\n",
       "    </tr>\n",
       "    <tr>\n",
       "      <td>35</td>\n",
       "      <td>Circulatory</td>\n",
       "    </tr>\n",
       "    <tr>\n",
       "      <td>36</td>\n",
       "      <td>Neoplasms</td>\n",
       "    </tr>\n",
       "    <tr>\n",
       "      <td>37</td>\n",
       "      <td>Respiratory</td>\n",
       "    </tr>\n",
       "    <tr>\n",
       "      <td>38</td>\n",
       "      <td>Injury</td>\n",
       "    </tr>\n",
       "    <tr>\n",
       "      <td>39</td>\n",
       "      <td>Injury</td>\n",
       "    </tr>\n",
       "    <tr>\n",
       "      <td>40</td>\n",
       "      <td>Circulatory</td>\n",
       "    </tr>\n",
       "    <tr>\n",
       "      <td>41</td>\n",
       "      <td>Respiratory</td>\n",
       "    </tr>\n",
       "    <tr>\n",
       "      <td>42</td>\n",
       "      <td>Others</td>\n",
       "    </tr>\n",
       "    <tr>\n",
       "      <td>43</td>\n",
       "      <td>Circulatory</td>\n",
       "    </tr>\n",
       "    <tr>\n",
       "      <td>44</td>\n",
       "      <td>Circulatory</td>\n",
       "    </tr>\n",
       "    <tr>\n",
       "      <td>45</td>\n",
       "      <td>Genitourinary</td>\n",
       "    </tr>\n",
       "    <tr>\n",
       "      <td>46</td>\n",
       "      <td>Circulatory</td>\n",
       "    </tr>\n",
       "    <tr>\n",
       "      <td>47</td>\n",
       "      <td>Others</td>\n",
       "    </tr>\n",
       "    <tr>\n",
       "      <td>48</td>\n",
       "      <td>Circulatory</td>\n",
       "    </tr>\n",
       "    <tr>\n",
       "      <td>49</td>\n",
       "      <td>Circulatory</td>\n",
       "    </tr>\n",
       "  </tbody>\n",
       "</table>\n",
       "</div>"
      ],
      "text/plain": [
       "             diag_1\n",
       "0          Diabetes\n",
       "1            Others\n",
       "2            Others\n",
       "3            Others\n",
       "4         Neoplasms\n",
       "5       Circulatory\n",
       "6       Circulatory\n",
       "7       Circulatory\n",
       "8       Circulatory\n",
       "9       Circulatory\n",
       "10         Diabetes\n",
       "11        Neoplasms\n",
       "12      Circulatory\n",
       "13      Circulatory\n",
       "14      Respiratory\n",
       "15           Injury\n",
       "16      Circulatory\n",
       "17           Others\n",
       "18      Circulatory\n",
       "19  Musculoskeletal\n",
       "20      Circulatory\n",
       "21        Digestive\n",
       "22      Circulatory\n",
       "23           Others\n",
       "24        Neoplasms\n",
       "25      Respiratory\n",
       "26      Circulatory\n",
       "27           Injury\n",
       "28           Others\n",
       "29      Circulatory\n",
       "30    Genitourinary\n",
       "31      Respiratory\n",
       "32           Injury\n",
       "33      Respiratory\n",
       "34      Circulatory\n",
       "35      Circulatory\n",
       "36        Neoplasms\n",
       "37      Respiratory\n",
       "38           Injury\n",
       "39           Injury\n",
       "40      Circulatory\n",
       "41      Respiratory\n",
       "42           Others\n",
       "43      Circulatory\n",
       "44      Circulatory\n",
       "45    Genitourinary\n",
       "46      Circulatory\n",
       "47           Others\n",
       "48      Circulatory\n",
       "49      Circulatory"
      ]
     },
     "execution_count": 208,
     "metadata": {},
     "output_type": "execute_result"
    }
   ],
   "source": [
    "data[['diag_1']].head(50)"
   ]
  },
  {
   "cell_type": "code",
   "execution_count": 209,
   "metadata": {},
   "outputs": [
    {
     "data": {
      "text/plain": [
       "0           Caucasian\n",
       "1           Caucasian\n",
       "2     AfricanAmerican\n",
       "3           Caucasian\n",
       "4           Caucasian\n",
       "5           Caucasian\n",
       "6           Caucasian\n",
       "7           Caucasian\n",
       "8           Caucasian\n",
       "9           Caucasian\n",
       "10    AfricanAmerican\n",
       "11    AfricanAmerican\n",
       "12          Caucasian\n",
       "13          Caucasian\n",
       "14    AfricanAmerican\n",
       "15    AfricanAmerican\n",
       "16    AfricanAmerican\n",
       "17          Caucasian\n",
       "18    AfricanAmerican\n",
       "19                NaN\n",
       "20                NaN\n",
       "21                NaN\n",
       "22    AfricanAmerican\n",
       "23          Caucasian\n",
       "24    AfricanAmerican\n",
       "25              Other\n",
       "26          Caucasian\n",
       "27          Caucasian\n",
       "28          Caucasian\n",
       "29          Caucasian\n",
       "30    AfricanAmerican\n",
       "31    AfricanAmerican\n",
       "32          Caucasian\n",
       "33          Caucasian\n",
       "34          Caucasian\n",
       "35          Caucasian\n",
       "36          Caucasian\n",
       "37          Caucasian\n",
       "38          Caucasian\n",
       "39          Caucasian\n",
       "40          Caucasian\n",
       "41          Caucasian\n",
       "42          Caucasian\n",
       "43          Caucasian\n",
       "44          Caucasian\n",
       "45          Caucasian\n",
       "46          Caucasian\n",
       "47          Caucasian\n",
       "48          Caucasian\n",
       "49          Caucasian\n",
       "Name: race, dtype: object"
      ]
     },
     "execution_count": 209,
     "metadata": {},
     "output_type": "execute_result"
    }
   ],
   "source": [
    "data['race'].head(50)"
   ]
  },
  {
   "cell_type": "code",
   "execution_count": 210,
   "metadata": {},
   "outputs": [],
   "source": [
    "#fill in the missing values with most frequent term\n",
    "data['race']=data['race'].fillna(data['race'].value_counts().index[0])"
   ]
  },
  {
   "cell_type": "code",
   "execution_count": 211,
   "metadata": {},
   "outputs": [
    {
     "data": {
      "text/plain": [
       "array(['Caucasian', 'AfricanAmerican', 'Other', 'Asian', 'Hispanic'],\n",
       "      dtype=object)"
      ]
     },
     "execution_count": 211,
     "metadata": {},
     "output_type": "execute_result"
    }
   ],
   "source": [
    "# check for unique values in race column\n",
    "data['race'].unique()"
   ]
  },
  {
   "cell_type": "code",
   "execution_count": 212,
   "metadata": {},
   "outputs": [
    {
     "name": "stdout",
     "output_type": "stream",
     "text": [
      "<class 'pandas.core.frame.DataFrame'>\n",
      "RangeIndex: 101766 entries, 0 to 101765\n",
      "Data columns (total 50 columns):\n",
      "encounter_id                101766 non-null int64\n",
      "patient_nbr                 101766 non-null int64\n",
      "race                        101766 non-null object\n",
      "gender                      101766 non-null object\n",
      "age                         101766 non-null object\n",
      "weight                      3197 non-null object\n",
      "admission_type_id           101766 non-null object\n",
      "discharge_disposition_id    101766 non-null object\n",
      "admission_source_id         101766 non-null object\n",
      "time_in_hospital            101766 non-null int64\n",
      "payer_code                  61510 non-null object\n",
      "medical_specialty           51817 non-null object\n",
      "num_lab_procedures          101766 non-null int64\n",
      "num_procedures              101766 non-null int64\n",
      "num_medications             101766 non-null int64\n",
      "number_outpatient           101766 non-null int64\n",
      "number_emergency            101766 non-null int64\n",
      "number_inpatient            101766 non-null int64\n",
      "diag_1                      101766 non-null object\n",
      "diag_2                      101766 non-null object\n",
      "diag_3                      101766 non-null object\n",
      "number_diagnoses            101766 non-null int64\n",
      "max_glu_serum               101766 non-null object\n",
      "A1Cresult                   101766 non-null object\n",
      "metformin                   101766 non-null object\n",
      "repaglinide                 101766 non-null object\n",
      "nateglinide                 101766 non-null object\n",
      "chlorpropamide              101766 non-null object\n",
      "glimepiride                 101766 non-null object\n",
      "acetohexamide               101766 non-null object\n",
      "glipizide                   101766 non-null object\n",
      "glyburide                   101766 non-null object\n",
      "tolbutamide                 101766 non-null object\n",
      "pioglitazone                101766 non-null object\n",
      "rosiglitazone               101766 non-null object\n",
      "acarbose                    101766 non-null object\n",
      "miglitol                    101766 non-null object\n",
      "troglitazone                101766 non-null object\n",
      "tolazamide                  101766 non-null object\n",
      "examide                     101766 non-null object\n",
      "citoglipton                 101766 non-null object\n",
      "insulin                     101766 non-null object\n",
      "glyburide-metformin         101766 non-null object\n",
      "glipizide-metformin         101766 non-null object\n",
      "glimepiride-pioglitazone    101766 non-null object\n",
      "metformin-rosiglitazone     101766 non-null object\n",
      "metformin-pioglitazone      101766 non-null object\n",
      "change                      101766 non-null object\n",
      "diabetesMed                 101766 non-null object\n",
      "readmitted                  101766 non-null object\n",
      "dtypes: int64(10), object(40)\n",
      "memory usage: 38.8+ MB\n"
     ]
    }
   ],
   "source": [
    "# checking information of the dataset\n",
    "data.info()"
   ]
  },
  {
   "cell_type": "code",
   "execution_count": 213,
   "metadata": {},
   "outputs": [],
   "source": [
    "# drop unnecessary columns\n",
    "data = data.drop(columns=['encounter_id', 'patient_nbr', 'weight', 'payer_code', 'medical_specialty','examide','citoglipton'])"
   ]
  },
  {
   "cell_type": "code",
   "execution_count": 214,
   "metadata": {},
   "outputs": [],
   "source": [
    "# check for numerical columns\n",
    "numerics = ['int16', 'int32', 'int64', 'float16', 'float32', 'float64']\n",
    "cols_numeric = data.select_dtypes(include=numerics).columns.tolist()"
   ]
  },
  {
   "cell_type": "code",
   "execution_count": 215,
   "metadata": {},
   "outputs": [
    {
     "data": {
      "text/plain": [
       "['time_in_hospital',\n",
       " 'num_lab_procedures',\n",
       " 'num_procedures',\n",
       " 'num_medications',\n",
       " 'number_outpatient',\n",
       " 'number_emergency',\n",
       " 'number_inpatient',\n",
       " 'number_diagnoses']"
      ]
     },
     "execution_count": 215,
     "metadata": {},
     "output_type": "execute_result"
    }
   ],
   "source": [
    "# display all the numeric columns\n",
    "cols_numeric"
   ]
  },
  {
   "cell_type": "code",
   "execution_count": 216,
   "metadata": {},
   "outputs": [],
   "source": [
    "# use min-max normalization method to scale the numerical columns into particular range\n",
    "from sklearn.preprocessing import MinMaxScaler\n",
    "scaler = MinMaxScaler()\n",
    "data[cols_numeric]=scaler.fit_transform(data[cols_numeric])"
   ]
  },
  {
   "cell_type": "code",
   "execution_count": 217,
   "metadata": {},
   "outputs": [
    {
     "data": {
      "text/html": [
       "<div>\n",
       "<style scoped>\n",
       "    .dataframe tbody tr th:only-of-type {\n",
       "        vertical-align: middle;\n",
       "    }\n",
       "\n",
       "    .dataframe tbody tr th {\n",
       "        vertical-align: top;\n",
       "    }\n",
       "\n",
       "    .dataframe thead th {\n",
       "        text-align: right;\n",
       "    }\n",
       "</style>\n",
       "<table border=\"1\" class=\"dataframe\">\n",
       "  <thead>\n",
       "    <tr style=\"text-align: right;\">\n",
       "      <th></th>\n",
       "      <th>race</th>\n",
       "      <th>gender</th>\n",
       "      <th>age</th>\n",
       "      <th>admission_type_id</th>\n",
       "      <th>discharge_disposition_id</th>\n",
       "      <th>admission_source_id</th>\n",
       "      <th>time_in_hospital</th>\n",
       "      <th>num_lab_procedures</th>\n",
       "      <th>num_procedures</th>\n",
       "      <th>num_medications</th>\n",
       "      <th>...</th>\n",
       "      <th>tolazamide</th>\n",
       "      <th>insulin</th>\n",
       "      <th>glyburide-metformin</th>\n",
       "      <th>glipizide-metformin</th>\n",
       "      <th>glimepiride-pioglitazone</th>\n",
       "      <th>metformin-rosiglitazone</th>\n",
       "      <th>metformin-pioglitazone</th>\n",
       "      <th>change</th>\n",
       "      <th>diabetesMed</th>\n",
       "      <th>readmitted</th>\n",
       "    </tr>\n",
       "  </thead>\n",
       "  <tbody>\n",
       "    <tr>\n",
       "      <td>0</td>\n",
       "      <td>Caucasian</td>\n",
       "      <td>Female</td>\n",
       "      <td>[0-10)</td>\n",
       "      <td>6</td>\n",
       "      <td>25</td>\n",
       "      <td>1</td>\n",
       "      <td>0.000000</td>\n",
       "      <td>0.305344</td>\n",
       "      <td>0.000000</td>\n",
       "      <td>0.0000</td>\n",
       "      <td>...</td>\n",
       "      <td>No</td>\n",
       "      <td>No</td>\n",
       "      <td>No</td>\n",
       "      <td>No</td>\n",
       "      <td>No</td>\n",
       "      <td>No</td>\n",
       "      <td>No</td>\n",
       "      <td>No</td>\n",
       "      <td>No</td>\n",
       "      <td>NO</td>\n",
       "    </tr>\n",
       "    <tr>\n",
       "      <td>1</td>\n",
       "      <td>Caucasian</td>\n",
       "      <td>Female</td>\n",
       "      <td>[10-20)</td>\n",
       "      <td>1</td>\n",
       "      <td>1</td>\n",
       "      <td>7</td>\n",
       "      <td>0.153846</td>\n",
       "      <td>0.442748</td>\n",
       "      <td>0.000000</td>\n",
       "      <td>0.2125</td>\n",
       "      <td>...</td>\n",
       "      <td>No</td>\n",
       "      <td>Up</td>\n",
       "      <td>No</td>\n",
       "      <td>No</td>\n",
       "      <td>No</td>\n",
       "      <td>No</td>\n",
       "      <td>No</td>\n",
       "      <td>Ch</td>\n",
       "      <td>Yes</td>\n",
       "      <td>&gt;30</td>\n",
       "    </tr>\n",
       "    <tr>\n",
       "      <td>2</td>\n",
       "      <td>AfricanAmerican</td>\n",
       "      <td>Female</td>\n",
       "      <td>[20-30)</td>\n",
       "      <td>1</td>\n",
       "      <td>1</td>\n",
       "      <td>7</td>\n",
       "      <td>0.076923</td>\n",
       "      <td>0.076336</td>\n",
       "      <td>0.833333</td>\n",
       "      <td>0.1500</td>\n",
       "      <td>...</td>\n",
       "      <td>No</td>\n",
       "      <td>No</td>\n",
       "      <td>No</td>\n",
       "      <td>No</td>\n",
       "      <td>No</td>\n",
       "      <td>No</td>\n",
       "      <td>No</td>\n",
       "      <td>No</td>\n",
       "      <td>Yes</td>\n",
       "      <td>NO</td>\n",
       "    </tr>\n",
       "    <tr>\n",
       "      <td>3</td>\n",
       "      <td>Caucasian</td>\n",
       "      <td>Male</td>\n",
       "      <td>[30-40)</td>\n",
       "      <td>1</td>\n",
       "      <td>1</td>\n",
       "      <td>7</td>\n",
       "      <td>0.076923</td>\n",
       "      <td>0.328244</td>\n",
       "      <td>0.166667</td>\n",
       "      <td>0.1875</td>\n",
       "      <td>...</td>\n",
       "      <td>No</td>\n",
       "      <td>Up</td>\n",
       "      <td>No</td>\n",
       "      <td>No</td>\n",
       "      <td>No</td>\n",
       "      <td>No</td>\n",
       "      <td>No</td>\n",
       "      <td>Ch</td>\n",
       "      <td>Yes</td>\n",
       "      <td>NO</td>\n",
       "    </tr>\n",
       "    <tr>\n",
       "      <td>4</td>\n",
       "      <td>Caucasian</td>\n",
       "      <td>Male</td>\n",
       "      <td>[40-50)</td>\n",
       "      <td>1</td>\n",
       "      <td>1</td>\n",
       "      <td>7</td>\n",
       "      <td>0.000000</td>\n",
       "      <td>0.381679</td>\n",
       "      <td>0.000000</td>\n",
       "      <td>0.0875</td>\n",
       "      <td>...</td>\n",
       "      <td>No</td>\n",
       "      <td>Steady</td>\n",
       "      <td>No</td>\n",
       "      <td>No</td>\n",
       "      <td>No</td>\n",
       "      <td>No</td>\n",
       "      <td>No</td>\n",
       "      <td>Ch</td>\n",
       "      <td>Yes</td>\n",
       "      <td>NO</td>\n",
       "    </tr>\n",
       "  </tbody>\n",
       "</table>\n",
       "<p>5 rows × 43 columns</p>\n",
       "</div>"
      ],
      "text/plain": [
       "              race  gender      age admission_type_id  \\\n",
       "0        Caucasian  Female   [0-10)                 6   \n",
       "1        Caucasian  Female  [10-20)                 1   \n",
       "2  AfricanAmerican  Female  [20-30)                 1   \n",
       "3        Caucasian    Male  [30-40)                 1   \n",
       "4        Caucasian    Male  [40-50)                 1   \n",
       "\n",
       "  discharge_disposition_id admission_source_id  time_in_hospital  \\\n",
       "0                       25                   1          0.000000   \n",
       "1                        1                   7          0.153846   \n",
       "2                        1                   7          0.076923   \n",
       "3                        1                   7          0.076923   \n",
       "4                        1                   7          0.000000   \n",
       "\n",
       "   num_lab_procedures  num_procedures  num_medications  ...  tolazamide  \\\n",
       "0            0.305344        0.000000           0.0000  ...          No   \n",
       "1            0.442748        0.000000           0.2125  ...          No   \n",
       "2            0.076336        0.833333           0.1500  ...          No   \n",
       "3            0.328244        0.166667           0.1875  ...          No   \n",
       "4            0.381679        0.000000           0.0875  ...          No   \n",
       "\n",
       "   insulin  glyburide-metformin glipizide-metformin glimepiride-pioglitazone  \\\n",
       "0       No                   No                  No                       No   \n",
       "1       Up                   No                  No                       No   \n",
       "2       No                   No                  No                       No   \n",
       "3       Up                   No                  No                       No   \n",
       "4   Steady                   No                  No                       No   \n",
       "\n",
       "  metformin-rosiglitazone  metformin-pioglitazone change diabetesMed  \\\n",
       "0                      No                      No     No          No   \n",
       "1                      No                      No     Ch         Yes   \n",
       "2                      No                      No     No         Yes   \n",
       "3                      No                      No     Ch         Yes   \n",
       "4                      No                      No     Ch         Yes   \n",
       "\n",
       "  readmitted  \n",
       "0         NO  \n",
       "1        >30  \n",
       "2         NO  \n",
       "3         NO  \n",
       "4         NO  \n",
       "\n",
       "[5 rows x 43 columns]"
      ]
     },
     "execution_count": 217,
     "metadata": {},
     "output_type": "execute_result"
    }
   ],
   "source": [
    "data.head()"
   ]
  },
  {
   "cell_type": "code",
   "execution_count": 218,
   "metadata": {},
   "outputs": [],
   "source": [
    "# use label encoding method to provide labels with number\n",
    "from sklearn.preprocessing import LabelEncoder\n",
    "\n",
    "race_encoder = LabelEncoder()\n",
    "data[\"race\"] = race_encoder.fit_transform(data[\"race\"])\n"
   ]
  },
  {
   "cell_type": "code",
   "execution_count": 219,
   "metadata": {},
   "outputs": [
    {
     "data": {
      "text/plain": [
       "array(['Female', 'Male', 'Unknown/Invalid'], dtype=object)"
      ]
     },
     "execution_count": 219,
     "metadata": {},
     "output_type": "execute_result"
    }
   ],
   "source": [
    "# check all unique values in column gender\n",
    "data['gender'].unique()"
   ]
  },
  {
   "cell_type": "code",
   "execution_count": 220,
   "metadata": {},
   "outputs": [],
   "source": [
    "# Encode gender column\n",
    "gender_encoder = LabelEncoder()\n",
    "data[\"gender\"] = gender_encoder.fit_transform(data[\"gender\"])"
   ]
  },
  {
   "cell_type": "code",
   "execution_count": 221,
   "metadata": {},
   "outputs": [
    {
     "data": {
      "text/plain": [
       "array(['[0-10)', '[10-20)', '[20-30)', '[30-40)', '[40-50)', '[50-60)',\n",
       "       '[60-70)', '[70-80)', '[80-90)', '[90-100)'], dtype=object)"
      ]
     },
     "execution_count": 221,
     "metadata": {},
     "output_type": "execute_result"
    }
   ],
   "source": [
    "# check all unique values in column age\n",
    "data['age'].unique()"
   ]
  },
  {
   "cell_type": "code",
   "execution_count": 222,
   "metadata": {},
   "outputs": [],
   "source": [
    "age_encoder = LabelEncoder()\n",
    "data[\"age\"] = age_encoder.fit_transform(data[\"age\"])"
   ]
  },
  {
   "cell_type": "code",
   "execution_count": 223,
   "metadata": {},
   "outputs": [
    {
     "data": {
      "text/plain": [
       "array(['Others', 'Circulatory', 'Diabetes', 'Respiratory', 'Injury',\n",
       "       'Neoplasms', 'Genitourinary', 'Musculoskeletal', 'Digestive'],\n",
       "      dtype=object)"
      ]
     },
     "execution_count": 223,
     "metadata": {},
     "output_type": "execute_result"
    }
   ],
   "source": [
    "data['diag_3'].unique()"
   ]
  },
  {
   "cell_type": "code",
   "execution_count": 224,
   "metadata": {},
   "outputs": [],
   "source": [
    "diag_1_encoder = LabelEncoder()\n",
    "data[\"diag_1\"] = diag_1_encoder.fit_transform(data[\"diag_1\"])\n",
    "diag_2_encoder = LabelEncoder()\n",
    "data[\"diag_2\"] = diag_2_encoder.fit_transform(data[\"diag_2\"])\n",
    "diag_3_encoder = LabelEncoder()\n",
    "data[\"diag_3\"] = diag_3_encoder.fit_transform(data[\"diag_3\"])"
   ]
  },
  {
   "cell_type": "code",
   "execution_count": 225,
   "metadata": {},
   "outputs": [
    {
     "data": {
      "text/plain": [
       "array(['None', '>300', 'Norm', '>200'], dtype=object)"
      ]
     },
     "execution_count": 225,
     "metadata": {},
     "output_type": "execute_result"
    }
   ],
   "source": [
    "data['max_glu_serum'].unique()"
   ]
  },
  {
   "cell_type": "code",
   "execution_count": 226,
   "metadata": {},
   "outputs": [],
   "source": [
    "max_glu_serum_encoder = LabelEncoder()\n",
    "data[\"max_glu_serum\"] = max_glu_serum_encoder.fit_transform(data[\"max_glu_serum\"])"
   ]
  },
  {
   "cell_type": "code",
   "execution_count": 227,
   "metadata": {},
   "outputs": [],
   "source": [
    "A1Cresult_encoder = LabelEncoder()\n",
    "data[\"A1Cresult\"] = A1Cresult_encoder.fit_transform(data[\"A1Cresult\"])"
   ]
  },
  {
   "cell_type": "code",
   "execution_count": 228,
   "metadata": {},
   "outputs": [
    {
     "data": {
      "text/plain": [
       "array(['No', 'Up', 'Steady', 'Down'], dtype=object)"
      ]
     },
     "execution_count": 228,
     "metadata": {},
     "output_type": "execute_result"
    }
   ],
   "source": [
    "data['repaglinide'].unique()"
   ]
  },
  {
   "cell_type": "code",
   "execution_count": 229,
   "metadata": {},
   "outputs": [],
   "source": [
    "# Encode rest of the columns\n",
    "metformin_encoder = LabelEncoder()\n",
    "data[\"metformin\"] = metformin_encoder.fit_transform(data[\"metformin\"])\n",
    "repaglinide_encoder = LabelEncoder()\n",
    "data[\"repaglinide\"] = repaglinide_encoder.fit_transform(data[\"repaglinide\"])\n",
    "nateglinide_encoder = LabelEncoder()\n",
    "data[\"nateglinide\"] = nateglinide_encoder.fit_transform(data[\"nateglinide\"])\n",
    "chlorpropamide_encoder = LabelEncoder()\n",
    "data[\"chlorpropamide\"] = chlorpropamide_encoder.fit_transform(data[\"chlorpropamide\"])\n",
    "glimepiride_encoder = LabelEncoder()\n",
    "data[\"glimepiride\"] = glimepiride_encoder.fit_transform(data[\"glimepiride\"])\n",
    "acetohexamide_encoder = LabelEncoder()\n",
    "data[\"acetohexamide\"] = acetohexamide_encoder.fit_transform(data[\"acetohexamide\"])\n",
    "glipizide_encoder = LabelEncoder()\n",
    "data[\"glipizide\"] = glipizide_encoder.fit_transform(data[\"glipizide\"])\n",
    "glyburide_encoder = LabelEncoder()\n",
    "data[\"glyburide\"] = glyburide_encoder.fit_transform(data[\"glyburide\"])\n",
    "tolbutamide_encoder = LabelEncoder()\n",
    "data[\"tolbutamide\"] = tolbutamide_encoder.fit_transform(data[\"tolbutamide\"])\n",
    "pioglitazone_encoder = LabelEncoder()\n",
    "data[\"pioglitazone\"] = pioglitazone_encoder.fit_transform(data[\"pioglitazone\"])\n",
    "rosiglitazone_encoder = LabelEncoder()\n",
    "data[\"rosiglitazone\"] = rosiglitazone_encoder.fit_transform(data[\"rosiglitazone\"])\n",
    "acarbose_encoder = LabelEncoder()\n",
    "data[\"acarbose\"] = acarbose_encoder.fit_transform(data[\"acarbose\"])\n",
    "miglitol_encoder = LabelEncoder()\n",
    "data[\"miglitol\"] = miglitol_encoder.fit_transform(data[\"miglitol\"])\n",
    "troglitazone_encoder = LabelEncoder()\n",
    "data[\"troglitazone\"] = troglitazone_encoder.fit_transform(data[\"troglitazone\"])\n",
    "tolazamide_encoder = LabelEncoder()\n",
    "data[\"tolazamide\"] = tolazamide_encoder.fit_transform(data[\"tolazamide\"])\n",
    "#examide_encoder = LabelEncoder()\n",
    "#data[\"examide\"] = examide_encoder.fit_transform(data[\"examide\"])\n",
    "#citoglipton_encoder = LabelEncoder()\n",
    "#data[\"citoglipton\"] = citoglipton_encoder.fit_transform(data[\"citoglipton\"])\n",
    "insulin_encoder = LabelEncoder()\n",
    "data[\"insulin\"] = insulin_encoder.fit_transform(data[\"insulin\"])\n",
    "change_encoder = LabelEncoder()\n",
    "data[\"change\"] = change_encoder.fit_transform(data[\"change\"])\n",
    "diabetesMed_encoder = LabelEncoder()\n",
    "data[\"diabetesMed\"] = diabetesMed_encoder.fit_transform(data[\"diabetesMed\"])\n",
    "readmitted_encoder = LabelEncoder()\n",
    "data[\"readmitted\"] = readmitted_encoder.fit_transform(data[\"readmitted\"])"
   ]
  },
  {
   "cell_type": "code",
   "execution_count": 230,
   "metadata": {},
   "outputs": [],
   "source": [
    "# renamed the columns names\n",
    "data=data.rename(columns={'glyburide-metformin':'glyburide_metformin'})\n",
    "data=data.rename(columns={'glipizide-metformin':'glipizide_metformin'})\n",
    "data=data.rename(columns={'glimepiride-pioglitazone':'glimepiride_pioglitazone'})\n",
    "data=data.rename(columns={'metformin-rosiglitazone':'metformin_rosiglitazone'})\n",
    "data=data.rename(columns={'metformin-pioglitazone':'metformin_pioglitazone'})"
   ]
  },
  {
   "cell_type": "code",
   "execution_count": 231,
   "metadata": {},
   "outputs": [],
   "source": [
    "glyburide_metformin_encoder = LabelEncoder()\n",
    "data[\"glyburide_metformin\"] = glyburide_metformin_encoder.fit_transform(data[\"glyburide_metformin\"])\n",
    "glipizide_metformin_encoder = LabelEncoder()\n",
    "data[\"glipizide_metformin\"] = glipizide_metformin_encoder.fit_transform(data[\"glipizide_metformin\"])\n",
    "glimepiride_pioglitazone_encoder = LabelEncoder()\n",
    "data[\"glimepiride_pioglitazone\"] = glimepiride_pioglitazone_encoder.fit_transform(data[\"glimepiride_pioglitazone\"])\n",
    "metformin_rosiglitazone_encoder = LabelEncoder()\n",
    "data[\"metformin_rosiglitazone\"] = metformin_rosiglitazone_encoder.fit_transform(data[\"metformin_rosiglitazone\"])\n",
    "metformin_pioglitazone_encoder = LabelEncoder()\n",
    "data[\"metformin_pioglitazone\"] = metformin_pioglitazone_encoder.fit_transform(data[\"metformin_pioglitazone\"])"
   ]
  },
  {
   "cell_type": "code",
   "execution_count": 232,
   "metadata": {},
   "outputs": [
    {
     "data": {
      "text/plain": [
       "array([0, 1], dtype=int64)"
      ]
     },
     "execution_count": 232,
     "metadata": {},
     "output_type": "execute_result"
    }
   ],
   "source": [
    "data[\"metformin_pioglitazone\"].unique()"
   ]
  },
  {
   "cell_type": "code",
   "execution_count": 233,
   "metadata": {},
   "outputs": [
    {
     "data": {
      "text/html": [
       "<div>\n",
       "<style scoped>\n",
       "    .dataframe tbody tr th:only-of-type {\n",
       "        vertical-align: middle;\n",
       "    }\n",
       "\n",
       "    .dataframe tbody tr th {\n",
       "        vertical-align: top;\n",
       "    }\n",
       "\n",
       "    .dataframe thead th {\n",
       "        text-align: right;\n",
       "    }\n",
       "</style>\n",
       "<table border=\"1\" class=\"dataframe\">\n",
       "  <thead>\n",
       "    <tr style=\"text-align: right;\">\n",
       "      <th></th>\n",
       "      <th>race</th>\n",
       "      <th>gender</th>\n",
       "      <th>age</th>\n",
       "      <th>admission_type_id</th>\n",
       "      <th>discharge_disposition_id</th>\n",
       "      <th>admission_source_id</th>\n",
       "      <th>time_in_hospital</th>\n",
       "      <th>num_lab_procedures</th>\n",
       "      <th>num_procedures</th>\n",
       "      <th>num_medications</th>\n",
       "      <th>...</th>\n",
       "      <th>tolazamide</th>\n",
       "      <th>insulin</th>\n",
       "      <th>glyburide_metformin</th>\n",
       "      <th>glipizide_metformin</th>\n",
       "      <th>glimepiride_pioglitazone</th>\n",
       "      <th>metformin_rosiglitazone</th>\n",
       "      <th>metformin_pioglitazone</th>\n",
       "      <th>change</th>\n",
       "      <th>diabetesMed</th>\n",
       "      <th>readmitted</th>\n",
       "    </tr>\n",
       "  </thead>\n",
       "  <tbody>\n",
       "    <tr>\n",
       "      <td>0</td>\n",
       "      <td>2</td>\n",
       "      <td>0</td>\n",
       "      <td>0</td>\n",
       "      <td>6</td>\n",
       "      <td>25</td>\n",
       "      <td>1</td>\n",
       "      <td>0.000000</td>\n",
       "      <td>0.305344</td>\n",
       "      <td>0.000000</td>\n",
       "      <td>0.0000</td>\n",
       "      <td>...</td>\n",
       "      <td>0</td>\n",
       "      <td>1</td>\n",
       "      <td>1</td>\n",
       "      <td>0</td>\n",
       "      <td>0</td>\n",
       "      <td>0</td>\n",
       "      <td>0</td>\n",
       "      <td>1</td>\n",
       "      <td>0</td>\n",
       "      <td>2</td>\n",
       "    </tr>\n",
       "    <tr>\n",
       "      <td>1</td>\n",
       "      <td>2</td>\n",
       "      <td>0</td>\n",
       "      <td>1</td>\n",
       "      <td>1</td>\n",
       "      <td>1</td>\n",
       "      <td>7</td>\n",
       "      <td>0.153846</td>\n",
       "      <td>0.442748</td>\n",
       "      <td>0.000000</td>\n",
       "      <td>0.2125</td>\n",
       "      <td>...</td>\n",
       "      <td>0</td>\n",
       "      <td>3</td>\n",
       "      <td>1</td>\n",
       "      <td>0</td>\n",
       "      <td>0</td>\n",
       "      <td>0</td>\n",
       "      <td>0</td>\n",
       "      <td>0</td>\n",
       "      <td>1</td>\n",
       "      <td>1</td>\n",
       "    </tr>\n",
       "    <tr>\n",
       "      <td>2</td>\n",
       "      <td>0</td>\n",
       "      <td>0</td>\n",
       "      <td>2</td>\n",
       "      <td>1</td>\n",
       "      <td>1</td>\n",
       "      <td>7</td>\n",
       "      <td>0.076923</td>\n",
       "      <td>0.076336</td>\n",
       "      <td>0.833333</td>\n",
       "      <td>0.1500</td>\n",
       "      <td>...</td>\n",
       "      <td>0</td>\n",
       "      <td>1</td>\n",
       "      <td>1</td>\n",
       "      <td>0</td>\n",
       "      <td>0</td>\n",
       "      <td>0</td>\n",
       "      <td>0</td>\n",
       "      <td>1</td>\n",
       "      <td>1</td>\n",
       "      <td>2</td>\n",
       "    </tr>\n",
       "    <tr>\n",
       "      <td>3</td>\n",
       "      <td>2</td>\n",
       "      <td>1</td>\n",
       "      <td>3</td>\n",
       "      <td>1</td>\n",
       "      <td>1</td>\n",
       "      <td>7</td>\n",
       "      <td>0.076923</td>\n",
       "      <td>0.328244</td>\n",
       "      <td>0.166667</td>\n",
       "      <td>0.1875</td>\n",
       "      <td>...</td>\n",
       "      <td>0</td>\n",
       "      <td>3</td>\n",
       "      <td>1</td>\n",
       "      <td>0</td>\n",
       "      <td>0</td>\n",
       "      <td>0</td>\n",
       "      <td>0</td>\n",
       "      <td>0</td>\n",
       "      <td>1</td>\n",
       "      <td>2</td>\n",
       "    </tr>\n",
       "    <tr>\n",
       "      <td>4</td>\n",
       "      <td>2</td>\n",
       "      <td>1</td>\n",
       "      <td>4</td>\n",
       "      <td>1</td>\n",
       "      <td>1</td>\n",
       "      <td>7</td>\n",
       "      <td>0.000000</td>\n",
       "      <td>0.381679</td>\n",
       "      <td>0.000000</td>\n",
       "      <td>0.0875</td>\n",
       "      <td>...</td>\n",
       "      <td>0</td>\n",
       "      <td>2</td>\n",
       "      <td>1</td>\n",
       "      <td>0</td>\n",
       "      <td>0</td>\n",
       "      <td>0</td>\n",
       "      <td>0</td>\n",
       "      <td>0</td>\n",
       "      <td>1</td>\n",
       "      <td>2</td>\n",
       "    </tr>\n",
       "  </tbody>\n",
       "</table>\n",
       "<p>5 rows × 43 columns</p>\n",
       "</div>"
      ],
      "text/plain": [
       "   race  gender  age admission_type_id discharge_disposition_id  \\\n",
       "0     2       0    0                 6                       25   \n",
       "1     2       0    1                 1                        1   \n",
       "2     0       0    2                 1                        1   \n",
       "3     2       1    3                 1                        1   \n",
       "4     2       1    4                 1                        1   \n",
       "\n",
       "  admission_source_id  time_in_hospital  num_lab_procedures  num_procedures  \\\n",
       "0                   1          0.000000            0.305344        0.000000   \n",
       "1                   7          0.153846            0.442748        0.000000   \n",
       "2                   7          0.076923            0.076336        0.833333   \n",
       "3                   7          0.076923            0.328244        0.166667   \n",
       "4                   7          0.000000            0.381679        0.000000   \n",
       "\n",
       "   num_medications  ...  tolazamide  insulin  glyburide_metformin  \\\n",
       "0           0.0000  ...           0        1                    1   \n",
       "1           0.2125  ...           0        3                    1   \n",
       "2           0.1500  ...           0        1                    1   \n",
       "3           0.1875  ...           0        3                    1   \n",
       "4           0.0875  ...           0        2                    1   \n",
       "\n",
       "   glipizide_metformin  glimepiride_pioglitazone  metformin_rosiglitazone  \\\n",
       "0                    0                         0                        0   \n",
       "1                    0                         0                        0   \n",
       "2                    0                         0                        0   \n",
       "3                    0                         0                        0   \n",
       "4                    0                         0                        0   \n",
       "\n",
       "   metformin_pioglitazone  change  diabetesMed  readmitted  \n",
       "0                       0       1            0           2  \n",
       "1                       0       0            1           1  \n",
       "2                       0       1            1           2  \n",
       "3                       0       0            1           2  \n",
       "4                       0       0            1           2  \n",
       "\n",
       "[5 rows x 43 columns]"
      ]
     },
     "execution_count": 233,
     "metadata": {},
     "output_type": "execute_result"
    }
   ],
   "source": [
    "data.head()"
   ]
  },
  {
   "cell_type": "code",
   "execution_count": 234,
   "metadata": {},
   "outputs": [],
   "source": [
    "import seaborn as sns"
   ]
  },
  {
   "cell_type": "code",
   "execution_count": 235,
   "metadata": {},
   "outputs": [
    {
     "data": {
      "text/plain": [
       "<matplotlib.axes._subplots.AxesSubplot at 0x210636aa9c8>"
      ]
     },
     "execution_count": 235,
     "metadata": {},
     "output_type": "execute_result"
    },
    {
     "data": {
      "image/png": "[encoded data removed]",
      "text/plain": [
       "<Figure size 432x288 with 1 Axes>"
      ]
     },
     "metadata": {
      "needs_background": "light"
     },
     "output_type": "display_data"
    }
   ],
   "source": [
    "# draw box plot for attribte time in hospital\n",
    "sns.boxplot(x=data['time_in_hospital'])"
   ]
  },
  {
   "cell_type": "code",
   "execution_count": 236,
   "metadata": {},
   "outputs": [
    {
     "data": {
      "text/plain": [
       "<matplotlib.axes._subplots.AxesSubplot at 0x2102bd40708>"
      ]
     },
     "execution_count": 236,
     "metadata": {},
     "output_type": "execute_result"
    },
    {
     "data": {
      "image/png": "[encoded data removed]",
      "text/plain": [
       "<Figure size 432x288 with 1 Axes>"
      ]
     },
     "metadata": {
      "needs_background": "light"
     },
     "output_type": "display_data"
    }
   ],
   "source": [
    "# draw box plot for attribte num_lab_procedures\n",
    "sns.boxplot(x=data['num_lab_procedures'])"
   ]
  },
  {
   "cell_type": "code",
   "execution_count": 237,
   "metadata": {},
   "outputs": [
    {
     "data": {
      "text/plain": [
       "<matplotlib.axes._subplots.AxesSubplot at 0x2100483ab08>"
      ]
     },
     "execution_count": 237,
     "metadata": {},
     "output_type": "execute_result"
    },
    {
     "data": {
      "image/png": "[encoded data removed]",
      "text/plain": [
       "<Figure size 432x288 with 1 Axes>"
      ]
     },
     "metadata": {
      "needs_background": "light"
     },
     "output_type": "display_data"
    }
   ],
   "source": [
    "# draw box plot for attribte num_medications\n",
    "sns.boxplot(x=data['num_medications'])"
   ]
  },
  {
   "cell_type": "code",
   "execution_count": 238,
   "metadata": {},
   "outputs": [
    {
     "data": {
      "text/plain": [
       "<matplotlib.axes._subplots.AxesSubplot at 0x210699bae08>"
      ]
     },
     "execution_count": 238,
     "metadata": {},
     "output_type": "execute_result"
    },
    {
     "data": {
      "image/png": "[encoded data removed]",
      "text/plain": [
       "<Figure size 432x288 with 1 Axes>"
      ]
     },
     "metadata": {
      "needs_background": "light"
     },
     "output_type": "display_data"
    }
   ],
   "source": [
    "# draw box plot for attribte number_outpatient\n",
    "sns.boxplot(x=data['number_outpatient'])"
   ]
  },
  {
   "cell_type": "code",
   "execution_count": 239,
   "metadata": {},
   "outputs": [
    {
     "data": {
      "text/plain": [
       "<matplotlib.axes._subplots.AxesSubplot at 0x21063737488>"
      ]
     },
     "execution_count": 239,
     "metadata": {},
     "output_type": "execute_result"
    },
    {
     "data": {
      "image/png": "[encoded data removed]",
      "text/plain": [
       "<Figure size 432x288 with 1 Axes>"
      ]
     },
     "metadata": {
      "needs_background": "light"
     },
     "output_type": "display_data"
    }
   ],
   "source": [
    "# draw box plot for attribte number_emergency\n",
    "sns.boxplot(x=data['number_emergency'])"
   ]
  },
  {
   "cell_type": "code",
   "execution_count": 240,
   "metadata": {},
   "outputs": [
    {
     "data": {
      "text/plain": [
       "<matplotlib.axes._subplots.AxesSubplot at 0x2106366da08>"
      ]
     },
     "execution_count": 240,
     "metadata": {},
     "output_type": "execute_result"
    },
    {
     "data": {
      "image/png": "[encoded data removed]",
      "text/plain": [
       "<Figure size 432x288 with 1 Axes>"
      ]
     },
     "metadata": {
      "needs_background": "light"
     },
     "output_type": "display_data"
    }
   ],
   "source": [
    "# draw box plot for attribte number_inpatient\n",
    "sns.boxplot(x=data['number_inpatient'])"
   ]
  },
  {
   "cell_type": "code",
   "execution_count": 241,
   "metadata": {},
   "outputs": [
    {
     "data": {
      "text/plain": [
       "<matplotlib.axes._subplots.AxesSubplot at 0x21061633548>"
      ]
     },
     "execution_count": 241,
     "metadata": {},
     "output_type": "execute_result"
    },
    {
     "data": {
      "image/png": "[encoded data removed]",
      "text/plain": [
       "<Figure size 432x288 with 1 Axes>"
      ]
     },
     "metadata": {
      "needs_background": "light"
     },
     "output_type": "display_data"
    }
   ],
   "source": [
    "# draw box plot for attribte number_diagnoses\n",
    "sns.boxplot(x=data['number_diagnoses'])"
   ]
  },
  {
   "cell_type": "code",
   "execution_count": 242,
   "metadata": {},
   "outputs": [
    {
     "data": {
      "image/png": "[encoded data removed]",
      "text/plain": [
       "<Figure size 288x288 with 2 Axes>"
      ]
     },
     "metadata": {
      "needs_background": "light"
     },
     "output_type": "display_data"
    }
   ],
   "source": [
    "# check for correlation matrix using spearman correlation\n",
    "import matplotlib\n",
    "import matplotlib.pyplot as plt\n",
    "plt.matshow(data.corr(method='spearman'))\n",
    "plt.xticks(range(len(data.columns)), data.columns)\n",
    "plt.yticks(range(len(data.columns)), data.columns)\n",
    "plt.colorbar()\n",
    "plt.show()"
   ]
  },
  {
   "cell_type": "code",
   "execution_count": 243,
   "metadata": {},
   "outputs": [
    {
     "data": {
      "image/png": "[encoded data removed]",
      "text/plain": [
       "<Figure size 432x288 with 2 Axes>"
      ]
     },
     "metadata": {
      "needs_background": "light"
     },
     "output_type": "display_data"
    }
   ],
   "source": [
    "# check for correlation matrix using spearman correlation\n",
    "corr=data.corr(method='spearman')\n",
    "ax = sns.heatmap(\n",
    "    corr, \n",
    "    vmin=-1, vmax=1, center=0,\n",
    "    cmap=sns.diverging_palette(20, 220, n=200),\n",
    "    square=True\n",
    ")\n",
    "ax.set_xticklabels(\n",
    "    ax.get_xticklabels(),\n",
    "    rotation=45,\n",
    "    horizontalalignment='right'\n",
    ");"
   ]
  },
  {
   "cell_type": "code",
   "execution_count": 244,
   "metadata": {},
   "outputs": [],
   "source": [
    "# convert numerical variables into groups using cut function\n",
    "data['time_in_hospital'] = pd.cut(data['time_in_hospital'],3)\n",
    "data['num_lab_procedures'] = pd.cut(data['num_lab_procedures'],3)\n",
    "data['num_procedures'] = pd.cut(data['num_procedures'],3)\n",
    "data['num_medications'] = pd.cut(data['num_medications'],3)\n",
    "data['number_outpatient'] = pd.cut(data['number_outpatient'],3)\n",
    "data['number_emergency'] = pd.cut(data['number_emergency'],3)\n",
    "data['number_inpatient'] = pd.cut(data['number_inpatient'],3)\n",
    "data['number_diagnoses'] = pd.cut(data['number_diagnoses'],3)"
   ]
  },
  {
   "cell_type": "code",
   "execution_count": 245,
   "metadata": {},
   "outputs": [
    {
     "name": "stdout",
     "output_type": "stream",
     "text": [
      "<class 'pandas.core.frame.DataFrame'>\n",
      "RangeIndex: 101766 entries, 0 to 101765\n",
      "Data columns (total 43 columns):\n",
      "race                        101766 non-null int32\n",
      "gender                      101766 non-null int32\n",
      "age                         101766 non-null int32\n",
      "admission_type_id           101766 non-null object\n",
      "discharge_disposition_id    101766 non-null object\n",
      "admission_source_id         101766 non-null object\n",
      "time_in_hospital            101766 non-null category\n",
      "num_lab_procedures          101766 non-null category\n",
      "num_procedures              101766 non-null category\n",
      "num_medications             101766 non-null category\n",
      "number_outpatient           101766 non-null category\n",
      "number_emergency            101766 non-null category\n",
      "number_inpatient            101766 non-null category\n",
      "diag_1                      101766 non-null int32\n",
      "diag_2                      101766 non-null int32\n",
      "diag_3                      101766 non-null int32\n",
      "number_diagnoses            101766 non-null category\n",
      "max_glu_serum               101766 non-null int32\n",
      "A1Cresult                   101766 non-null int32\n",
      "metformin                   101766 non-null int32\n",
      "repaglinide                 101766 non-null int32\n",
      "nateglinide                 101766 non-null int32\n",
      "chlorpropamide              101766 non-null int32\n",
      "glimepiride                 101766 non-null int32\n",
      "acetohexamide               101766 non-null int32\n",
      "glipizide                   101766 non-null int32\n",
      "glyburide                   101766 non-null int32\n",
      "tolbutamide                 101766 non-null int32\n",
      "pioglitazone                101766 non-null int32\n",
      "rosiglitazone               101766 non-null int32\n",
      "acarbose                    101766 non-null int32\n",
      "miglitol                    101766 non-null int32\n",
      "troglitazone                101766 non-null int32\n",
      "tolazamide                  101766 non-null int32\n",
      "insulin                     101766 non-null int32\n",
      "glyburide_metformin         101766 non-null int32\n",
      "glipizide_metformin         101766 non-null int32\n",
      "glimepiride_pioglitazone    101766 non-null int32\n",
      "metformin_rosiglitazone     101766 non-null int32\n",
      "metformin_pioglitazone      101766 non-null int32\n",
      "change                      101766 non-null int32\n",
      "diabetesMed                 101766 non-null int32\n",
      "readmitted                  101766 non-null int32\n",
      "dtypes: category(8), int32(32), object(3)\n",
      "memory usage: 15.5+ MB\n"
     ]
    }
   ],
   "source": [
    "data.info()"
   ]
  },
  {
   "cell_type": "code",
   "execution_count": 246,
   "metadata": {},
   "outputs": [],
   "source": [
    "# copy the data into data_dia\n",
    "data_dia=data.copy(deep=True)"
   ]
  },
  {
   "cell_type": "code",
   "execution_count": 247,
   "metadata": {},
   "outputs": [],
   "source": [
    "# copy the data into data_re\n",
    "data_re=data.copy(deep=True)"
   ]
  },
  {
   "cell_type": "code",
   "execution_count": 248,
   "metadata": {},
   "outputs": [],
   "source": [
    "# setting y variable as diabetesMed\n",
    "y_dia=data_dia['diabetesMed']"
   ]
  },
  {
   "cell_type": "code",
   "execution_count": 249,
   "metadata": {},
   "outputs": [],
   "source": [
    "# dropping columns diabetesMed and readmitted\n",
    "data_dia.drop(['diabetesMed','readmitted'],axis =1,inplace=True)"
   ]
  },
  {
   "cell_type": "code",
   "execution_count": 250,
   "metadata": {},
   "outputs": [],
   "source": [
    "# setting the y variable as readmitted\n",
    "y_re=data_re['readmitted']"
   ]
  },
  {
   "cell_type": "code",
   "execution_count": 251,
   "metadata": {},
   "outputs": [],
   "source": [
    "data_re.drop(['readmitted'],axis =1,inplace=True)"
   ]
  },
  {
   "cell_type": "code",
   "execution_count": 252,
   "metadata": {},
   "outputs": [],
   "source": [
    "#create dummies\n",
    "data_dia=pd.get_dummies(data_dia, columns=['race','age','gender','admission_type_id','discharge_disposition_id','admission_source_id','diag_1','diag_2','diag_3','max_glu_serum','A1Cresult','metformin','repaglinide','nateglinide','chlorpropamide','glimepiride','acetohexamide','glipizide','glyburide','tolbutamide','tolbutamide','pioglitazone','rosiglitazone','acarbose','miglitol','troglitazone','tolazamide','insulin','glyburide_metformin','glipizide_metformin','glimepiride_pioglitazone','metformin_rosiglitazone','metformin_pioglitazone','change','time_in_hospital','num_lab_procedures','num_procedures','num_medications','number_outpatient','number_emergency','number_inpatient','number_diagnoses'])"
   ]
  },
  {
   "cell_type": "code",
   "execution_count": 253,
   "metadata": {},
   "outputs": [
    {
     "name": "stdout",
     "output_type": "stream",
     "text": [
      "race_0\n",
      "race_1\n",
      "race_2\n",
      "race_3\n",
      "race_4\n",
      "age_0\n",
      "age_1\n",
      "age_2\n",
      "age_3\n",
      "age_4\n",
      "age_5\n",
      "age_6\n",
      "age_7\n",
      "age_8\n",
      "age_9\n",
      "gender_0\n",
      "gender_1\n",
      "gender_2\n",
      "admission_type_id_1\n",
      "admission_type_id_2\n",
      "admission_type_id_3\n",
      "admission_type_id_4\n",
      "admission_type_id_5\n",
      "admission_type_id_6\n",
      "admission_type_id_7\n",
      "admission_type_id_8\n",
      "discharge_disposition_id_1\n",
      "discharge_disposition_id_10\n",
      "discharge_disposition_id_11\n",
      "discharge_disposition_id_12\n",
      "discharge_disposition_id_13\n",
      "discharge_disposition_id_14\n",
      "discharge_disposition_id_15\n",
      "discharge_disposition_id_16\n",
      "discharge_disposition_id_17\n",
      "discharge_disposition_id_18\n",
      "discharge_disposition_id_19\n",
      "discharge_disposition_id_2\n",
      "discharge_disposition_id_20\n",
      "discharge_disposition_id_22\n",
      "discharge_disposition_id_23\n",
      "discharge_disposition_id_24\n",
      "discharge_disposition_id_25\n",
      "discharge_disposition_id_27\n",
      "discharge_disposition_id_28\n",
      "discharge_disposition_id_3\n",
      "discharge_disposition_id_4\n",
      "discharge_disposition_id_5\n",
      "discharge_disposition_id_6\n",
      "discharge_disposition_id_7\n",
      "discharge_disposition_id_8\n",
      "discharge_disposition_id_9\n",
      "admission_source_id_1\n",
      "admission_source_id_10\n",
      "admission_source_id_11\n",
      "admission_source_id_13\n",
      "admission_source_id_14\n",
      "admission_source_id_17\n",
      "admission_source_id_2\n",
      "admission_source_id_20\n",
      "admission_source_id_22\n",
      "admission_source_id_25\n",
      "admission_source_id_3\n",
      "admission_source_id_4\n",
      "admission_source_id_5\n",
      "admission_source_id_6\n",
      "admission_source_id_7\n",
      "admission_source_id_8\n",
      "admission_source_id_9\n",
      "diag_1_0\n",
      "diag_1_1\n",
      "diag_1_2\n",
      "diag_1_3\n",
      "diag_1_4\n",
      "diag_1_5\n",
      "diag_1_6\n",
      "diag_1_7\n",
      "diag_1_8\n",
      "diag_2_0\n",
      "diag_2_1\n",
      "diag_2_2\n",
      "diag_2_3\n",
      "diag_2_4\n",
      "diag_2_5\n",
      "diag_2_6\n",
      "diag_2_7\n",
      "diag_2_8\n",
      "diag_3_0\n",
      "diag_3_1\n",
      "diag_3_2\n",
      "diag_3_3\n",
      "diag_3_4\n",
      "diag_3_5\n",
      "diag_3_6\n",
      "diag_3_7\n",
      "diag_3_8\n",
      "max_glu_serum_0\n",
      "max_glu_serum_1\n",
      "max_glu_serum_2\n",
      "max_glu_serum_3\n",
      "A1Cresult_0\n",
      "A1Cresult_1\n",
      "A1Cresult_2\n",
      "A1Cresult_3\n",
      "metformin_0\n",
      "metformin_1\n",
      "metformin_2\n",
      "metformin_3\n",
      "repaglinide_0\n",
      "repaglinide_1\n",
      "repaglinide_2\n",
      "repaglinide_3\n",
      "nateglinide_0\n",
      "nateglinide_1\n",
      "nateglinide_2\n",
      "nateglinide_3\n",
      "chlorpropamide_0\n",
      "chlorpropamide_1\n",
      "chlorpropamide_2\n",
      "chlorpropamide_3\n",
      "glimepiride_0\n",
      "glimepiride_1\n",
      "glimepiride_2\n",
      "glimepiride_3\n",
      "acetohexamide_0\n",
      "acetohexamide_1\n",
      "glipizide_0\n",
      "glipizide_1\n",
      "glipizide_2\n",
      "glipizide_3\n",
      "glyburide_0\n",
      "glyburide_1\n",
      "glyburide_2\n",
      "glyburide_3\n",
      "tolbutamide_0\n",
      "tolbutamide_1\n",
      "tolbutamide_0\n",
      "tolbutamide_1\n",
      "pioglitazone_0\n",
      "pioglitazone_1\n",
      "pioglitazone_2\n",
      "pioglitazone_3\n",
      "rosiglitazone_0\n",
      "rosiglitazone_1\n",
      "rosiglitazone_2\n",
      "rosiglitazone_3\n",
      "acarbose_0\n",
      "acarbose_1\n",
      "acarbose_2\n",
      "acarbose_3\n",
      "miglitol_0\n",
      "miglitol_1\n",
      "miglitol_2\n",
      "miglitol_3\n",
      "troglitazone_0\n",
      "troglitazone_1\n",
      "tolazamide_0\n",
      "tolazamide_1\n",
      "tolazamide_2\n",
      "insulin_0\n",
      "insulin_1\n",
      "insulin_2\n",
      "insulin_3\n",
      "glyburide_metformin_0\n",
      "glyburide_metformin_1\n",
      "glyburide_metformin_2\n",
      "glyburide_metformin_3\n",
      "glipizide_metformin_0\n",
      "glipizide_metformin_1\n",
      "glimepiride_pioglitazone_0\n",
      "glimepiride_pioglitazone_1\n",
      "metformin_rosiglitazone_0\n",
      "metformin_rosiglitazone_1\n",
      "metformin_pioglitazone_0\n",
      "metformin_pioglitazone_1\n",
      "change_0\n",
      "change_1\n",
      "time_in_hospital_(-0.001, 0.333]\n",
      "time_in_hospital_(0.333, 0.667]\n",
      "time_in_hospital_(0.667, 1.0]\n",
      "num_lab_procedures_(-0.001, 0.333]\n",
      "num_lab_procedures_(0.333, 0.667]\n",
      "num_lab_procedures_(0.667, 1.0]\n",
      "num_procedures_(-0.001, 0.333]\n",
      "num_procedures_(0.333, 0.667]\n",
      "num_procedures_(0.667, 1.0]\n",
      "num_medications_(-0.001, 0.333]\n",
      "num_medications_(0.333, 0.667]\n",
      "num_medications_(0.667, 1.0]\n",
      "number_outpatient_(-0.001, 0.333]\n",
      "number_outpatient_(0.333, 0.667]\n",
      "number_outpatient_(0.667, 1.0]\n",
      "number_emergency_(-0.001, 0.333]\n",
      "number_emergency_(0.333, 0.667]\n",
      "number_emergency_(0.667, 1.0]\n",
      "number_inpatient_(-0.001, 0.333]\n",
      "number_inpatient_(0.333, 0.667]\n",
      "number_inpatient_(0.667, 1.0]\n",
      "number_diagnoses_(-0.001, 0.333]\n",
      "number_diagnoses_(0.333, 0.667]\n",
      "number_diagnoses_(0.667, 1.0]\n"
     ]
    }
   ],
   "source": [
    "for col in data_dia.columns: \n",
    "    print(col)"
   ]
  },
  {
   "cell_type": "code",
   "execution_count": 254,
   "metadata": {},
   "outputs": [],
   "source": [
    "# To get dummies\n",
    "data_re=pd.get_dummies(data_re, columns=['race','age','gender','admission_type_id','discharge_disposition_id','admission_source_id','diag_1','diag_2','diag_3','max_glu_serum','A1Cresult','metformin','repaglinide','nateglinide','chlorpropamide','glimepiride','acetohexamide','glipizide','glyburide','tolbutamide','tolbutamide','pioglitazone','rosiglitazone','acarbose','miglitol','troglitazone','tolazamide','insulin','glyburide_metformin','glipizide_metformin','glimepiride_pioglitazone','metformin_rosiglitazone','metformin_pioglitazone','change','time_in_hospital','num_lab_procedures','num_procedures','num_medications','number_outpatient','number_emergency','number_inpatient','number_diagnoses','diabetesMed'])"
   ]
  },
  {
   "cell_type": "code",
   "execution_count": 255,
   "metadata": {
    "scrolled": true
   },
   "outputs": [
    {
     "name": "stdout",
     "output_type": "stream",
     "text": [
      "race_0\n",
      "race_1\n",
      "race_2\n",
      "race_3\n",
      "race_4\n",
      "age_0\n",
      "age_1\n",
      "age_2\n",
      "age_3\n",
      "age_4\n",
      "age_5\n",
      "age_6\n",
      "age_7\n",
      "age_8\n",
      "age_9\n",
      "gender_0\n",
      "gender_1\n",
      "gender_2\n",
      "admission_type_id_1\n",
      "admission_type_id_2\n",
      "admission_type_id_3\n",
      "admission_type_id_4\n",
      "admission_type_id_5\n",
      "admission_type_id_6\n",
      "admission_type_id_7\n",
      "admission_type_id_8\n",
      "discharge_disposition_id_1\n",
      "discharge_disposition_id_10\n",
      "discharge_disposition_id_11\n",
      "discharge_disposition_id_12\n",
      "discharge_disposition_id_13\n",
      "discharge_disposition_id_14\n",
      "discharge_disposition_id_15\n",
      "discharge_disposition_id_16\n",
      "discharge_disposition_id_17\n",
      "discharge_disposition_id_18\n",
      "discharge_disposition_id_19\n",
      "discharge_disposition_id_2\n",
      "discharge_disposition_id_20\n",
      "discharge_disposition_id_22\n",
      "discharge_disposition_id_23\n",
      "discharge_disposition_id_24\n",
      "discharge_disposition_id_25\n",
      "discharge_disposition_id_27\n",
      "discharge_disposition_id_28\n",
      "discharge_disposition_id_3\n",
      "discharge_disposition_id_4\n",
      "discharge_disposition_id_5\n",
      "discharge_disposition_id_6\n",
      "discharge_disposition_id_7\n",
      "discharge_disposition_id_8\n",
      "discharge_disposition_id_9\n",
      "admission_source_id_1\n",
      "admission_source_id_10\n",
      "admission_source_id_11\n",
      "admission_source_id_13\n",
      "admission_source_id_14\n",
      "admission_source_id_17\n",
      "admission_source_id_2\n",
      "admission_source_id_20\n",
      "admission_source_id_22\n",
      "admission_source_id_25\n",
      "admission_source_id_3\n",
      "admission_source_id_4\n",
      "admission_source_id_5\n",
      "admission_source_id_6\n",
      "admission_source_id_7\n",
      "admission_source_id_8\n",
      "admission_source_id_9\n",
      "diag_1_0\n",
      "diag_1_1\n",
      "diag_1_2\n",
      "diag_1_3\n",
      "diag_1_4\n",
      "diag_1_5\n",
      "diag_1_6\n",
      "diag_1_7\n",
      "diag_1_8\n",
      "diag_2_0\n",
      "diag_2_1\n",
      "diag_2_2\n",
      "diag_2_3\n",
      "diag_2_4\n",
      "diag_2_5\n",
      "diag_2_6\n",
      "diag_2_7\n",
      "diag_2_8\n",
      "diag_3_0\n",
      "diag_3_1\n",
      "diag_3_2\n",
      "diag_3_3\n",
      "diag_3_4\n",
      "diag_3_5\n",
      "diag_3_6\n",
      "diag_3_7\n",
      "diag_3_8\n",
      "max_glu_serum_0\n",
      "max_glu_serum_1\n",
      "max_glu_serum_2\n",
      "max_glu_serum_3\n",
      "A1Cresult_0\n",
      "A1Cresult_1\n",
      "A1Cresult_2\n",
      "A1Cresult_3\n",
      "metformin_0\n",
      "metformin_1\n",
      "metformin_2\n",
      "metformin_3\n",
      "repaglinide_0\n",
      "repaglinide_1\n",
      "repaglinide_2\n",
      "repaglinide_3\n",
      "nateglinide_0\n",
      "nateglinide_1\n",
      "nateglinide_2\n",
      "nateglinide_3\n",
      "chlorpropamide_0\n",
      "chlorpropamide_1\n",
      "chlorpropamide_2\n",
      "chlorpropamide_3\n",
      "glimepiride_0\n",
      "glimepiride_1\n",
      "glimepiride_2\n",
      "glimepiride_3\n",
      "acetohexamide_0\n",
      "acetohexamide_1\n",
      "glipizide_0\n",
      "glipizide_1\n",
      "glipizide_2\n",
      "glipizide_3\n",
      "glyburide_0\n",
      "glyburide_1\n",
      "glyburide_2\n",
      "glyburide_3\n",
      "tolbutamide_0\n",
      "tolbutamide_1\n",
      "tolbutamide_0\n",
      "tolbutamide_1\n",
      "pioglitazone_0\n",
      "pioglitazone_1\n",
      "pioglitazone_2\n",
      "pioglitazone_3\n",
      "rosiglitazone_0\n",
      "rosiglitazone_1\n",
      "rosiglitazone_2\n",
      "rosiglitazone_3\n",
      "acarbose_0\n",
      "acarbose_1\n",
      "acarbose_2\n",
      "acarbose_3\n",
      "miglitol_0\n",
      "miglitol_1\n",
      "miglitol_2\n",
      "miglitol_3\n",
      "troglitazone_0\n",
      "troglitazone_1\n",
      "tolazamide_0\n",
      "tolazamide_1\n",
      "tolazamide_2\n",
      "insulin_0\n",
      "insulin_1\n",
      "insulin_2\n",
      "insulin_3\n",
      "glyburide_metformin_0\n",
      "glyburide_metformin_1\n",
      "glyburide_metformin_2\n",
      "glyburide_metformin_3\n",
      "glipizide_metformin_0\n",
      "glipizide_metformin_1\n",
      "glimepiride_pioglitazone_0\n",
      "glimepiride_pioglitazone_1\n",
      "metformin_rosiglitazone_0\n",
      "metformin_rosiglitazone_1\n",
      "metformin_pioglitazone_0\n",
      "metformin_pioglitazone_1\n",
      "change_0\n",
      "change_1\n",
      "time_in_hospital_(-0.001, 0.333]\n",
      "time_in_hospital_(0.333, 0.667]\n",
      "time_in_hospital_(0.667, 1.0]\n",
      "num_lab_procedures_(-0.001, 0.333]\n",
      "num_lab_procedures_(0.333, 0.667]\n",
      "num_lab_procedures_(0.667, 1.0]\n",
      "num_procedures_(-0.001, 0.333]\n",
      "num_procedures_(0.333, 0.667]\n",
      "num_procedures_(0.667, 1.0]\n",
      "num_medications_(-0.001, 0.333]\n",
      "num_medications_(0.333, 0.667]\n",
      "num_medications_(0.667, 1.0]\n",
      "number_outpatient_(-0.001, 0.333]\n",
      "number_outpatient_(0.333, 0.667]\n",
      "number_outpatient_(0.667, 1.0]\n",
      "number_emergency_(-0.001, 0.333]\n",
      "number_emergency_(0.333, 0.667]\n",
      "number_emergency_(0.667, 1.0]\n",
      "number_inpatient_(-0.001, 0.333]\n",
      "number_inpatient_(0.333, 0.667]\n",
      "number_inpatient_(0.667, 1.0]\n",
      "number_diagnoses_(-0.001, 0.333]\n",
      "number_diagnoses_(0.333, 0.667]\n",
      "number_diagnoses_(0.667, 1.0]\n",
      "diabetesMed_0\n",
      "diabetesMed_1\n"
     ]
    }
   ],
   "source": [
    "for col in data_re.columns: \n",
    "    print(col)"
   ]
  },
  {
   "cell_type": "code",
   "execution_count": 256,
   "metadata": {},
   "outputs": [
    {
     "data": {
      "text/plain": [
       "Index(['race_0', 'race_1', 'race_2', 'race_3', 'race_4', 'age_0', 'age_1',\n",
       "       'age_2', 'age_3', 'age_4',\n",
       "       ...\n",
       "       'number_outpatient_(0.667, 1.0]', 'number_emergency_(-0.001, 0.333]',\n",
       "       'number_emergency_(0.333, 0.667]', 'number_emergency_(0.667, 1.0]',\n",
       "       'number_inpatient_(-0.001, 0.333]', 'number_inpatient_(0.333, 0.667]',\n",
       "       'number_inpatient_(0.667, 1.0]', 'number_diagnoses_(-0.001, 0.333]',\n",
       "       'number_diagnoses_(0.333, 0.667]', 'number_diagnoses_(0.667, 1.0]'],\n",
       "      dtype='object', length=201)"
      ]
     },
     "execution_count": 256,
     "metadata": {},
     "output_type": "execute_result"
    }
   ],
   "source": [
    "#Display column names\n",
    "data_dia.columns"
   ]
  },
  {
   "cell_type": "code",
   "execution_count": null,
   "metadata": {},
   "outputs": [],
   "source": []
  },
  {
   "cell_type": "code",
   "execution_count": 257,
   "metadata": {},
   "outputs": [],
   "source": [
    "# split the data into train and test for diabetesMed predictin \n",
    "from sklearn.model_selection import train_test_split\n",
    "x1_train, x1_test, y1_train, y1_test = train_test_split(data_dia, y_dia, test_size=0.2)"
   ]
  },
  {
   "cell_type": "code",
   "execution_count": 258,
   "metadata": {},
   "outputs": [
    {
     "data": {
      "text/plain": [
       "1    62726\n",
       "0    18686\n",
       "Name: diabetesMed, dtype: int64"
      ]
     },
     "execution_count": 258,
     "metadata": {},
     "output_type": "execute_result"
    }
   ],
   "source": [
    "y1_train.value_counts()"
   ]
  },
  {
   "cell_type": "code",
   "execution_count": 259,
   "metadata": {},
   "outputs": [
    {
     "name": "stderr",
     "output_type": "stream",
     "text": [
      "C:\\Users\\raina\\Anaconda3\\lib\\site-packages\\ipykernel_launcher.py:1: FutureWarning: Method .as_matrix will be removed in a future version. Use .values instead.\n",
      "  \"\"\"Entry point for launching an IPython kernel.\n"
     ]
    }
   ],
   "source": [
    "x1_train = x1_train.as_matrix()"
   ]
  },
  {
   "cell_type": "code",
   "execution_count": 260,
   "metadata": {},
   "outputs": [],
   "source": [
    "# apply over-sampling SMOTE technique for imbalanced data in case of diabetesMed prediction on training data set\n",
    "from imblearn.over_sampling import SMOTE\n",
    "smt = SMOTE(sampling_strategy=0.55)\n",
    "x_data, y_data = smt.fit_sample(x1_train, y1_train)"
   ]
  },
  {
   "cell_type": "code",
   "execution_count": 261,
   "metadata": {},
   "outputs": [
    {
     "data": {
      "text/plain": [
       "1    62726\n",
       "0    34499\n",
       "Name: diabetesMed, dtype: int64"
      ]
     },
     "execution_count": 261,
     "metadata": {},
     "output_type": "execute_result"
    }
   ],
   "source": [
    "y_data.value_counts()"
   ]
  },
  {
   "cell_type": "code",
   "execution_count": 262,
   "metadata": {},
   "outputs": [
    {
     "data": {
      "text/plain": [
       "(97225, 201)"
      ]
     },
     "execution_count": 262,
     "metadata": {},
     "output_type": "execute_result"
    }
   ],
   "source": [
    "x_data.shape"
   ]
  },
  {
   "cell_type": "code",
   "execution_count": 263,
   "metadata": {},
   "outputs": [],
   "source": [
    "# split the data into train and test for readmitted prediction \n",
    "x2_train, x2_test, y2_train, y2_test = train_test_split(data_re, y_re, test_size=0.2)"
   ]
  },
  {
   "cell_type": "code",
   "execution_count": 264,
   "metadata": {},
   "outputs": [
    {
     "data": {
      "text/plain": [
       "2    43799\n",
       "1    28492\n",
       "0     9121\n",
       "Name: readmitted, dtype: int64"
      ]
     },
     "execution_count": 264,
     "metadata": {},
     "output_type": "execute_result"
    }
   ],
   "source": [
    "y2_train.value_counts()"
   ]
  },
  {
   "cell_type": "code",
   "execution_count": 265,
   "metadata": {},
   "outputs": [
    {
     "name": "stderr",
     "output_type": "stream",
     "text": [
      "C:\\Users\\raina\\Anaconda3\\lib\\site-packages\\ipykernel_launcher.py:1: FutureWarning: Method .as_matrix will be removed in a future version. Use .values instead.\n",
      "  \"\"\"Entry point for launching an IPython kernel.\n"
     ]
    }
   ],
   "source": [
    "x2_train = x2_train.as_matrix()"
   ]
  },
  {
   "cell_type": "code",
   "execution_count": 266,
   "metadata": {},
   "outputs": [],
   "source": [
    "# apply over-sampling SMOTE technique for imbalanced data in case of readmitted prediction on training dataset\n",
    "smt = SMOTE(sampling_strategy={0:15000})\n",
    "x2_data, y2_data = smt.fit_sample(x2_train, y2_train)"
   ]
  },
  {
   "cell_type": "code",
   "execution_count": 267,
   "metadata": {},
   "outputs": [
    {
     "data": {
      "text/plain": [
       "2    43799\n",
       "1    28492\n",
       "0    15000\n",
       "Name: readmitted, dtype: int64"
      ]
     },
     "execution_count": 267,
     "metadata": {},
     "output_type": "execute_result"
    }
   ],
   "source": [
    "y2_data.value_counts()"
   ]
  },
  {
   "cell_type": "code",
   "execution_count": 268,
   "metadata": {},
   "outputs": [
    {
     "data": {
      "text/plain": [
       "(87291, 203)"
      ]
     },
     "execution_count": 268,
     "metadata": {},
     "output_type": "execute_result"
    }
   ],
   "source": [
    "x2_data.shape"
   ]
  },
  {
   "cell_type": "code",
   "execution_count": 269,
   "metadata": {},
   "outputs": [],
   "source": [
    "# concatinate the x and y data together\n",
    "data_bal_dia = pd.concat([pd.DataFrame(x_data), pd.DataFrame(y_data)],axis=1)"
   ]
  },
  {
   "cell_type": "code",
   "execution_count": 270,
   "metadata": {},
   "outputs": [
    {
     "data": {
      "text/plain": [
       "(97225, 202)"
      ]
     },
     "execution_count": 270,
     "metadata": {},
     "output_type": "execute_result"
    }
   ],
   "source": [
    "data_bal_dia.shape"
   ]
  },
  {
   "cell_type": "code",
   "execution_count": 271,
   "metadata": {},
   "outputs": [],
   "source": [
    "data_bal_dia_test = pd.concat([pd.DataFrame(x1_test), pd.DataFrame(y1_test)],axis=1)"
   ]
  },
  {
   "cell_type": "code",
   "execution_count": 272,
   "metadata": {},
   "outputs": [],
   "source": [
    "col=list(data_bal_dia_test.columns)"
   ]
  },
  {
   "cell_type": "code",
   "execution_count": 273,
   "metadata": {},
   "outputs": [],
   "source": [
    " data_bal_dia.columns = col"
   ]
  },
  {
   "cell_type": "code",
   "execution_count": 274,
   "metadata": {},
   "outputs": [],
   "source": [
    "#merging train and test dataset for PCA computation in case of diabetesMed\n",
    "data_final_dia = data_bal_dia.append(data_bal_dia_test)"
   ]
  },
  {
   "cell_type": "code",
   "execution_count": 275,
   "metadata": {},
   "outputs": [],
   "source": [
    "data_bal_re_train = pd.concat([pd.DataFrame(x2_data), pd.DataFrame(y2_data)],axis=1)"
   ]
  },
  {
   "cell_type": "code",
   "execution_count": 276,
   "metadata": {},
   "outputs": [],
   "source": [
    "data_bal_re_test = pd.concat([pd.DataFrame(x2_test), pd.DataFrame(y2_test)],axis=1)"
   ]
  },
  {
   "cell_type": "code",
   "execution_count": 277,
   "metadata": {},
   "outputs": [],
   "source": [
    "col=list(data_bal_re_test.columns)"
   ]
  },
  {
   "cell_type": "code",
   "execution_count": 278,
   "metadata": {},
   "outputs": [],
   "source": [
    " data_bal_re_train.columns = col"
   ]
  },
  {
   "cell_type": "code",
   "execution_count": 279,
   "metadata": {},
   "outputs": [],
   "source": [
    "#merging train and test dataset for PCA computation in case of readmitted\n",
    "data_final_re = data_bal_re_train.append(data_bal_re_test)"
   ]
  },
  {
   "cell_type": "code",
   "execution_count": 280,
   "metadata": {},
   "outputs": [],
   "source": [
    "y1_dia=data_final_dia['diabetesMed']"
   ]
  },
  {
   "cell_type": "code",
   "execution_count": 281,
   "metadata": {},
   "outputs": [],
   "source": [
    "data_final_dia.drop(['diabetesMed'],axis =1,inplace=True)"
   ]
  },
  {
   "cell_type": "code",
   "execution_count": 282,
   "metadata": {},
   "outputs": [],
   "source": [
    "y2_re=data_final_re['readmitted']"
   ]
  },
  {
   "cell_type": "code",
   "execution_count": 283,
   "metadata": {},
   "outputs": [],
   "source": [
    "data_final_re.drop(['readmitted'],axis =1,inplace=True)"
   ]
  },
  {
   "cell_type": "code",
   "execution_count": 236,
   "metadata": {},
   "outputs": [
    {
     "data": {
      "text/plain": [
       "1    78363\n",
       "0    23403\n",
       "Name: diabetesMed, dtype: int64"
      ]
     },
     "execution_count": 236,
     "metadata": {},
     "output_type": "execute_result"
    }
   ],
   "source": [
    "#data['diabetesMed'].value_counts()"
   ]
  },
  {
   "cell_type": "code",
   "execution_count": 247,
   "metadata": {},
   "outputs": [
    {
     "data": {
      "text/plain": [
       "2    54864\n",
       "1    35545\n",
       "0    11357\n",
       "Name: readmitted, dtype: int64"
      ]
     },
     "execution_count": 247,
     "metadata": {},
     "output_type": "execute_result"
    }
   ],
   "source": [
    "#data['readmitted'].value_counts()"
   ]
  },
  {
   "cell_type": "code",
   "execution_count": 238,
   "metadata": {},
   "outputs": [
    {
     "name": "stdout",
     "output_type": "stream",
     "text": [
      "percentage of no medication is 22.996875184246214\n",
      "percentage of medication 77.0031248157538\n"
     ]
    }
   ],
   "source": [
    "\"\"\"count_no_med = len(data[data['diabetesMed']==0])\n",
    "count_med = len(data[data['diabetesMed']==1])\n",
    "pct_of_no_med = count_no_med/(count_no_med+count_med)\n",
    "print(\"percentage of no medication is\", pct_of_no_med*100)\n",
    "pct_of_med = count_med/(count_no_med+count_med)\n",
    "print(\"percentage of medication\", pct_of_med*100)\"\"\""
   ]
  },
  {
   "cell_type": "code",
   "execution_count": 239,
   "metadata": {},
   "outputs": [
    {
     "name": "stdout",
     "output_type": "stream",
     "text": [
      "percentage of no readmission is 53.911915571015854\n",
      "percentage of readmission greater than 30 is 34.92816854352141\n",
      "percentage of readmission lesser than 30 is 11.159915885462727\n"
     ]
    }
   ],
   "source": [
    "\"\"\"count_no_readmit = len(data[data['readmitted']==2])\n",
    "count_admitgr30 = len(data[data['readmitted']==1])\n",
    "count_admitls30 = len(data[data['readmitted']==0])\n",
    "pct_of_no_readmit = count_no_readmit/(count_no_readmit+count_admitgr30+count_admitls30)\n",
    "print(\"percentage of no readmission is\", pct_of_no_readmit*100)\n",
    "pct_of_admitgr30 = count_admitgr30/(count_no_readmit+count_admitgr30+count_admitls30)\n",
    "print(\"percentage of readmission greater than 30 is\", pct_of_admitgr30*100)\n",
    "pct_of_admitls30 = count_admitls30/(count_no_readmit+count_admitgr30+count_admitls30)\n",
    "print(\"percentage of readmission lesser than 30 is\", pct_of_admitls30*100)"
   ]
  },
  {
   "cell_type": "code",
   "execution_count": 252,
   "metadata": {},
   "outputs": [
    {
     "name": "stdout",
     "output_type": "stream",
     "text": [
      "percentage of no medication is 35.48352571174524\n",
      "percentage of medication 64.51647428825477\n"
     ]
    }
   ],
   "source": [
    "\"\"\"count_no_med = len(data_balance_diab[data_balance_diab['diabetesMed']==0])\n",
    "count_med = len(data_balance_diab[data_balance_diab['diabetesMed']==1])\n",
    "pct_of_no_med = count_no_med/(count_no_med+count_med)\n",
    "print(\"percentage of no medication is\", pct_of_no_med*100)\n",
    "pct_of_med = count_med/(count_no_med+count_med)\n",
    "print(\"percentage of medication\", pct_of_med*100)"
   ]
  },
  {
   "cell_type": "code",
   "execution_count": 253,
   "metadata": {},
   "outputs": [
    {
     "name": "stdout",
     "output_type": "stream",
     "text": [
      "percentage of no readmission is 49.69160122816075\n",
      "percentage of readmission greater than 30 is 32.19393346556893\n",
      "percentage of readmission lesser than 30 is 18.114465306270322\n"
     ]
    }
   ],
   "source": [
    "\"\"\"count_no_readmit = len(data_balance_readmit[data_balance_readmit['readmitted']==2])\n",
    "count_admitgr30 = len(data_balance_readmit[data_balance_readmit['readmitted']==1])\n",
    "count_admitls30 = len(data_balance_readmit[data_balance_readmit['readmitted']==0])\n",
    "pct_of_no_readmit = count_no_readmit/(count_no_readmit+count_admitgr30+count_admitls30)\n",
    "print(\"percentage of no readmission is\", pct_of_no_readmit*100)\n",
    "pct_of_admitgr30 = count_admitgr30/(count_no_readmit+count_admitgr30+count_admitls30)\n",
    "print(\"percentage of readmission greater than 30 is\", pct_of_admitgr30*100)\n",
    "pct_of_admitls30 = count_admitls30/(count_no_readmit+count_admitgr30+count_admitls30)\n",
    "print(\"percentage of readmission lesser than 30 is\", pct_of_admitls30*100)"
   ]
  },
  {
   "cell_type": "code",
   "execution_count": 163,
   "metadata": {},
   "outputs": [
    {
     "data": {
      "image/png": "[encoded data removed]",
      "text/plain": [
       "<Figure size 288x288 with 2 Axes>"
      ]
     },
     "metadata": {
      "needs_background": "light"
     },
     "output_type": "display_data"
    }
   ],
   "source": [
    "#check correlation\n",
    "\n",
    "import matplotlib\n",
    "import matplotlib.pyplot as plt\n",
    "plt.matshow(data_balance.corr(method='pearson'))\n",
    "plt.xticks(range(len(data_balance.columns)), data_balance.columns)\n",
    "plt.yticks(range(len(data_balance.columns)), data_balance.columns)\n",
    "plt.colorbar()\n",
    "plt.show()"
   ]
  },
  {
   "cell_type": "code",
   "execution_count": 164,
   "metadata": {},
   "outputs": [
    {
     "data": {
      "image/png": "[encoded data removed]",
      "text/plain": [
       "<Figure size 432x288 with 2 Axes>"
      ]
     },
     "metadata": {
      "needs_background": "light"
     },
     "output_type": "display_data"
    }
   ],
   "source": [
    "corr=data_balance.corr()\n",
    "ax = sns.heatmap(\n",
    "    corr, \n",
    "    vmin=-1, vmax=1, center=0,\n",
    "    cmap=sns.diverging_palette(20, 220, n=200),\n",
    "    square=True\n",
    ")\n",
    "ax.set_xticklabels(\n",
    "    ax.get_xticklabels(),\n",
    "    rotation=45,\n",
    "    horizontalalignment='right'\n",
    ");"
   ]
  },
  {
   "cell_type": "code",
   "execution_count": 107,
   "metadata": {},
   "outputs": [
    {
     "data": {
      "text/plain": [
       "race                        0.009645\n",
       "gender                      0.071385\n",
       "age                        -0.002328\n",
       "admission_type_id           0.013765\n",
       "discharge_disposition_id   -0.028466\n",
       "admission_source_id         0.003646\n",
       "time_in_hospital            0.082134\n",
       "num_lab_procedures          0.042993\n",
       "num_procedures             -0.002342\n",
       "num_medications             0.222553\n",
       "number_outpatient           0.019476\n",
       "number_emergency            0.031685\n",
       "number_inpatient            0.032276\n",
       "diag_1                      0.007293\n",
       "diag_2                      0.026861\n",
       "diag_3                      0.011943\n",
       "number_diagnoses            0.025875\n",
       "max_glu_serum              -0.033117\n",
       "A1Cresult                  -0.057023\n",
       "metformin                   0.300054\n",
       "repaglinide                 0.077150\n",
       "nateglinide                 0.054031\n",
       "chlorpropamide              0.018786\n",
       "glimepiride                 0.141456\n",
       "acetohexamide               0.002128\n",
       "glipizide                   0.223918\n",
       "glyburide                   0.199033\n",
       "tolbutamide                 0.010206\n",
       "pioglitazone                0.178961\n",
       "rosiglitazone               0.167267\n",
       "acarbose                    0.036155\n",
       "miglitol                    0.009625\n",
       "troglitazone                0.003686\n",
       "tolazamide                  0.013136\n",
       "insulin                     0.322096\n",
       "glyburide_metformin         0.055443\n",
       "glipizide_metformin         0.007673\n",
       "glimepiride_pioglitazone    0.002128\n",
       "metformin_rosiglitazone     0.003009\n",
       "metformin_pioglitazone      0.002128\n",
       "change                     -0.589308\n",
       "readmitted                 -0.032646\n",
       "diabetesMed                 1.000000\n",
       "Name: diabetesMed, dtype: float64"
      ]
     },
     "execution_count": 107,
     "metadata": {},
     "output_type": "execute_result"
    }
   ],
   "source": [
    "# corelation for diabetesMed\n",
    "corr['diabetesMed']"
   ]
  },
  {
   "cell_type": "code",
   "execution_count": 325,
   "metadata": {},
   "outputs": [],
   "source": [
    "\n",
    "data_dummy_u=pd.read_csv(\"data_dummy_unbal.csv\")\n",
    "data_dummy_u.drop(columns='Unnamed: 0',axis=1,inplace=True)"
   ]
  },
  {
   "cell_type": "code",
   "execution_count": 326,
   "metadata": {},
   "outputs": [],
   "source": [
    "data_b_diab=data_dummy_b_diab.copy(deep=True)"
   ]
  },
  {
   "cell_type": "code",
   "execution_count": 327,
   "metadata": {},
   "outputs": [],
   "source": [
    "data_b_readmit=data_dummy_b_readmit.copy(deep=True)"
   ]
  },
  {
   "cell_type": "code",
   "execution_count": 340,
   "metadata": {},
   "outputs": [],
   "source": [
    "from sklearn.model_selection import train_test_split\n",
    "from sklearn.naive_bayes import GaussianNB\n",
    "from sklearn.metrics import accuracy_score\n",
    "from sklearn.metrics import precision_score\n",
    "from sklearn.metrics import recall_score\n",
    "from sklearn.metrics import f1_score\n",
    "from sklearn.metrics import confusion_matrix"
   ]
  },
  {
   "cell_type": "code",
   "execution_count": 341,
   "metadata": {},
   "outputs": [
    {
     "name": "stdout",
     "output_type": "stream",
     "text": [
      "Accuracy by Hold-out Eval: 0.9997543480396973\n",
      "Precision: 1.000\n",
      "Recall: 1.000\n",
      "F1 score: 0.999840\n"
     ]
    }
   ],
   "source": [
    "# diabetesMed data split for unbalanced data\n",
    "# Naive Bayes classification for diabetesMed in case of unbalanced data\n",
    "\n",
    "x1_train, x1_test, y1_train, y1_test = train_test_split(data_u, y1_u, test_size=0.2)\n",
    "\n",
    "clf = GaussianNB()\n",
    "clf.fit(x1_train, y1_train)\n",
    "y1_pred=clf.predict(x1_test)\n",
    "print(\"Accuracy by Hold-out Eval:\",accuracy_score(y1_pred,y1_test))\n",
    "confusion_matrix(y1_test, y1_pred)\n",
    "precision = precision_score(y1_test, y1_pred, average='binary')\n",
    "print('Precision: %.3f' % precision)\n",
    "recall = recall_score(y1_test, y1_pred, average='binary')\n",
    "print('Recall: %.3f' % recall)\n",
    "f1 = f1_score(y1_test, y1_pred, average='binary')\n",
    "print('F1 score: %f' % f1)"
   ]
  },
  {
   "cell_type": "code",
   "execution_count": 284,
   "metadata": {},
   "outputs": [
    {
     "name": "stdout",
     "output_type": "stream",
     "text": [
      "Test Accuracy by Hold-out Eval: 0.8063020921925498\n",
      "Train Accuracy by Hold-out Eval: 0.8037485515027163\n",
      "Precision: 0.776\n",
      "Recall: 1.000\n",
      "F1 score: 0.873665\n"
     ]
    }
   ],
   "source": [
    "# diabetesMed data split for balanced data\n",
    "# Naive Bayes classification for diabetesMed in case of balanced data\n",
    "\n",
    "x1_train, x1_test, y1_train, y1_test = train_test_split(data_final_dia, y1_dia, test_size=0.2)\n",
    "clf = GaussianNB()\n",
    "clf.fit(x_data, y_data)\n",
    "y1_pred=clf.predict(x1_test)\n",
    "print(\"Test Accuracy by Hold-out Eval:\",accuracy_score(y1_pred,y1_test))\n",
    "y1_pred_train=clf.predict(x1_train)\n",
    "print(\"Train Accuracy by Hold-out Eval:\",accuracy_score(y1_pred_train,y1_train))\n",
    "confusion_matrix(y1_test, y1_pred)\n",
    "precision = precision_score(y1_test, y1_pred, average='binary')\n",
    "print('Precision: %.3f' % precision)\n",
    "recall = recall_score(y1_test, y1_pred, average='binary')\n",
    "print('Recall: %.3f' % recall)\n",
    "f1 = f1_score(y1_test, y1_pred, average='binary')\n",
    "print('F1 score: %f' % f1)"
   ]
  },
  {
   "cell_type": "code",
   "execution_count": 303,
   "metadata": {},
   "outputs": [
    {
     "name": "stdout",
     "output_type": "stream",
     "text": [
      "Test Accuracy by Hold-out Eval: 0.14110248599783826\n",
      "Train Accuracy by Hold-out Eval: 0.1411339851618926\n",
      "Precision: 0.141\n",
      "Recall: 0.141\n",
      "F1 score: 0.141102\n"
     ]
    }
   ],
   "source": [
    "# readmitted data split for unbalanced data\n",
    "# Naive Bayes classification for readmitted in case of unbalanced data\n",
    "\n",
    "#x2_train, x2_test, y2_train, y2_test = train_test_split(data_u_re, y2_u, test_size=0.2)\n",
    "\n",
    "clf = GaussianNB()\n",
    "clf.fit(x2_train, y2_train)\n",
    "y2_pred=clf.predict(x2_test)\n",
    "print(\"Test Accuracy by Hold-out Eval:\",accuracy_score(y2_pred,y2_test))\n",
    "y2_pred_train=clf.predict(x2_train)\n",
    "print(\"Train Accuracy by Hold-out Eval:\",accuracy_score(y2_pred_train,y2_train))\n",
    "confusion_matrix(y2_test, y2_pred, labels=[0, 1, 2])\n",
    "precision = precision_score(y2_test, y2_pred, labels=[0,1,2], average='micro')\n",
    "print('Precision: %.3f' % precision)\n",
    "recall = recall_score(y2_test, y2_pred, labels=[0,1,2], average='micro')\n",
    "print('Recall: %.3f' % recall)\n",
    "f1 = f1_score(y2_test, y2_pred, labels=[0,1,2], average='micro')\n",
    "print('F1 score: %f' % f1)"
   ]
  },
  {
   "cell_type": "code",
   "execution_count": 348,
   "metadata": {},
   "outputs": [
    {
     "data": {
      "text/html": [
       "<div>\n",
       "<style scoped>\n",
       "    .dataframe tbody tr th:only-of-type {\n",
       "        vertical-align: middle;\n",
       "    }\n",
       "\n",
       "    .dataframe tbody tr th {\n",
       "        vertical-align: top;\n",
       "    }\n",
       "\n",
       "    .dataframe thead th {\n",
       "        text-align: right;\n",
       "    }\n",
       "</style>\n",
       "<table border=\"1\" class=\"dataframe\">\n",
       "  <thead>\n",
       "    <tr style=\"text-align: right;\">\n",
       "      <th></th>\n",
       "      <th>race_0</th>\n",
       "      <th>race_1</th>\n",
       "      <th>race_2</th>\n",
       "      <th>race_3</th>\n",
       "      <th>race_4</th>\n",
       "      <th>age_0</th>\n",
       "      <th>age_1</th>\n",
       "      <th>age_2</th>\n",
       "      <th>age_3</th>\n",
       "      <th>age_4</th>\n",
       "      <th>...</th>\n",
       "      <th>number_emergency_(0.333, 0.667]</th>\n",
       "      <th>number_emergency_(0.667, 1.0]</th>\n",
       "      <th>number_inpatient_(-0.001, 0.333]</th>\n",
       "      <th>number_inpatient_(0.333, 0.667]</th>\n",
       "      <th>number_inpatient_(0.667, 1.0]</th>\n",
       "      <th>number_diagnoses_(-0.001, 0.333]</th>\n",
       "      <th>number_diagnoses_(0.333, 0.667]</th>\n",
       "      <th>number_diagnoses_(0.667, 1.0]</th>\n",
       "      <th>diabetesMed_0</th>\n",
       "      <th>diabetesMed_1</th>\n",
       "    </tr>\n",
       "  </thead>\n",
       "  <tbody>\n",
       "    <tr>\n",
       "      <td>0</td>\n",
       "      <td>0</td>\n",
       "      <td>0</td>\n",
       "      <td>1</td>\n",
       "      <td>0</td>\n",
       "      <td>0</td>\n",
       "      <td>1</td>\n",
       "      <td>0</td>\n",
       "      <td>0</td>\n",
       "      <td>0</td>\n",
       "      <td>0</td>\n",
       "      <td>...</td>\n",
       "      <td>0</td>\n",
       "      <td>0</td>\n",
       "      <td>1</td>\n",
       "      <td>0</td>\n",
       "      <td>0</td>\n",
       "      <td>1</td>\n",
       "      <td>0</td>\n",
       "      <td>0</td>\n",
       "      <td>1</td>\n",
       "      <td>0</td>\n",
       "    </tr>\n",
       "    <tr>\n",
       "      <td>1</td>\n",
       "      <td>0</td>\n",
       "      <td>0</td>\n",
       "      <td>1</td>\n",
       "      <td>0</td>\n",
       "      <td>0</td>\n",
       "      <td>0</td>\n",
       "      <td>1</td>\n",
       "      <td>0</td>\n",
       "      <td>0</td>\n",
       "      <td>0</td>\n",
       "      <td>...</td>\n",
       "      <td>0</td>\n",
       "      <td>0</td>\n",
       "      <td>1</td>\n",
       "      <td>0</td>\n",
       "      <td>0</td>\n",
       "      <td>0</td>\n",
       "      <td>1</td>\n",
       "      <td>0</td>\n",
       "      <td>0</td>\n",
       "      <td>1</td>\n",
       "    </tr>\n",
       "    <tr>\n",
       "      <td>2</td>\n",
       "      <td>1</td>\n",
       "      <td>0</td>\n",
       "      <td>0</td>\n",
       "      <td>0</td>\n",
       "      <td>0</td>\n",
       "      <td>0</td>\n",
       "      <td>0</td>\n",
       "      <td>1</td>\n",
       "      <td>0</td>\n",
       "      <td>0</td>\n",
       "      <td>...</td>\n",
       "      <td>0</td>\n",
       "      <td>0</td>\n",
       "      <td>1</td>\n",
       "      <td>0</td>\n",
       "      <td>0</td>\n",
       "      <td>0</td>\n",
       "      <td>1</td>\n",
       "      <td>0</td>\n",
       "      <td>0</td>\n",
       "      <td>1</td>\n",
       "    </tr>\n",
       "    <tr>\n",
       "      <td>3</td>\n",
       "      <td>0</td>\n",
       "      <td>0</td>\n",
       "      <td>1</td>\n",
       "      <td>0</td>\n",
       "      <td>0</td>\n",
       "      <td>0</td>\n",
       "      <td>0</td>\n",
       "      <td>0</td>\n",
       "      <td>1</td>\n",
       "      <td>0</td>\n",
       "      <td>...</td>\n",
       "      <td>0</td>\n",
       "      <td>0</td>\n",
       "      <td>1</td>\n",
       "      <td>0</td>\n",
       "      <td>0</td>\n",
       "      <td>0</td>\n",
       "      <td>1</td>\n",
       "      <td>0</td>\n",
       "      <td>0</td>\n",
       "      <td>1</td>\n",
       "    </tr>\n",
       "    <tr>\n",
       "      <td>4</td>\n",
       "      <td>0</td>\n",
       "      <td>0</td>\n",
       "      <td>1</td>\n",
       "      <td>0</td>\n",
       "      <td>0</td>\n",
       "      <td>0</td>\n",
       "      <td>0</td>\n",
       "      <td>0</td>\n",
       "      <td>0</td>\n",
       "      <td>1</td>\n",
       "      <td>...</td>\n",
       "      <td>0</td>\n",
       "      <td>0</td>\n",
       "      <td>1</td>\n",
       "      <td>0</td>\n",
       "      <td>0</td>\n",
       "      <td>1</td>\n",
       "      <td>0</td>\n",
       "      <td>0</td>\n",
       "      <td>0</td>\n",
       "      <td>1</td>\n",
       "    </tr>\n",
       "    <tr>\n",
       "      <td>...</td>\n",
       "      <td>...</td>\n",
       "      <td>...</td>\n",
       "      <td>...</td>\n",
       "      <td>...</td>\n",
       "      <td>...</td>\n",
       "      <td>...</td>\n",
       "      <td>...</td>\n",
       "      <td>...</td>\n",
       "      <td>...</td>\n",
       "      <td>...</td>\n",
       "      <td>...</td>\n",
       "      <td>...</td>\n",
       "      <td>...</td>\n",
       "      <td>...</td>\n",
       "      <td>...</td>\n",
       "      <td>...</td>\n",
       "      <td>...</td>\n",
       "      <td>...</td>\n",
       "      <td>...</td>\n",
       "      <td>...</td>\n",
       "      <td>...</td>\n",
       "    </tr>\n",
       "    <tr>\n",
       "      <td>110404</td>\n",
       "      <td>0</td>\n",
       "      <td>0</td>\n",
       "      <td>1</td>\n",
       "      <td>0</td>\n",
       "      <td>0</td>\n",
       "      <td>0</td>\n",
       "      <td>0</td>\n",
       "      <td>0</td>\n",
       "      <td>0</td>\n",
       "      <td>0</td>\n",
       "      <td>...</td>\n",
       "      <td>0</td>\n",
       "      <td>0</td>\n",
       "      <td>1</td>\n",
       "      <td>0</td>\n",
       "      <td>0</td>\n",
       "      <td>0</td>\n",
       "      <td>1</td>\n",
       "      <td>0</td>\n",
       "      <td>0</td>\n",
       "      <td>1</td>\n",
       "    </tr>\n",
       "    <tr>\n",
       "      <td>110405</td>\n",
       "      <td>0</td>\n",
       "      <td>1</td>\n",
       "      <td>0</td>\n",
       "      <td>0</td>\n",
       "      <td>0</td>\n",
       "      <td>0</td>\n",
       "      <td>0</td>\n",
       "      <td>0</td>\n",
       "      <td>0</td>\n",
       "      <td>0</td>\n",
       "      <td>...</td>\n",
       "      <td>0</td>\n",
       "      <td>0</td>\n",
       "      <td>1</td>\n",
       "      <td>0</td>\n",
       "      <td>0</td>\n",
       "      <td>0</td>\n",
       "      <td>1</td>\n",
       "      <td>0</td>\n",
       "      <td>1</td>\n",
       "      <td>0</td>\n",
       "    </tr>\n",
       "    <tr>\n",
       "      <td>110406</td>\n",
       "      <td>1</td>\n",
       "      <td>0</td>\n",
       "      <td>0</td>\n",
       "      <td>0</td>\n",
       "      <td>0</td>\n",
       "      <td>0</td>\n",
       "      <td>0</td>\n",
       "      <td>1</td>\n",
       "      <td>0</td>\n",
       "      <td>0</td>\n",
       "      <td>...</td>\n",
       "      <td>0</td>\n",
       "      <td>0</td>\n",
       "      <td>1</td>\n",
       "      <td>0</td>\n",
       "      <td>0</td>\n",
       "      <td>0</td>\n",
       "      <td>1</td>\n",
       "      <td>0</td>\n",
       "      <td>1</td>\n",
       "      <td>0</td>\n",
       "    </tr>\n",
       "    <tr>\n",
       "      <td>110407</td>\n",
       "      <td>0</td>\n",
       "      <td>0</td>\n",
       "      <td>1</td>\n",
       "      <td>0</td>\n",
       "      <td>0</td>\n",
       "      <td>0</td>\n",
       "      <td>0</td>\n",
       "      <td>0</td>\n",
       "      <td>0</td>\n",
       "      <td>0</td>\n",
       "      <td>...</td>\n",
       "      <td>0</td>\n",
       "      <td>0</td>\n",
       "      <td>1</td>\n",
       "      <td>0</td>\n",
       "      <td>0</td>\n",
       "      <td>0</td>\n",
       "      <td>1</td>\n",
       "      <td>0</td>\n",
       "      <td>1</td>\n",
       "      <td>0</td>\n",
       "    </tr>\n",
       "    <tr>\n",
       "      <td>110408</td>\n",
       "      <td>0</td>\n",
       "      <td>0</td>\n",
       "      <td>1</td>\n",
       "      <td>0</td>\n",
       "      <td>0</td>\n",
       "      <td>0</td>\n",
       "      <td>0</td>\n",
       "      <td>0</td>\n",
       "      <td>0</td>\n",
       "      <td>0</td>\n",
       "      <td>...</td>\n",
       "      <td>0</td>\n",
       "      <td>0</td>\n",
       "      <td>1</td>\n",
       "      <td>0</td>\n",
       "      <td>0</td>\n",
       "      <td>0</td>\n",
       "      <td>1</td>\n",
       "      <td>0</td>\n",
       "      <td>0</td>\n",
       "      <td>1</td>\n",
       "    </tr>\n",
       "  </tbody>\n",
       "</table>\n",
       "<p>110409 rows × 206 columns</p>\n",
       "</div>"
      ],
      "text/plain": [
       "        race_0  race_1  race_2  race_3  race_4  age_0  age_1  age_2  age_3  \\\n",
       "0            0       0       1       0       0      1      0      0      0   \n",
       "1            0       0       1       0       0      0      1      0      0   \n",
       "2            1       0       0       0       0      0      0      1      0   \n",
       "3            0       0       1       0       0      0      0      0      1   \n",
       "4            0       0       1       0       0      0      0      0      0   \n",
       "...        ...     ...     ...     ...     ...    ...    ...    ...    ...   \n",
       "110404       0       0       1       0       0      0      0      0      0   \n",
       "110405       0       1       0       0       0      0      0      0      0   \n",
       "110406       1       0       0       0       0      0      0      1      0   \n",
       "110407       0       0       1       0       0      0      0      0      0   \n",
       "110408       0       0       1       0       0      0      0      0      0   \n",
       "\n",
       "        age_4  ...  number_emergency_(0.333, 0.667]  \\\n",
       "0           0  ...                                0   \n",
       "1           0  ...                                0   \n",
       "2           0  ...                                0   \n",
       "3           0  ...                                0   \n",
       "4           1  ...                                0   \n",
       "...       ...  ...                              ...   \n",
       "110404      0  ...                                0   \n",
       "110405      0  ...                                0   \n",
       "110406      0  ...                                0   \n",
       "110407      0  ...                                0   \n",
       "110408      0  ...                                0   \n",
       "\n",
       "        number_emergency_(0.667, 1.0]  number_inpatient_(-0.001, 0.333]  \\\n",
       "0                                   0                                 1   \n",
       "1                                   0                                 1   \n",
       "2                                   0                                 1   \n",
       "3                                   0                                 1   \n",
       "4                                   0                                 1   \n",
       "...                               ...                               ...   \n",
       "110404                              0                                 1   \n",
       "110405                              0                                 1   \n",
       "110406                              0                                 1   \n",
       "110407                              0                                 1   \n",
       "110408                              0                                 1   \n",
       "\n",
       "        number_inpatient_(0.333, 0.667]  number_inpatient_(0.667, 1.0]  \\\n",
       "0                                     0                              0   \n",
       "1                                     0                              0   \n",
       "2                                     0                              0   \n",
       "3                                     0                              0   \n",
       "4                                     0                              0   \n",
       "...                                 ...                            ...   \n",
       "110404                                0                              0   \n",
       "110405                                0                              0   \n",
       "110406                                0                              0   \n",
       "110407                                0                              0   \n",
       "110408                                0                              0   \n",
       "\n",
       "        number_diagnoses_(-0.001, 0.333]  number_diagnoses_(0.333, 0.667]  \\\n",
       "0                                      1                                0   \n",
       "1                                      0                                1   \n",
       "2                                      0                                1   \n",
       "3                                      0                                1   \n",
       "4                                      1                                0   \n",
       "...                                  ...                              ...   \n",
       "110404                                 0                                1   \n",
       "110405                                 0                                1   \n",
       "110406                                 0                                1   \n",
       "110407                                 0                                1   \n",
       "110408                                 0                                1   \n",
       "\n",
       "        number_diagnoses_(0.667, 1.0]  diabetesMed_0  diabetesMed_1  \n",
       "0                                   0              1              0  \n",
       "1                                   0              0              1  \n",
       "2                                   0              0              1  \n",
       "3                                   0              0              1  \n",
       "4                                   0              0              1  \n",
       "...                               ...            ...            ...  \n",
       "110404                              0              0              1  \n",
       "110405                              0              1              0  \n",
       "110406                              0              1              0  \n",
       "110407                              0              1              0  \n",
       "110408                              0              0              1  \n",
       "\n",
       "[110409 rows x 206 columns]"
      ]
     },
     "execution_count": 348,
     "metadata": {},
     "output_type": "execute_result"
    }
   ],
   "source": [
    "data_b_readmit"
   ]
  },
  {
   "cell_type": "code",
   "execution_count": 349,
   "metadata": {},
   "outputs": [
    {
     "data": {
      "text/plain": [
       "array([2, 1, 0], dtype=int64)"
      ]
     },
     "execution_count": 349,
     "metadata": {},
     "output_type": "execute_result"
    }
   ],
   "source": [
    "y2_re.unique()"
   ]
  },
  {
   "cell_type": "code",
   "execution_count": 350,
   "metadata": {},
   "outputs": [
    {
     "data": {
      "text/html": [
       "<div>\n",
       "<style scoped>\n",
       "    .dataframe tbody tr th:only-of-type {\n",
       "        vertical-align: middle;\n",
       "    }\n",
       "\n",
       "    .dataframe tbody tr th {\n",
       "        vertical-align: top;\n",
       "    }\n",
       "\n",
       "    .dataframe thead th {\n",
       "        text-align: right;\n",
       "    }\n",
       "</style>\n",
       "<table border=\"1\" class=\"dataframe\">\n",
       "  <thead>\n",
       "    <tr style=\"text-align: right;\">\n",
       "      <th></th>\n",
       "      <th>race_0</th>\n",
       "      <th>race_1</th>\n",
       "      <th>race_2</th>\n",
       "      <th>race_3</th>\n",
       "      <th>race_4</th>\n",
       "      <th>age_0</th>\n",
       "      <th>age_1</th>\n",
       "      <th>age_2</th>\n",
       "      <th>age_3</th>\n",
       "      <th>age_4</th>\n",
       "      <th>...</th>\n",
       "      <th>number_emergency_(0.333, 0.667]</th>\n",
       "      <th>number_emergency_(0.667, 1.0]</th>\n",
       "      <th>number_inpatient_(-0.001, 0.333]</th>\n",
       "      <th>number_inpatient_(0.333, 0.667]</th>\n",
       "      <th>number_inpatient_(0.667, 1.0]</th>\n",
       "      <th>number_diagnoses_(-0.001, 0.333]</th>\n",
       "      <th>number_diagnoses_(0.333, 0.667]</th>\n",
       "      <th>number_diagnoses_(0.667, 1.0]</th>\n",
       "      <th>diabetesMed_0</th>\n",
       "      <th>diabetesMed_1</th>\n",
       "    </tr>\n",
       "  </thead>\n",
       "  <tbody>\n",
       "    <tr>\n",
       "      <td>0</td>\n",
       "      <td>0</td>\n",
       "      <td>0</td>\n",
       "      <td>1</td>\n",
       "      <td>0</td>\n",
       "      <td>0</td>\n",
       "      <td>1</td>\n",
       "      <td>0</td>\n",
       "      <td>0</td>\n",
       "      <td>0</td>\n",
       "      <td>0</td>\n",
       "      <td>...</td>\n",
       "      <td>0</td>\n",
       "      <td>0</td>\n",
       "      <td>1</td>\n",
       "      <td>0</td>\n",
       "      <td>0</td>\n",
       "      <td>1</td>\n",
       "      <td>0</td>\n",
       "      <td>0</td>\n",
       "      <td>1</td>\n",
       "      <td>0</td>\n",
       "    </tr>\n",
       "    <tr>\n",
       "      <td>1</td>\n",
       "      <td>0</td>\n",
       "      <td>0</td>\n",
       "      <td>1</td>\n",
       "      <td>0</td>\n",
       "      <td>0</td>\n",
       "      <td>0</td>\n",
       "      <td>1</td>\n",
       "      <td>0</td>\n",
       "      <td>0</td>\n",
       "      <td>0</td>\n",
       "      <td>...</td>\n",
       "      <td>0</td>\n",
       "      <td>0</td>\n",
       "      <td>1</td>\n",
       "      <td>0</td>\n",
       "      <td>0</td>\n",
       "      <td>0</td>\n",
       "      <td>1</td>\n",
       "      <td>0</td>\n",
       "      <td>0</td>\n",
       "      <td>1</td>\n",
       "    </tr>\n",
       "    <tr>\n",
       "      <td>2</td>\n",
       "      <td>1</td>\n",
       "      <td>0</td>\n",
       "      <td>0</td>\n",
       "      <td>0</td>\n",
       "      <td>0</td>\n",
       "      <td>0</td>\n",
       "      <td>0</td>\n",
       "      <td>1</td>\n",
       "      <td>0</td>\n",
       "      <td>0</td>\n",
       "      <td>...</td>\n",
       "      <td>0</td>\n",
       "      <td>0</td>\n",
       "      <td>1</td>\n",
       "      <td>0</td>\n",
       "      <td>0</td>\n",
       "      <td>0</td>\n",
       "      <td>1</td>\n",
       "      <td>0</td>\n",
       "      <td>0</td>\n",
       "      <td>1</td>\n",
       "    </tr>\n",
       "    <tr>\n",
       "      <td>3</td>\n",
       "      <td>0</td>\n",
       "      <td>0</td>\n",
       "      <td>1</td>\n",
       "      <td>0</td>\n",
       "      <td>0</td>\n",
       "      <td>0</td>\n",
       "      <td>0</td>\n",
       "      <td>0</td>\n",
       "      <td>1</td>\n",
       "      <td>0</td>\n",
       "      <td>...</td>\n",
       "      <td>0</td>\n",
       "      <td>0</td>\n",
       "      <td>1</td>\n",
       "      <td>0</td>\n",
       "      <td>0</td>\n",
       "      <td>0</td>\n",
       "      <td>1</td>\n",
       "      <td>0</td>\n",
       "      <td>0</td>\n",
       "      <td>1</td>\n",
       "    </tr>\n",
       "    <tr>\n",
       "      <td>4</td>\n",
       "      <td>0</td>\n",
       "      <td>0</td>\n",
       "      <td>1</td>\n",
       "      <td>0</td>\n",
       "      <td>0</td>\n",
       "      <td>0</td>\n",
       "      <td>0</td>\n",
       "      <td>0</td>\n",
       "      <td>0</td>\n",
       "      <td>1</td>\n",
       "      <td>...</td>\n",
       "      <td>0</td>\n",
       "      <td>0</td>\n",
       "      <td>1</td>\n",
       "      <td>0</td>\n",
       "      <td>0</td>\n",
       "      <td>1</td>\n",
       "      <td>0</td>\n",
       "      <td>0</td>\n",
       "      <td>0</td>\n",
       "      <td>1</td>\n",
       "    </tr>\n",
       "    <tr>\n",
       "      <td>...</td>\n",
       "      <td>...</td>\n",
       "      <td>...</td>\n",
       "      <td>...</td>\n",
       "      <td>...</td>\n",
       "      <td>...</td>\n",
       "      <td>...</td>\n",
       "      <td>...</td>\n",
       "      <td>...</td>\n",
       "      <td>...</td>\n",
       "      <td>...</td>\n",
       "      <td>...</td>\n",
       "      <td>...</td>\n",
       "      <td>...</td>\n",
       "      <td>...</td>\n",
       "      <td>...</td>\n",
       "      <td>...</td>\n",
       "      <td>...</td>\n",
       "      <td>...</td>\n",
       "      <td>...</td>\n",
       "      <td>...</td>\n",
       "      <td>...</td>\n",
       "    </tr>\n",
       "    <tr>\n",
       "      <td>110404</td>\n",
       "      <td>0</td>\n",
       "      <td>0</td>\n",
       "      <td>1</td>\n",
       "      <td>0</td>\n",
       "      <td>0</td>\n",
       "      <td>0</td>\n",
       "      <td>0</td>\n",
       "      <td>0</td>\n",
       "      <td>0</td>\n",
       "      <td>0</td>\n",
       "      <td>...</td>\n",
       "      <td>0</td>\n",
       "      <td>0</td>\n",
       "      <td>1</td>\n",
       "      <td>0</td>\n",
       "      <td>0</td>\n",
       "      <td>0</td>\n",
       "      <td>1</td>\n",
       "      <td>0</td>\n",
       "      <td>0</td>\n",
       "      <td>1</td>\n",
       "    </tr>\n",
       "    <tr>\n",
       "      <td>110405</td>\n",
       "      <td>0</td>\n",
       "      <td>1</td>\n",
       "      <td>0</td>\n",
       "      <td>0</td>\n",
       "      <td>0</td>\n",
       "      <td>0</td>\n",
       "      <td>0</td>\n",
       "      <td>0</td>\n",
       "      <td>0</td>\n",
       "      <td>0</td>\n",
       "      <td>...</td>\n",
       "      <td>0</td>\n",
       "      <td>0</td>\n",
       "      <td>1</td>\n",
       "      <td>0</td>\n",
       "      <td>0</td>\n",
       "      <td>0</td>\n",
       "      <td>1</td>\n",
       "      <td>0</td>\n",
       "      <td>1</td>\n",
       "      <td>0</td>\n",
       "    </tr>\n",
       "    <tr>\n",
       "      <td>110406</td>\n",
       "      <td>1</td>\n",
       "      <td>0</td>\n",
       "      <td>0</td>\n",
       "      <td>0</td>\n",
       "      <td>0</td>\n",
       "      <td>0</td>\n",
       "      <td>0</td>\n",
       "      <td>1</td>\n",
       "      <td>0</td>\n",
       "      <td>0</td>\n",
       "      <td>...</td>\n",
       "      <td>0</td>\n",
       "      <td>0</td>\n",
       "      <td>1</td>\n",
       "      <td>0</td>\n",
       "      <td>0</td>\n",
       "      <td>0</td>\n",
       "      <td>1</td>\n",
       "      <td>0</td>\n",
       "      <td>1</td>\n",
       "      <td>0</td>\n",
       "    </tr>\n",
       "    <tr>\n",
       "      <td>110407</td>\n",
       "      <td>0</td>\n",
       "      <td>0</td>\n",
       "      <td>1</td>\n",
       "      <td>0</td>\n",
       "      <td>0</td>\n",
       "      <td>0</td>\n",
       "      <td>0</td>\n",
       "      <td>0</td>\n",
       "      <td>0</td>\n",
       "      <td>0</td>\n",
       "      <td>...</td>\n",
       "      <td>0</td>\n",
       "      <td>0</td>\n",
       "      <td>1</td>\n",
       "      <td>0</td>\n",
       "      <td>0</td>\n",
       "      <td>0</td>\n",
       "      <td>1</td>\n",
       "      <td>0</td>\n",
       "      <td>1</td>\n",
       "      <td>0</td>\n",
       "    </tr>\n",
       "    <tr>\n",
       "      <td>110408</td>\n",
       "      <td>0</td>\n",
       "      <td>0</td>\n",
       "      <td>1</td>\n",
       "      <td>0</td>\n",
       "      <td>0</td>\n",
       "      <td>0</td>\n",
       "      <td>0</td>\n",
       "      <td>0</td>\n",
       "      <td>0</td>\n",
       "      <td>0</td>\n",
       "      <td>...</td>\n",
       "      <td>0</td>\n",
       "      <td>0</td>\n",
       "      <td>1</td>\n",
       "      <td>0</td>\n",
       "      <td>0</td>\n",
       "      <td>0</td>\n",
       "      <td>1</td>\n",
       "      <td>0</td>\n",
       "      <td>0</td>\n",
       "      <td>1</td>\n",
       "    </tr>\n",
       "  </tbody>\n",
       "</table>\n",
       "<p>110409 rows × 206 columns</p>\n",
       "</div>"
      ],
      "text/plain": [
       "        race_0  race_1  race_2  race_3  race_4  age_0  age_1  age_2  age_3  \\\n",
       "0            0       0       1       0       0      1      0      0      0   \n",
       "1            0       0       1       0       0      0      1      0      0   \n",
       "2            1       0       0       0       0      0      0      1      0   \n",
       "3            0       0       1       0       0      0      0      0      1   \n",
       "4            0       0       1       0       0      0      0      0      0   \n",
       "...        ...     ...     ...     ...     ...    ...    ...    ...    ...   \n",
       "110404       0       0       1       0       0      0      0      0      0   \n",
       "110405       0       1       0       0       0      0      0      0      0   \n",
       "110406       1       0       0       0       0      0      0      1      0   \n",
       "110407       0       0       1       0       0      0      0      0      0   \n",
       "110408       0       0       1       0       0      0      0      0      0   \n",
       "\n",
       "        age_4  ...  number_emergency_(0.333, 0.667]  \\\n",
       "0           0  ...                                0   \n",
       "1           0  ...                                0   \n",
       "2           0  ...                                0   \n",
       "3           0  ...                                0   \n",
       "4           1  ...                                0   \n",
       "...       ...  ...                              ...   \n",
       "110404      0  ...                                0   \n",
       "110405      0  ...                                0   \n",
       "110406      0  ...                                0   \n",
       "110407      0  ...                                0   \n",
       "110408      0  ...                                0   \n",
       "\n",
       "        number_emergency_(0.667, 1.0]  number_inpatient_(-0.001, 0.333]  \\\n",
       "0                                   0                                 1   \n",
       "1                                   0                                 1   \n",
       "2                                   0                                 1   \n",
       "3                                   0                                 1   \n",
       "4                                   0                                 1   \n",
       "...                               ...                               ...   \n",
       "110404                              0                                 1   \n",
       "110405                              0                                 1   \n",
       "110406                              0                                 1   \n",
       "110407                              0                                 1   \n",
       "110408                              0                                 1   \n",
       "\n",
       "        number_inpatient_(0.333, 0.667]  number_inpatient_(0.667, 1.0]  \\\n",
       "0                                     0                              0   \n",
       "1                                     0                              0   \n",
       "2                                     0                              0   \n",
       "3                                     0                              0   \n",
       "4                                     0                              0   \n",
       "...                                 ...                            ...   \n",
       "110404                                0                              0   \n",
       "110405                                0                              0   \n",
       "110406                                0                              0   \n",
       "110407                                0                              0   \n",
       "110408                                0                              0   \n",
       "\n",
       "        number_diagnoses_(-0.001, 0.333]  number_diagnoses_(0.333, 0.667]  \\\n",
       "0                                      1                                0   \n",
       "1                                      0                                1   \n",
       "2                                      0                                1   \n",
       "3                                      0                                1   \n",
       "4                                      1                                0   \n",
       "...                                  ...                              ...   \n",
       "110404                                 0                                1   \n",
       "110405                                 0                                1   \n",
       "110406                                 0                                1   \n",
       "110407                                 0                                1   \n",
       "110408                                 0                                1   \n",
       "\n",
       "        number_diagnoses_(0.667, 1.0]  diabetesMed_0  diabetesMed_1  \n",
       "0                                   0              1              0  \n",
       "1                                   0              0              1  \n",
       "2                                   0              0              1  \n",
       "3                                   0              0              1  \n",
       "4                                   0              0              1  \n",
       "...                               ...            ...            ...  \n",
       "110404                              0              0              1  \n",
       "110405                              0              1              0  \n",
       "110406                              0              1              0  \n",
       "110407                              0              1              0  \n",
       "110408                              0              0              1  \n",
       "\n",
       "[110409 rows x 206 columns]"
      ]
     },
     "execution_count": 350,
     "metadata": {},
     "output_type": "execute_result"
    }
   ],
   "source": [
    "data_b_readmit"
   ]
  },
  {
   "cell_type": "code",
   "execution_count": 308,
   "metadata": {},
   "outputs": [
    {
     "name": "stdout",
     "output_type": "stream",
     "text": [
      "Test Accuracy by Hold-out Eval: 0.4233824144177621\n",
      "Train Accuracy by Hold-out Eval: 0.42803892424172046\n",
      "Precision: 0.423\n",
      "Recall: 0.423\n",
      "F1 score: 0.423382\n"
     ]
    }
   ],
   "source": [
    "# readmitted data split for balanced data\n",
    "# Naive Bayes classification for readmitted in case of balanced data\n",
    "\n",
    "x2_train, x2_test, y2_train, y2_test = train_test_split(data_final_re, y2_re, test_size=0.2)\n",
    "\n",
    "clf = GaussianNB()\n",
    "clf.fit(x2_train, y2_train)\n",
    "y2_pred=clf.predict(x2_test)\n",
    "print(\"Test Accuracy by Hold-out Eval:\",accuracy_score(y2_pred,y2_test))\n",
    "y2_pred_train=clf.predict(x2_train)\n",
    "print(\"Train Accuracy by Hold-out Eval:\",accuracy_score(y2_pred_train,y2_train))\n",
    "confusion_matrix(y2_test, y2_pred, labels=[0, 1, 2])\n",
    "precision = precision_score(y2_test, y2_pred, labels=[0,1,2], average='micro')\n",
    "print('Precision: %.3f' % precision)\n",
    "recall = recall_score(y2_test, y2_pred, labels=[0,1,2], average='micro')\n",
    "print('Recall: %.3f' % recall)\n",
    "f1 = f1_score(y2_test, y2_pred, labels=[0,1,2], average='micro')\n",
    "print('F1 score: %f' % f1)"
   ]
  },
  {
   "cell_type": "code",
   "execution_count": 352,
   "metadata": {},
   "outputs": [
    {
     "name": "stdout",
     "output_type": "stream",
     "text": [
      "Explained variance:  [0.07395703 0.06682997 0.05070612 0.04961407 0.04032007 0.03864059\n",
      " 0.03468211 0.03031498 0.02738712 0.02561437 0.02493911 0.02389163\n",
      " 0.02233485 0.02175577 0.02096182 0.02026628 0.0198269  0.01861554\n",
      " 0.01820141 0.01689187]\n",
      "\n",
      "PCAs:\n",
      " [[-3.91243695e-02  5.77442795e-04  4.06932435e-02 ...  1.20714350e-01\n",
      "  -1.20501306e-01 -2.13044029e-04]\n",
      " [-2.82104910e-02 -5.74792947e-04  2.63959424e-02 ...  4.09212580e-03\n",
      "  -4.10371989e-03  1.15940859e-05]\n",
      " [-1.23491557e-01 -1.92597548e-03  1.40426441e-01 ... -1.99329486e-01\n",
      "   1.99154723e-01  1.74763303e-04]\n",
      " ...\n",
      " [-3.75820214e-03 -8.86346795e-04  7.57481512e-03 ... -3.44440987e-02\n",
      "   3.48538795e-02 -4.09780857e-04]\n",
      " [ 6.88573718e-02  4.15310778e-03 -9.60310978e-02 ...  1.07320724e-02\n",
      "  -1.04071808e-02 -3.24891546e-04]\n",
      " [-6.03233872e-02 -2.44028160e-04  4.98854933e-02 ... -4.14082311e-02\n",
      "   4.20044178e-02 -5.96186718e-04]]\n",
      "Index(['num_lab_procedures_(-0.001, 0.333]', 'change_0',\n",
      "       'num_lab_procedures_(0.333, 0.667]', 'gender_0',\n",
      "       'num_lab_procedures_(0.333, 0.667]', 'discharge_disposition_id_1',\n",
      "       'insulin_1', 'race_0', 'number_diagnoses_(-0.001, 0.333]', 'diag_3_0',\n",
      "       'insulin_2', 'diag_3_7', 'age_7', 'diag_2_7', 'diag_3_1', 'glipizide_2',\n",
      "       'admission_type_id_2', 'age_5', 'admission_type_id_2', 'A1Cresult_1'],\n",
      "      dtype='object')\n"
     ]
    },
    {
     "data": {
      "text/plain": [
       "(101766, 20)"
      ]
     },
     "execution_count": 352,
     "metadata": {},
     "output_type": "execute_result"
    }
   ],
   "source": [
    "# PCA for diabetesMed in case of unbalanced data\n",
    "\n",
    "from sklearn.decomposition import PCA\n",
    "from IPython.display import display, HTML\n",
    "\n",
    "pca = PCA(n_components=20)\n",
    "fit = pca.fit(data_u)\n",
    "\n",
    "print('Explained variance: ', fit.explained_variance_ratio_)\n",
    "print('\\nPCAs:\\n', fit.components_)\n",
    "\n",
    "PCAs = pca.fit_transform(data_u)\n",
    "\n",
    "# finding top 20 pca components\n",
    "imp_features = []\n",
    "for i in range(pca.n_components):\n",
    "    index = np.where(pca.components_[i] == pca.components_[i].max())\n",
    "    imp_features.append(index[0][0])\n",
    "    \n",
    "print(data_u.iloc[:,imp_features].columns)\n",
    "\n",
    "x = data_u.iloc[:,imp_features]\n",
    "PCAs.shape"
   ]
  },
  {
   "cell_type": "code",
   "execution_count": 298,
   "metadata": {},
   "outputs": [
    {
     "name": "stdout",
     "output_type": "stream",
     "text": [
      "Explained variance:  [0.0350599  0.02425096 0.02314611 0.02271623 0.02219288 0.02150139\n",
      " 0.02121156 0.02079166 0.0205186  0.02007484 0.01957513 0.0193197\n",
      " 0.01913881 0.01862983 0.01843102 0.01820306 0.01776929 0.01759635\n",
      " 0.01710775 0.01682093]\n",
      "\n",
      "PCAs:\n",
      " [[ 6.71980876e-02  1.41556063e-02  1.39113272e-02 ...  1.43894388e-01\n",
      "   2.85214829e-02  1.11633085e-03]\n",
      " [-2.15693626e-02 -6.33971760e-03  6.93737729e-03 ... -4.92803248e-02\n",
      "  -4.02111894e-03 -2.05616963e-04]\n",
      " [ 6.28891046e-03 -1.56568393e-03  1.23250797e-03 ...  1.46719601e-02\n",
      "   5.88910494e-03 -9.49173905e-05]\n",
      " ...\n",
      " [-1.59833151e-02  4.53531719e-05  1.21159347e-03 ... -1.54841689e-01\n",
      "  -8.56690986e-03  3.19408252e-03]\n",
      " [-3.82628214e-03 -1.54640060e-03 -1.01062231e-02 ...  3.78138816e-01\n",
      "  -3.97191617e-03  3.82473645e-03]\n",
      " [ 4.17362115e-02 -9.40556117e-03  2.87233317e-03 ... -1.67830109e-01\n",
      "   2.59691038e-03  9.66555731e-04]]\n",
      "Index(['time_in_hospital_(0.333, 0.667]', 'time_in_hospital_(0.333, 0.667]',\n",
      "       'age_6', 'diag_2_7', 'age_5', 'age_6', 'discharge_disposition_id_6',\n",
      "       'diag_3_7', 'diag_2_8', 'diag_1_7', 'num_procedures_(0.333, 0.667]',\n",
      "       'admission_type_id_2', 'diag_1_8', 'diag_1_8',\n",
      "       'number_diagnoses_(-0.001, 0.333]', 'diag_1_2',\n",
      "       'number_diagnoses_(-0.001, 0.333]', 'num_lab_procedures_(0.333, 0.667]',\n",
      "       'diag_3_8', 'age_4'],\n",
      "      dtype='object')\n"
     ]
    },
    {
     "data": {
      "text/plain": [
       "(117579, 20)"
      ]
     },
     "execution_count": 298,
     "metadata": {},
     "output_type": "execute_result"
    }
   ],
   "source": [
    "# PCA for diabetesMed in case of balanced data\n",
    "\n",
    "from sklearn.decomposition import PCA\n",
    "from IPython.display import display, HTML\n",
    "\n",
    "pca = PCA(n_components=20)\n",
    "fit = pca.fit(data_final_dia)\n",
    "\n",
    "print('Explained variance: ', fit.explained_variance_ratio_)\n",
    "print('\\nPCAs:\\n', fit.components_)\n",
    "\n",
    "PCAs = pca.fit_transform(data_final_dia)\n",
    "\n",
    "# finding top 20 pca components\n",
    "imp_features = []\n",
    "for i in range(pca.n_components):\n",
    "    index = np.where(pca.components_[i] == pca.components_[i].max())\n",
    "    imp_features.append(index[0][0])\n",
    "    \n",
    "print(data_final_dia.iloc[:,imp_features].columns)\n",
    "\n",
    "x = data_final_dia.iloc[:,imp_features]\n",
    "PCAs.shape"
   ]
  },
  {
   "cell_type": "code",
   "execution_count": 299,
   "metadata": {},
   "outputs": [
    {
     "name": "stdout",
     "output_type": "stream",
     "text": [
      "Test Accuracy by Hold-out Eval: 0.7903129783976867\n",
      "Train Accuracy by Hold-out Eval: 0.7878549482793447\n",
      "Precision: 0.762\n",
      "Recall: 1.000\n",
      "F1 score: 0.864849\n"
     ]
    }
   ],
   "source": [
    "# Naive Bayes after PCA for diabetesMed\n",
    "\n",
    "x1_train, x1_test, y1_train, y1_test = train_test_split(PCAs, y1_dia, test_size=0.2)\n",
    "clf = GaussianNB()\n",
    "clf.fit(x1_train, y1_train)\n",
    "y1_pred=clf.predict(x1_test)\n",
    "print(\"Test Accuracy by Hold-out Eval:\",accuracy_score(y1_pred,y1_test))\n",
    "y1_pred_train=clf.predict(x1_train)\n",
    "print(\"Train Accuracy by Hold-out Eval:\",accuracy_score(y1_pred_train,y1_train))\n",
    "confusion_matrix(y1_test, y1_pred)\n",
    "precision = precision_score(y1_test, y1_pred, average='binary')\n",
    "print('Precision: %.3f' % precision)\n",
    "recall = recall_score(y1_test, y1_pred, average='binary')\n",
    "print('Recall: %.3f' % recall)\n",
    "f1 = f1_score(y1_test, y1_pred, average='binary')\n",
    "print('F1 score: %f' % f1)"
   ]
  },
  {
   "cell_type": "code",
   "execution_count": 321,
   "metadata": {},
   "outputs": [
    {
     "name": "stdout",
     "output_type": "stream",
     "text": [
      "Explained variance:  [0.04923826 0.02253818 0.02160954 0.02075403 0.01988297 0.01947877\n",
      " 0.01904109 0.01887667 0.01816008 0.01806678 0.01781616 0.01732163\n",
      " 0.01704124 0.0168195  0.01642999 0.01616257 0.0160774  0.01584341\n",
      " 0.01552438 0.01540178]\n",
      "\n",
      "PCAs:\n",
      " [[ 0.08299596  0.01487471  0.02033147 ...  0.00439866  0.00753151\n",
      "   0.03755357]\n",
      " [-0.02962551 -0.01155653 -0.00284772 ... -0.00126285  0.00314168\n",
      "  -0.00546127]\n",
      " [-0.03167029  0.00318853  0.02017395 ...  0.00162035 -0.00196797\n",
      "   0.00399436]\n",
      " ...\n",
      " [ 0.05050245 -0.01459777  0.00526234 ...  0.00101526  0.00120565\n",
      "  -0.01213262]\n",
      " [ 0.00934495 -0.00059126 -0.01466167 ...  0.00039603  0.00247821\n",
      "  -0.01265917]\n",
      " [ 0.04323681 -0.00847743 -0.00635551 ...  0.00894022 -0.00053855\n",
      "   0.01210904]]\n",
      "Index(['diag_3_7', 'diag_3_7', 'diag_2_7', 'diag_3_1',\n",
      "       'time_in_hospital_(0.333, 0.667]', 'time_in_hospital_(0.333, 0.667]',\n",
      "       'discharge_disposition_id_6', 'age_7', 'age_5', 'age_5', 'age_6',\n",
      "       'num_lab_procedures_(0.333, 0.667]', 'age_8', 'gender_0', 'age_7',\n",
      "       'age_4', 'num_procedures_(0.333, 0.667]', 'diag_3_0', 'diag_2_3',\n",
      "       'gender_0'],\n",
      "      dtype='object')\n"
     ]
    },
    {
     "data": {
      "text/plain": [
       "(107645, 20)"
      ]
     },
     "execution_count": 321,
     "metadata": {},
     "output_type": "execute_result"
    }
   ],
   "source": [
    "# PCA for readmitted in case of balanced data\n",
    "\n",
    "from sklearn.decomposition import PCA\n",
    "from IPython.display import display, HTML\n",
    "\n",
    "pca = PCA(n_components=20)\n",
    "fit = pca.fit(data_final_re)\n",
    "\n",
    "print('Explained variance: ', fit.explained_variance_ratio_)\n",
    "print('\\nPCAs:\\n', fit.components_)\n",
    "\n",
    "PCAs = pca.fit_transform(data_final_re)\n",
    "\n",
    "# finding top 20 pca components\n",
    "imp_features = []\n",
    "for i in range(pca.n_components):\n",
    "    index = np.where(pca.components_[i] == pca.components_[i].max())\n",
    "    imp_features.append(index[0][0])\n",
    "    \n",
    "print(data_final_re.iloc[:,imp_features].columns)\n",
    "\n",
    "x = data_final_re.iloc[:,imp_features]\n",
    "PCAs.shape"
   ]
  },
  {
   "cell_type": "code",
   "execution_count": 322,
   "metadata": {},
   "outputs": [
    {
     "name": "stdout",
     "output_type": "stream",
     "text": [
      "Accuracy by Hold-out Eval: 0.5585024850202053\n",
      "Precision: 0.559\n",
      "Recall: 0.559\n",
      "F1 score: 0.558502\n"
     ]
    }
   ],
   "source": [
    "# Naive Bayes after PCA for readmitted in case of balanced data \n",
    "\n",
    "x2_train, x2_test, y2_train, y2_test = train_test_split(PCAs, y2_re, test_size=0.2)\n",
    "clf = GaussianNB()\n",
    "clf.fit(x2_train, y2_train)\n",
    "y2_pred=clf.predict(x2_test)\n",
    "print(\"Accuracy by Hold-out Eval:\",accuracy_score(y2_pred,y2_test))\n",
    "confusion_matrix(y2_test, y2_pred, labels=[0, 1, 2])\n",
    "precision = precision_score(y2_test, y2_pred, labels=[0,1,2], average='micro')\n",
    "print('Precision: %.3f' % precision)\n",
    "recall = recall_score(y2_test, y2_pred, labels=[0,1,2], average='micro')\n",
    "print('Recall: %.3f' % recall)\n",
    "f1 = f1_score(y2_test, y2_pred, labels=[0,1,2], average='micro')\n",
    "print('F1 score: %f' % f1)"
   ]
  },
  {
   "cell_type": "code",
   "execution_count": 190,
   "metadata": {},
   "outputs": [],
   "source": [
    "from sklearn.tree import DecisionTreeClassifier\n",
    "from sklearn.ensemble import BaggingClassifier"
   ]
  },
  {
   "cell_type": "code",
   "execution_count": 286,
   "metadata": {},
   "outputs": [
    {
     "name": "stdout",
     "output_type": "stream",
     "text": [
      "Test Accuracy by Hold-out Eval: 1.0\n",
      "Train Accuracy by Hold-out Eval: 1.0\n",
      "Precision: 1.000\n",
      "Recall: 1.000\n",
      "F1 score: 1.000000\n"
     ]
    }
   ],
   "source": [
    "# decision tree classifier for diabetesMed in case of balanced data\n",
    "\n",
    "#x1_train, x1_test, y1_train, y1_test = train_test_split(data_final_dia, y1_dia, test_size=0.2)\n",
    "clf=DecisionTreeClassifier()\n",
    "clf=clf.fit(x1_train, y1_train)\n",
    "y1_pred=clf.predict(x1_test)\n",
    "print(\"Test Accuracy by Hold-out Eval:\",accuracy_score(y1_pred,y1_test))\n",
    "y1_pred_train=clf.predict(x1_train)\n",
    "print(\"Train Accuracy by Hold-out Eval:\",accuracy_score(y1_pred_train,y1_train))\n",
    "confusion_matrix(y1_test, y1_pred)\n",
    "precision = precision_score(y1_test, y1_pred, average='binary')\n",
    "print('Precision: %.3f' % precision)\n",
    "recall = recall_score(y1_test, y1_pred, average='binary')\n",
    "print('Recall: %.3f' % recall)\n",
    "f1 = f1_score(y1_test, y1_pred, average='binary')\n",
    "print('F1 score: %f' % f1)"
   ]
  },
  {
   "cell_type": "code",
   "execution_count": 300,
   "metadata": {},
   "outputs": [
    {
     "name": "stdout",
     "output_type": "stream",
     "text": [
      "Test Accuracy by Hold-out Eval: 0.716363327096445\n",
      "Train Accuracy by Hold-out Eval: 1.0\n",
      "Precision: 0.798\n",
      "Recall: 0.770\n",
      "F1 score: 0.783554\n"
     ]
    }
   ],
   "source": [
    "# decision tree classifier for diabetesMed after PCA\n",
    "\n",
    "x1_train, x1_test, y1_train, y1_test = train_test_split(PCAs, y1_dia, test_size=0.2)\n",
    "clf=DecisionTreeClassifier()\n",
    "clf=clf.fit(x1_train, y1_train)\n",
    "y1_pred=clf.predict(x1_test)\n",
    "print(\"Test Accuracy by Hold-out Eval:\",accuracy_score(y1_pred,y1_test))\n",
    "y1_pred_train=clf.predict(x1_train)\n",
    "print(\"Train Accuracy by Hold-out Eval:\",accuracy_score(y1_pred_train,y1_train))\n",
    "confusion_matrix(y1_test, y1_pred)\n",
    "precision = precision_score(y1_test, y1_pred, average='binary')\n",
    "print('Precision: %.3f' % precision)\n",
    "recall = recall_score(y1_test, y1_pred, average='binary')\n",
    "print('Recall: %.3f' % recall)\n",
    "f1 = f1_score(y1_test, y1_pred, average='binary')\n",
    "print('F1 score: %f' % f1)"
   ]
  },
  {
   "cell_type": "code",
   "execution_count": 311,
   "metadata": {},
   "outputs": [
    {
     "name": "stdout",
     "output_type": "stream",
     "text": [
      "Tree Accuracy by hold-out evaluation:  0.48836453156207904\n",
      "Precision: 0.488\n",
      "Recall: 0.488\n",
      "F1 score: 0.488365\n"
     ]
    }
   ],
   "source": [
    "# decision tree classifier for readmitted in case of balanced data\n",
    "\n",
    "x2_train, x2_test, y2_train, y2_test = train_test_split(data_final_re, y2_re, test_size=0.2)\n",
    "clf=DecisionTreeClassifier()\n",
    "clf=clf.fit(x2_train, y2_train)\n",
    "y2_pred=clf.predict(x2_test)\n",
    "acc=accuracy_score(y2_pred, y2_test)\n",
    "print('Tree Accuracy by hold-out evaluation: ',acc)\n",
    "confusion_matrix(y2_test, y2_pred, labels=[0, 1, 2])\n",
    "precision = precision_score(y2_test, y2_pred, labels=[0,1,2], average='micro')\n",
    "print('Precision: %.3f' % precision)\n",
    "recall = recall_score(y2_test, y2_pred, labels=[0,1,2], average='micro')\n",
    "print('Recall: %.3f' % recall)\n",
    "f1 = f1_score(y2_test, y2_pred, labels=[0,1,2], average='micro')\n",
    "print('F1 score: %f' % f1)"
   ]
  },
  {
   "cell_type": "code",
   "execution_count": 323,
   "metadata": {},
   "outputs": [
    {
     "name": "stdout",
     "output_type": "stream",
     "text": [
      "Accuracy by Hold-out Eval: 0.46128477867063034\n",
      "Precision: 0.461\n",
      "Recall: 0.461\n",
      "F1 score: 0.461285\n"
     ]
    }
   ],
   "source": [
    "# decision tree classifier for readmitted after PCA (top 20)\n",
    "\n",
    "x2_train, x2_test, y2_train, y2_test = train_test_split(PCAs, y2_re, test_size=0.2)\n",
    "clf=DecisionTreeClassifier()\n",
    "clf=clf.fit(x2_train, y2_train)\n",
    "y2_pred=clf.predict(x2_test)\n",
    "print(\"Accuracy by Hold-out Eval:\",accuracy_score(y2_pred,y2_test))\n",
    "#y2_pred_train=clf.predict(x2_train)\n",
    "#print(\"Train Accuracy by Hold-out Eval:\",accuracy_score(y2_pred_train,y2_train))\n",
    "confusion_matrix(y2_test, y2_pred, labels=[0, 1, 2])\n",
    "precision = precision_score(y2_test, y2_pred, labels=[0,1,2], average='micro')\n",
    "print('Precision: %.3f' % precision)\n",
    "recall = recall_score(y2_test, y2_pred, labels=[0,1,2], average='micro')\n",
    "print('Recall: %.3f' % recall)\n",
    "f1 = f1_score(y2_test, y2_pred, labels=[0,1,2], average='micro')\n",
    "print('F1 score: %f' % f1)"
   ]
  },
  {
   "cell_type": "code",
   "execution_count": 287,
   "metadata": {},
   "outputs": [
    {
     "name": "stdout",
     "output_type": "stream",
     "text": [
      "Test Accuracy by Hold-out Eval: 0.9999574757611839\n",
      "Train Accuracy by Hold-out Eval: 1.0\n",
      "Precision: 1.000\n",
      "Recall: 1.000\n",
      "F1 score: 0.999968\n"
     ]
    }
   ],
   "source": [
    "# Bagging method for diabetesMed using Decision Tree classifier\n",
    "\n",
    "#x1_train, x1_test, y1_train, y1_test = train_test_split(data_b_diab, y1_d, test_size=0.2)\n",
    "tree = DecisionTreeClassifier()\n",
    "bag = BaggingClassifier(tree, n_estimators=100, max_samples=0.8, random_state=1)\n",
    "bag=bag.fit(x1_train, y1_train)\n",
    "y1_pred=bag.predict(x1_test)\n",
    "print(\"Test Accuracy by Hold-out Eval:\",accuracy_score(y1_pred,y1_test))\n",
    "y1_pred_train=bag.predict(x1_train)\n",
    "print(\"Train Accuracy by Hold-out Eval:\",accuracy_score(y1_pred_train,y1_train))\n",
    "confusion_matrix(y1_test, y1_pred)\n",
    "precision = precision_score(y1_test, y1_pred, average='binary')\n",
    "print('Precision: %.3f' % precision)\n",
    "recall = recall_score(y1_test, y1_pred, average='binary')\n",
    "print('Recall: %.3f' % recall)\n",
    "f1 = f1_score(y1_test, y1_pred, average='binary')\n",
    "print('F1 score: %f' % f1)"
   ]
  },
  {
   "cell_type": "code",
   "execution_count": 302,
   "metadata": {},
   "outputs": [
    {
     "name": "stdout",
     "output_type": "stream",
     "text": [
      "Tree Accuracy by hold-out evaluation:  0.7895900663378126\n",
      "Precision: 0.788\n",
      "Recall: 0.935\n",
      "F1 score: 0.854948\n"
     ]
    }
   ],
   "source": [
    "# Bagging method for diabetesMed using Decision Tree classifier after PCA\n",
    "\n",
    "x1_train, x1_test, y1_train, y1_test = train_test_split(PCAs, y1_dia, test_size=0.2)\n",
    "tree = DecisionTreeClassifier()\n",
    "bag = BaggingClassifier(tree, n_estimators=128, max_samples=0.8, random_state=1)\n",
    "bag=bag.fit(x1_train, y1_train)\n",
    "y1_pred=bag.predict(x1_test)\n",
    "acc=accuracy_score(y1_pred, y1_test)\n",
    "print('Tree Accuracy by hold-out evaluation: ',acc)\n",
    "confusion_matrix(y1_test, y1_pred)\n",
    "precision = precision_score(y1_test, y1_pred, average='binary')\n",
    "print('Precision: %.3f' % precision)\n",
    "recall = recall_score(y1_test, y1_pred, average='binary')\n",
    "print('Recall: %.3f' % recall)\n",
    "f1 = f1_score(y1_test, y1_pred, average='binary')\n",
    "print('F1 score: %f' % f1)"
   ]
  },
  {
   "cell_type": "code",
   "execution_count": 315,
   "metadata": {},
   "outputs": [
    {
     "name": "stdout",
     "output_type": "stream",
     "text": [
      "Tree Accuracy by hold-out evaluation:  0.559988852245808\n",
      "Precision: 0.560\n",
      "Recall: 0.560\n",
      "F1 score: 0.559989\n"
     ]
    }
   ],
   "source": [
    "# Bagging method for readmission using Decision Tree classifier\n",
    "\n",
    "x2_train, x2_test, y2_train, y2_test = train_test_split(data_final_re, y2_re, test_size=0.2)\n",
    "tree = DecisionTreeClassifier()\n",
    "bag = BaggingClassifier(tree, n_estimators=100, max_samples=0.8, random_state=1)\n",
    "bag=bag.fit(x2_train, y2_train)\n",
    "y2_pred=bag.predict(x2_test)\n",
    "acc=accuracy_score(y2_pred, y2_test)\n",
    "print('Tree Accuracy by hold-out evaluation: ',acc)\n",
    "confusion_matrix(y2_test, y2_pred, labels=[0, 1, 2])\n",
    "precision = precision_score(y2_test, y2_pred, labels=[0,1,2], average='micro')\n",
    "print('Precision: %.3f' % precision)\n",
    "recall = recall_score(y2_test, y2_pred, labels=[0,1,2], average='micro')\n",
    "print('Recall: %.3f' % recall)\n",
    "f1 = f1_score(y2_test, y2_pred, labels=[0,1,2], average='micro')\n",
    "print('F1 score: %f' % f1)"
   ]
  },
  {
   "cell_type": "code",
   "execution_count": 324,
   "metadata": {},
   "outputs": [
    {
     "name": "stdout",
     "output_type": "stream",
     "text": [
      "Tree Accuracy by hold-out evaluation:  0.5504668122067908\n",
      "Precision: 0.550\n",
      "Recall: 0.550\n",
      "F1 score: 0.550467\n"
     ]
    }
   ],
   "source": [
    "#  Bagging method for readmission using Decision Tree classifier after PCA\n",
    "\n",
    "x2_train, x2_test, y2_train, y2_test = train_test_split(PCAs, y2_re, test_size=0.2)\n",
    "tree = DecisionTreeClassifier()\n",
    "bag = BaggingClassifier(tree, n_estimators=128, max_samples=0.8, random_state=1)\n",
    "bag=bag.fit(x2_train, y2_train)\n",
    "y2_pred=bag.predict(x2_test)\n",
    "acc=accuracy_score(y2_pred, y2_test)\n",
    "print('Tree Accuracy by hold-out evaluation: ',acc)\n",
    "confusion_matrix(y2_test, y2_pred, labels=[0, 1, 2])\n",
    "precision = precision_score(y2_test, y2_pred, labels=[0,1,2], average='micro')\n",
    "print('Precision: %.3f' % precision)\n",
    "recall = recall_score(y2_test, y2_pred, labels=[0,1,2], average='micro')\n",
    "print('Recall: %.3f' % recall)\n",
    "f1 = f1_score(y2_test, y2_pred, labels=[0,1,2], average='micro')\n",
    "print('F1 score: %f' % f1)"
   ]
  },
  {
   "cell_type": "code",
   "execution_count": 288,
   "metadata": {
    "scrolled": true
   },
   "outputs": [],
   "source": [
    "# random forest classifier for diabetesMed\n",
    "\n",
    "#x1_train, x1_test, y1_train, y1_test = train_test_split(data_b_diab, y1_d, test_size=0.2)\n",
    "\n",
    "from sklearn.ensemble import RandomForestClassifier\n",
    "from sklearn.metrics import roc_auc_score\n",
    "model = RandomForestClassifier(n_estimators=100, \n",
    "                               bootstrap = True,\n",
    "                               max_features = 'sqrt')\n",
    "model.fit(x1_train, y1_train)\n",
    "model.feature_importances_\n",
    "rf_predictions = model.predict(x1_test)\n",
    "rf_probs = model.predict_proba(x1_test)[:, 1]\n",
    "roc_value = roc_auc_score(y1_test, rf_probs)"
   ]
  },
  {
   "cell_type": "code",
   "execution_count": 289,
   "metadata": {},
   "outputs": [
    {
     "name": "stdout",
     "output_type": "stream",
     "text": [
      "1.0\n",
      "[1. 0. 0. ... 1. 1. 1.]\n",
      "[1 0 0 ... 1 1 1]\n"
     ]
    }
   ],
   "source": [
    "print(roc_value)\n",
    "print(rf_probs)\n",
    "print(rf_predictions)"
   ]
  },
  {
   "cell_type": "code",
   "execution_count": 290,
   "metadata": {},
   "outputs": [
    {
     "name": "stdout",
     "output_type": "stream",
     "text": [
      "Accuracy by Hold-out Eval: 0.9999149515223678\n",
      "Precision: 1.000\n",
      "Recall: 1.000\n",
      "F1 score: 0.999937\n"
     ]
    }
   ],
   "source": [
    "# printing the accuracy , precision and recall for diabetesMed\n",
    "\n",
    "print(\"Accuracy by Hold-out Eval:\",accuracy_score(rf_predictions,y1_test))\n",
    "confusion_matrix(y1_test, rf_predictions)\n",
    "precision = precision_score(y1_test, rf_predictions, average='binary')\n",
    "print('Precision: %.3f' % precision)\n",
    "recall = recall_score(y1_test, rf_predictions, average='binary')\n",
    "print('Recall: %.3f' % recall)\n",
    "f1 = f1_score(y1_test, rf_predictions, average='binary')\n",
    "print('F1 score: %f' % f1)"
   ]
  },
  {
   "cell_type": "code",
   "execution_count": 303,
   "metadata": {},
   "outputs": [],
   "source": [
    "# random forest classifier for diabetesMed after PCA\n",
    "\n",
    "x1_train, x1_test, y1_train, y1_test = train_test_split(PCAs, y1_dia, test_size=0.2)\n",
    "\n",
    "from sklearn.ensemble import RandomForestClassifier\n",
    "from sklearn.metrics import roc_auc_score\n",
    "model = RandomForestClassifier(n_estimators=100, \n",
    "                               bootstrap = True,\n",
    "                               max_features = 'sqrt')\n",
    "model.fit(x1_train, y1_train)\n",
    "model.feature_importances_\n",
    "rf_predictions = model.predict(x1_test)\n",
    "rf_probs = model.predict_proba(x1_test)[:, 1]\n",
    "roc_value = roc_auc_score(y1_test, rf_probs)"
   ]
  },
  {
   "cell_type": "code",
   "execution_count": 304,
   "metadata": {},
   "outputs": [
    {
     "name": "stdout",
     "output_type": "stream",
     "text": [
      "0.7664867831552328\n",
      "[0.5  0.74 0.79 ... 0.77 0.68 0.87]\n",
      "[0 1 1 ... 1 1 1]\n",
      "Accuracy by Hold-out Eval: 0.7942252083687702\n",
      "Precision: 0.794\n",
      "Recall: 0.933\n",
      "F1 score: 0.858206\n"
     ]
    }
   ],
   "source": [
    "# printing the accuracy , precision and recall for diabetesMed after PCA\n",
    "\n",
    "print(roc_value)\n",
    "print(rf_probs)\n",
    "print(rf_predictions)\n",
    "print(\"Accuracy by Hold-out Eval:\",accuracy_score(rf_predictions,y1_test))\n",
    "confusion_matrix(y1_test, rf_predictions)\n",
    "precision = precision_score(y1_test, rf_predictions, average='binary')\n",
    "print('Precision: %.3f' % precision)\n",
    "recall = recall_score(y1_test, rf_predictions, average='binary')\n",
    "print('Recall: %.3f' % recall)\n",
    "f1 = f1_score(y1_test, rf_predictions, average='binary')\n",
    "print('F1 score: %f' % f1)"
   ]
  },
  {
   "cell_type": "code",
   "execution_count": 316,
   "metadata": {},
   "outputs": [],
   "source": [
    "# random forest classifier for readmitted\n",
    "\n",
    "x2_train, x2_test, y2_train, y2_test = train_test_split(data_final_re, y2_re, test_size=0.2)\n",
    "\n",
    "from sklearn.ensemble import RandomForestClassifier\n",
    "from sklearn.metrics import roc_auc_score\n",
    "model = RandomForestClassifier(n_estimators=128, \n",
    "                               bootstrap = True,\n",
    "                               max_features = 'sqrt')\n",
    "model.fit(x2_train, y2_train)\n",
    "model.feature_importances_\n",
    "rf_predictions = model.predict(x2_test)\n",
    "rf_probs = model.predict_proba(x2_test)\n",
    "roc_value = roc_auc_score(y2_test, rf_probs,multi_class='ovr')"
   ]
  },
  {
   "cell_type": "code",
   "execution_count": 317,
   "metadata": {},
   "outputs": [
    {
     "name": "stdout",
     "output_type": "stream",
     "text": [
      "0.6809808762009548\n",
      "[[0.0625     0.2265625  0.7109375 ]\n",
      " [0.1171875  0.453125   0.4296875 ]\n",
      " [0.078125   0.7734375  0.1484375 ]\n",
      " ...\n",
      " [0.1484375  0.51953125 0.33203125]\n",
      " [0.2421875  0.390625   0.3671875 ]\n",
      " [0.1328125  0.3671875  0.5       ]]\n",
      "[2 1 1 ... 1 1 2]\n"
     ]
    }
   ],
   "source": [
    "print(roc_value)\n",
    "print(rf_probs)\n",
    "print(rf_predictions)"
   ]
  },
  {
   "cell_type": "code",
   "execution_count": 271,
   "metadata": {},
   "outputs": [
    {
     "name": "stdout",
     "output_type": "stream",
     "text": [
      "Accuracy by Hold-out Eval: 0.5731692257028774\n",
      "Precision: 0.573\n",
      "Recall: 0.573\n",
      "F1 score: 0.573169\n"
     ]
    }
   ],
   "source": [
    "# printing the accuracy , precision and recall for readmitted\n",
    "\n",
    "print(\"Accuracy by Hold-out Eval:\",accuracy_score(rf_predictions,y2_test))\n",
    "confusion_matrix(y2_test, rf_predictions)\n",
    "precision = precision_score(y2_test, rf_predictions, average='micro')\n",
    "print('Precision: %.3f' % precision)\n",
    "recall = recall_score(y2_test, rf_predictions, average='micro')\n",
    "print('Recall: %.3f' % recall)\n",
    "f1 = f1_score(y2_test, rf_predictions, average='micro')\n",
    "print('F1 score: %f' % f1)"
   ]
  },
  {
   "cell_type": "code",
   "execution_count": 325,
   "metadata": {},
   "outputs": [],
   "source": [
    "# random forest classifier for readmitted after PCA\n",
    "\n",
    "x2_train, x2_test, y2_train, y2_test = train_test_split(PCAs, y2_re, test_size=0.2)\n",
    "\n",
    "from sklearn.ensemble import RandomForestClassifier\n",
    "from sklearn.metrics import roc_auc_score\n",
    "model = RandomForestClassifier(n_estimators=100, \n",
    "                               bootstrap = True,\n",
    "                               max_features = 'sqrt')\n",
    "model.fit(x2_train, y2_train)\n",
    "model.feature_importances_\n",
    "rf_predictions = model.predict(x2_test)\n",
    "rf_probs = model.predict_proba(x2_test)\n",
    "roc_value = roc_auc_score(y2_test, rf_probs,multi_class='ovr')"
   ]
  },
  {
   "cell_type": "code",
   "execution_count": 326,
   "metadata": {},
   "outputs": [
    {
     "name": "stdout",
     "output_type": "stream",
     "text": [
      "0.6404143253531931\n",
      "[[0.1   0.2   0.7  ]\n",
      " [0.155 0.495 0.35 ]\n",
      " [0.11  0.47  0.42 ]\n",
      " ...\n",
      " [1.    0.    0.   ]\n",
      " [0.09  0.33  0.58 ]\n",
      " [0.145 0.445 0.41 ]]\n",
      "[2 1 1 ... 0 2 1]\n",
      "Accuracy by Hold-out Eval: 0.548887547029588\n",
      "Precision: 0.549\n",
      "Recall: 0.549\n",
      "F1 score: 0.548888\n"
     ]
    }
   ],
   "source": [
    "# printing the accuracy , precision and recall for readmitted after PCA\n",
    "\n",
    "print(roc_value)\n",
    "print(rf_probs)\n",
    "print(rf_predictions)\n",
    "print(\"Accuracy by Hold-out Eval:\",accuracy_score(rf_predictions,y2_test))\n",
    "confusion_matrix(y2_test, rf_predictions)\n",
    "precision = precision_score(y2_test, rf_predictions, average='micro')\n",
    "print('Precision: %.3f' % precision)\n",
    "recall = recall_score(y2_test, rf_predictions, average='micro')\n",
    "print('Recall: %.3f' % recall)\n",
    "f1 = f1_score(y2_test, rf_predictions, average='micro')\n",
    "print('F1 score: %f' % f1)"
   ]
  },
  {
   "cell_type": "code",
   "execution_count": 291,
   "metadata": {},
   "outputs": [],
   "source": [
    "from sklearn import ensemble"
   ]
  },
  {
   "cell_type": "code",
   "execution_count": 292,
   "metadata": {},
   "outputs": [
    {
     "name": "stdout",
     "output_type": "stream",
     "text": [
      "      Iter       Train Loss   Remaining Time \n",
      "         1           1.1027            9.58s\n",
      "         2           0.9598            9.67s\n",
      "         3           0.8843           10.13s\n",
      "         4           0.7980           10.32s\n",
      "         5           0.7061           11.55s\n",
      "         6           0.6259           11.94s\n",
      "         7           0.5836           12.33s\n",
      "         8           0.5464           12.65s\n",
      "         9           0.5149           12.86s\n",
      "        10           0.4600           13.10s\n",
      "        11           0.4184           13.26s\n",
      "        12           0.3786           13.28s\n",
      "        13           0.3468           13.41s\n",
      "        14           0.3136           13.37s\n",
      "        15           0.2892           13.31s\n",
      "        16           0.2613           13.30s\n",
      "        17           0.2390           13.29s\n",
      "        18           0.2184           13.25s\n",
      "        19           0.2085           13.47s\n",
      "        20           0.1888           13.46s\n",
      "        21           0.1733           13.42s\n",
      "        22           0.1670           13.36s\n",
      "        23           0.1506           13.34s\n",
      "        24           0.1389           13.24s\n",
      "        25           0.1257           13.15s\n",
      "        26           0.1138           13.05s\n",
      "        27           0.1031           12.92s\n",
      "        28           0.0949           12.78s\n",
      "        29           0.0914           12.69s\n",
      "        30           0.0842           12.56s\n",
      "        31           0.0764           12.53s\n",
      "        32           0.0707           12.39s\n",
      "        33           0.0642           12.29s\n",
      "        34           0.0587           12.18s\n",
      "        35           0.0536           12.03s\n",
      "        36           0.0488           11.86s\n",
      "        37           0.0449           11.73s\n",
      "        38           0.0416           11.63s\n",
      "        39           0.0378           11.50s\n",
      "        40           0.0348           11.33s\n",
      "        41           0.0321           11.16s\n",
      "        42           0.0298           10.95s\n",
      "        43           0.0273           10.79s\n",
      "        44           0.0255           10.60s\n",
      "        45           0.0231           10.43s\n",
      "        46           0.0213           10.34s\n",
      "        47           0.0195           10.15s\n",
      "        48           0.0181           10.02s\n",
      "        49           0.0166            9.83s\n",
      "        50           0.0152            9.65s\n",
      "        51           0.0139            9.45s\n",
      "        52           0.0127            9.27s\n",
      "        53           0.0116            9.04s\n",
      "        54           0.0107            8.84s\n",
      "        55           0.0099            8.63s\n",
      "        56           0.0090            8.42s\n",
      "        57           0.0086            8.21s\n",
      "        58           0.0079            8.00s\n",
      "        59           0.0072            7.79s\n",
      "        60           0.0066            7.60s\n",
      "        61           0.0060            7.38s\n",
      "        62           0.0056            7.15s\n",
      "        63           0.0053            6.95s\n",
      "        64           0.0049            6.75s\n",
      "        65           0.0046            6.52s\n",
      "        66           0.0043            6.33s\n",
      "        67           0.0040            6.12s\n",
      "        68           0.0037            5.93s\n",
      "        69           0.0035            5.72s\n",
      "        70           0.0034            5.52s\n",
      "        71           0.0031            5.32s\n",
      "        72           0.0029            5.12s\n",
      "        73           0.0027            4.92s\n",
      "        74           0.0025            4.73s\n",
      "        75           0.0023            4.54s\n",
      "        76           0.0022            4.34s\n",
      "        77           0.0020            4.14s\n",
      "        78           0.0019            3.93s\n",
      "        79           0.0018            3.75s\n",
      "        80           0.0016            3.56s\n",
      "        81           0.0015            3.37s\n",
      "        82           0.0014            3.18s\n",
      "        83           0.0013            3.00s\n",
      "        84           0.0012            2.81s\n",
      "        85           0.0011            2.63s\n",
      "        86           0.0010            2.45s\n",
      "        87           0.0010            2.27s\n",
      "        88           0.0009            2.09s\n",
      "        89           0.0009            1.91s\n",
      "        90           0.0008            1.73s\n",
      "        91           0.0007            1.56s\n",
      "        92           0.0007            1.38s\n",
      "        93           0.0006            1.21s\n",
      "        94           0.0006            1.03s\n",
      "        95           0.0006            0.86s\n",
      "        96           0.0006            0.68s\n",
      "        97           0.0005            0.51s\n",
      "        98           0.0005            0.34s\n",
      "        99           0.0005            0.17s\n",
      "       100           0.0004            0.00s\n"
     ]
    }
   ],
   "source": [
    "# gradient boosting using ensemble method for diabetesMed- Decision tree\n",
    "\n",
    "#x1_train, x1_test, y1_train, y1_test = train_test_split(data_b_diab, y1_d, test_size=0.2)\n",
    "\n",
    "params = {'n_estimators': 100, 'loss':'deviance', 'max_depth': 16, 'min_samples_split': 64,\n",
    "          'learning_rate': 0.1,'max_features':'sqrt','verbose':4}\n",
    "clf = ensemble.GradientBoostingClassifier(**params)\n",
    "clf = clf.fit(x1_train, y1_train)\n",
    "y1_pred=clf.predict(x1_test)\n"
   ]
  },
  {
   "cell_type": "code",
   "execution_count": 293,
   "metadata": {},
   "outputs": [
    {
     "name": "stdout",
     "output_type": "stream",
     "text": [
      "Test Accuracy by Hold-out Eval: 1.0\n",
      "Train Accuracy by Hold-out Eval: 1.0\n",
      "Precision: 1.000\n",
      "Recall: 1.000\n",
      "F1 score: 1.000000\n"
     ]
    }
   ],
   "source": [
    "# printing the accuracy , precision and recall for diabetesMed\n",
    "\n",
    "print(\"Test Accuracy by Hold-out Eval:\",accuracy_score(y1_pred,y1_test))\n",
    "y1_pred_train=clf.predict(x1_train)\n",
    "print(\"Train Accuracy by Hold-out Eval:\",accuracy_score(y1_pred_train,y1_train))\n",
    "confusion_matrix(y1_test, y1_pred)\n",
    "precision = precision_score(y1_test, y1_pred, average='binary')\n",
    "print('Precision: %.3f' % precision)\n",
    "recall = recall_score(y1_test, y1_pred, average='binary')\n",
    "print('Recall: %.3f' % recall)\n",
    "f1 = f1_score(y1_test, y1_pred, average='binary')\n",
    "print('F1 score: %f' % f1)"
   ]
  },
  {
   "cell_type": "code",
   "execution_count": 305,
   "metadata": {},
   "outputs": [
    {
     "name": "stdout",
     "output_type": "stream",
     "text": [
      "      Iter       Train Loss   Remaining Time \n",
      "         1           1.2074            1.40m\n",
      "         2           1.1543            1.36m\n",
      "         3           1.1127            1.36m\n",
      "         4           1.0786            1.33m\n",
      "         5           1.0507            1.33m\n",
      "         6           1.0287            1.34m\n",
      "         7           1.0059            1.33m\n",
      "         8           0.9853            1.32m\n",
      "         9           0.9715            1.31m\n",
      "        10           0.9598            1.31m\n",
      "        11           0.9430            1.31m\n",
      "        12           0.9326            1.30m\n",
      "        13           0.9234            1.30m\n",
      "        14           0.9107            1.29m\n",
      "        15           0.8981            1.29m\n",
      "        16           0.8906            1.28m\n",
      "        17           0.8848            1.28m\n",
      "        18           0.8734            1.28m\n",
      "        19           0.8633            1.27m\n",
      "        20           0.8570            1.26m\n",
      "        21           0.8494            1.26m\n",
      "        22           0.8429            1.25m\n",
      "        23           0.8382            1.24m\n",
      "        24           0.8321            1.23m\n",
      "        25           0.8281            1.22m\n",
      "        26           0.8216            1.21m\n",
      "        27           0.8149            1.20m\n",
      "        28           0.8103            1.19m\n",
      "        29           0.8064            1.18m\n",
      "        30           0.8018            1.17m\n",
      "        31           0.7981            1.16m\n",
      "        32           0.7938            1.15m\n",
      "        33           0.7903            1.14m\n",
      "        34           0.7843            1.13m\n",
      "        35           0.7810            1.12m\n",
      "        36           0.7771            1.11m\n",
      "        37           0.7730            1.09m\n",
      "        38           0.7695            1.08m\n",
      "        39           0.7650            1.07m\n",
      "        40           0.7627            1.06m\n",
      "        41           0.7563            1.04m\n",
      "        42           0.7532            1.03m\n",
      "        43           0.7493            1.02m\n",
      "        44           0.7436            1.01m\n",
      "        45           0.7361           59.99s\n",
      "        46           0.7317           59.35s\n",
      "        47           0.7263           58.58s\n",
      "        48           0.7239           57.84s\n",
      "        49           0.7168           57.08s\n",
      "        50           0.7073           56.50s\n",
      "        51           0.7026           55.92s\n",
      "        52           0.6990           55.37s\n",
      "        53           0.6887           54.73s\n",
      "        54           0.6834           54.09s\n",
      "        55           0.6806           53.43s\n",
      "        56           0.6766           52.77s\n",
      "        57           0.6688           52.12s\n",
      "        58           0.6636           51.75s\n",
      "        59           0.6552           51.20s\n",
      "        60           0.6491           50.61s\n",
      "        61           0.6422           50.07s\n",
      "        62           0.6368           49.47s\n",
      "        63           0.6294           48.83s\n",
      "        64           0.6237           48.18s\n",
      "        65           0.6169           47.52s\n",
      "        66           0.6111           46.91s\n",
      "        67           0.6054           46.23s\n",
      "        68           0.6008           45.44s\n",
      "        69           0.5944           44.64s\n",
      "        70           0.5896           43.84s\n",
      "        71           0.5845           43.04s\n",
      "        72           0.5799           42.24s\n",
      "        73           0.5748           41.45s\n",
      "        74           0.5692           40.65s\n",
      "        75           0.5646           39.86s\n",
      "        76           0.5598           39.08s\n",
      "        77           0.5568           38.33s\n",
      "        78           0.5531           37.55s\n",
      "        79           0.5488           36.76s\n",
      "        80           0.5450           35.99s\n",
      "        81           0.5399           35.20s\n",
      "        82           0.5353           34.42s\n",
      "        83           0.5312           33.63s\n",
      "        84           0.5272           32.86s\n",
      "        85           0.5221           32.08s\n",
      "        86           0.5200           31.33s\n",
      "        87           0.5168           30.55s\n",
      "        88           0.5142           29.79s\n",
      "        89           0.5111           29.03s\n",
      "        90           0.5073           28.27s\n",
      "        91           0.5045           27.50s\n",
      "        92           0.5005           26.74s\n",
      "        93           0.4968           25.98s\n",
      "        94           0.4934           25.22s\n",
      "        95           0.4896           24.47s\n",
      "        96           0.4868           23.72s\n",
      "        97           0.4826           22.97s\n",
      "        98           0.4799           22.21s\n",
      "        99           0.4780           21.47s\n",
      "       100           0.4742           20.71s\n",
      "       101           0.4705           19.96s\n",
      "       102           0.4681           19.21s\n",
      "       103           0.4646           18.46s\n",
      "       104           0.4612           17.71s\n",
      "       105           0.4559           16.96s\n",
      "       106           0.4534           16.22s\n",
      "       107           0.4495           15.48s\n",
      "       108           0.4461           14.74s\n",
      "       109           0.4437           13.99s\n",
      "       110           0.4400           13.25s\n",
      "       111           0.4369           12.51s\n",
      "       112           0.4352           11.76s\n",
      "       113           0.4330           11.02s\n",
      "       114           0.4297           10.29s\n",
      "       115           0.4267            9.55s\n",
      "       116           0.4229            8.81s\n",
      "       117           0.4196            8.07s\n",
      "       118           0.4163            7.33s\n",
      "       119           0.4136            6.60s\n",
      "       120           0.4107            5.87s\n",
      "       121           0.4085            5.13s\n",
      "       122           0.4068            4.40s\n",
      "       123           0.4037            3.66s\n",
      "       124           0.4007            2.93s\n",
      "       125           0.3983            2.19s\n",
      "       126           0.3952            1.46s\n",
      "       127           0.3915            0.73s\n",
      "       128           0.3889            0.00s\n"
     ]
    }
   ],
   "source": [
    "# gradient boosting for diabetesMed after PCA\n",
    "\n",
    "x1_train, x1_test, y1_train, y1_test = train_test_split(PCAs, y1_dia, test_size=0.2)\n",
    "\n",
    "params = {'n_estimators': 128, 'loss':'deviance', 'max_depth': 16, 'min_samples_split': 64,\n",
    "          'learning_rate': 0.1,'max_features':'sqrt','verbose':4}\n",
    "clf = ensemble.GradientBoostingClassifier(**params)\n",
    "clf = clf.fit(x1_train, y1_train)\n",
    "y1_pred=clf.predict(x1_test)"
   ]
  },
  {
   "cell_type": "code",
   "execution_count": 306,
   "metadata": {},
   "outputs": [
    {
     "name": "stdout",
     "output_type": "stream",
     "text": [
      "Tree Accuracy by hold-out evaluation:  0.7974570505187957\n",
      "Precision: 0.784\n",
      "Recall: 0.961\n",
      "F1 score: 0.863309\n"
     ]
    }
   ],
   "source": [
    "# printing the accuracy , precision and recall for diabetesMed after PCA\n",
    "\n",
    "acc=accuracy_score(y1_pred, y1_test)\n",
    "print('Tree Accuracy by hold-out evaluation: ',acc)\n",
    "confusion_matrix(y1_test, y1_pred)\n",
    "precision = precision_score(y1_test, y1_pred, average='binary')\n",
    "print('Precision: %.3f' % precision)\n",
    "recall = recall_score(y1_test, y1_pred, average='binary')\n",
    "print('Recall: %.3f' % recall)\n",
    "f1 = f1_score(y1_test, y1_pred, average='binary')\n",
    "print('F1 score: %f' % f1)"
   ]
  },
  {
   "cell_type": "code",
   "execution_count": 318,
   "metadata": {},
   "outputs": [
    {
     "name": "stdout",
     "output_type": "stream",
     "text": [
      "      Iter       Train Loss   Remaining Time \n",
      "         1       84668.0737            1.22m\n",
      "         2       83382.9911            1.21m\n",
      "         3       82271.0502            1.19m\n",
      "         4       81376.9220            1.15m\n",
      "         5       80563.5551            1.15m\n",
      "         6       79855.3831            1.15m\n",
      "         7       79207.2393            1.15m\n",
      "         8       78626.2822            1.14m\n",
      "         9       78071.6882            1.14m\n",
      "        10       77508.4486            1.15m\n",
      "        11       77064.7447            1.13m\n",
      "        12       76648.1568            1.13m\n",
      "        13       76274.0744            1.12m\n",
      "        14       75821.1821            1.12m\n",
      "        15       75425.1612            1.12m\n",
      "        16       75111.8020            1.10m\n",
      "        17       74722.1569            1.10m\n",
      "        18       74384.5666            1.10m\n",
      "        19       73997.9521            1.10m\n",
      "        20       73695.1113            1.09m\n",
      "        21       73381.3566            1.09m\n",
      "        22       73118.6681            1.07m\n",
      "        23       72889.2102            1.06m\n",
      "        24       72642.9384            1.06m\n",
      "        25       72472.3590            1.04m\n",
      "        26       72220.5749            1.03m\n",
      "        27       72016.4484            1.02m\n",
      "        28       71709.6716            1.02m\n",
      "        29       71442.3033            1.02m\n",
      "        30       71265.5950            1.00m\n",
      "        31       71058.0999           59.70s\n",
      "        32       70872.5177           59.09s\n",
      "        33       70665.4489           58.60s\n",
      "        34       70484.4088           58.06s\n",
      "        35       70309.2961           57.39s\n",
      "        36       70136.8364           56.82s\n",
      "        37       69968.5518           56.18s\n",
      "        38       69777.3040           55.63s\n",
      "        39       69589.5080           55.23s\n",
      "        40       69411.1584           54.76s\n",
      "        41       69238.0908           54.23s\n",
      "        42       69037.7284           53.86s\n",
      "        43       68894.6599           53.28s\n",
      "        44       68700.3262           52.84s\n",
      "        45       68598.2559           52.14s\n",
      "        46       68464.4802           51.61s\n",
      "        47       68315.0775           51.17s\n",
      "        48       68121.5236           50.72s\n",
      "        49       67929.6042           50.37s\n",
      "        50       67802.9011           49.69s\n",
      "        51       67667.1198           49.06s\n",
      "        52       67558.9496           48.40s\n",
      "        53       67473.0038           47.70s\n",
      "        54       67316.6060           47.06s\n",
      "        55       67143.3602           46.51s\n",
      "        56       66989.5375           45.91s\n",
      "        57       66855.3159           45.29s\n",
      "        58       66684.8114           44.76s\n",
      "        59       66534.0270           44.17s\n",
      "        60       66437.8985           43.58s\n",
      "        61       66281.8777           43.00s\n",
      "        62       66142.3468           42.40s\n",
      "        63       66034.2897           41.75s\n",
      "        64       65954.5741           41.11s\n",
      "        65       65812.5894           40.48s\n",
      "        66       65749.7845           39.79s\n",
      "        67       65667.2119           39.08s\n",
      "        68       65531.7245           38.46s\n",
      "        69       65413.4327           37.84s\n",
      "        70       65306.1496           37.20s\n",
      "        71       65218.6778           36.53s\n",
      "        72       65141.0333           35.84s\n",
      "        73       64966.5925           35.27s\n",
      "        74       64865.3933           34.63s\n",
      "        75       64769.1830           33.96s\n",
      "        76       64696.0623           33.31s\n",
      "        77       64598.6176           32.68s\n",
      "        78       64497.4919           32.03s\n",
      "        79       64442.5416           31.37s\n",
      "        80       64395.8847           30.70s\n",
      "        81       64245.0554           30.11s\n",
      "        82       64080.6626           29.53s\n",
      "        83       64001.4887           28.87s\n",
      "        84       63910.0065           28.31s\n",
      "        85       63827.5967           27.69s\n",
      "        86       63728.3282           27.06s\n",
      "        87       63668.0242           26.39s\n",
      "        88       63564.1731           25.75s\n",
      "        89       63501.9324           25.08s\n",
      "        90       63465.3456           24.39s\n",
      "        91       63353.0975           23.76s\n",
      "        92       63251.0842           23.12s\n",
      "        93       63219.9282           22.46s\n",
      "        94       63084.0522           21.84s\n",
      "        95       62990.8001           21.20s\n",
      "        96       62899.9910           20.56s\n",
      "        97       62751.3520           19.95s\n",
      "        98       62680.7282           19.31s\n",
      "        99       62587.2085           18.69s\n",
      "       100       62480.7865           18.06s\n",
      "       101       62385.2766           17.45s\n",
      "       102       62320.2043           16.80s\n",
      "       103       62306.9938           16.12s\n",
      "       104       62265.7940           15.45s\n",
      "       105       62169.0127           14.81s\n",
      "       106       62131.5606           14.14s\n",
      "       107       62055.5827           13.49s\n",
      "       108       61936.6559           12.84s\n",
      "       109       61802.5078           12.21s\n",
      "       110       61746.5488           11.55s\n",
      "       111       61704.7042           10.90s\n",
      "       112       61620.9550           10.25s\n",
      "       113       61506.1165            9.61s\n",
      "       114       61422.3731            8.96s\n",
      "       115       61365.4909            8.31s\n",
      "       116       61310.4192            7.66s\n",
      "       117       61260.7323            7.02s\n",
      "       118       61200.7373            6.38s\n",
      "       119       61133.3891            5.74s\n",
      "       120       61053.9079            5.10s\n",
      "       121       60967.2443            4.46s\n",
      "       122       60912.3573            3.82s\n",
      "       123       60830.2663            3.18s\n",
      "       124       60760.8653            2.54s\n",
      "       125       60730.8747            1.90s\n",
      "       126       60650.5003            1.27s\n",
      "       127       60545.4523            0.63s\n",
      "       128       60475.2558            0.00s\n"
     ]
    }
   ],
   "source": [
    "# gradient boosting using ensemble for readmitted - decision tree classifier\n",
    "\n",
    "x2_train, x2_test, y2_train, y2_test = train_test_split(data_final_re, y2_re, test_size=0.2)\n",
    "\n",
    "params = {'n_estimators': 128, 'loss':'deviance', 'max_depth': 16, 'min_samples_split': 64,\n",
    "          'learning_rate': 0.1,'max_features':'sqrt','verbose':4}\n",
    "clf = ensemble.GradientBoostingClassifier(**params)\n",
    "clf = clf.fit(x2_train, y2_train)\n",
    "y2_pred=clf.predict(x2_test)"
   ]
  },
  {
   "cell_type": "code",
   "execution_count": 276,
   "metadata": {},
   "outputs": [
    {
     "name": "stdout",
     "output_type": "stream",
     "text": [
      "Tree Accuracy by hold-out evaluation:  0.5601201992343473\n",
      "Precision: 0.560\n",
      "Recall: 0.560\n",
      "F1 score: 0.560120\n"
     ]
    }
   ],
   "source": [
    "# printing the accuracy , precision and recall for readmitted by gradient boosting using ensemble\n",
    "\n",
    "acc=accuracy_score(y2_pred, y2_test)\n",
    "print('Tree Accuracy by hold-out evaluation: ',acc)\n",
    "confusion_matrix(y2_test, y2_pred, labels=[0, 1, 2])\n",
    "precision = precision_score(y2_test, y2_pred, labels=[0,1,2], average='micro')\n",
    "print('Precision: %.3f' % precision)\n",
    "recall = recall_score(y2_test, y2_pred, labels=[0,1,2], average='micro')\n",
    "print('Recall: %.3f' % recall)\n",
    "f1 = f1_score(y2_test, y2_pred, labels=[0,1,2], average='micro')\n",
    "print('F1 score: %f' % f1)"
   ]
  },
  {
   "cell_type": "code",
   "execution_count": 327,
   "metadata": {},
   "outputs": [
    {
     "name": "stdout",
     "output_type": "stream",
     "text": [
      "      Iter       Train Loss   Remaining Time \n",
      "         1       83322.9872            3.86m\n",
      "         2       81035.2389            3.81m\n",
      "         3       79330.6169            3.79m\n",
      "         4       77388.9115            3.76m\n",
      "         5       75943.3586            3.74m\n",
      "         6       74699.4074            3.73m\n",
      "         7       73449.3769            3.70m\n",
      "         8       72564.8454            3.68m\n",
      "         9       71607.1568            3.64m\n",
      "        10       70752.3494            3.63m\n",
      "        11       70132.6267            3.60m\n",
      "        12       69550.2153            3.58m\n",
      "        13       68880.2901            3.56m\n",
      "        14       68410.7161            3.53m\n",
      "        15       67786.1541            3.50m\n",
      "        16       67024.6952            3.47m\n",
      "        17       66381.7897            3.43m\n",
      "        18       65938.4259            3.41m\n",
      "        19       65506.2139            3.38m\n",
      "        20       64967.5302            3.35m\n",
      "        21       64480.1454            3.32m\n",
      "        22       64039.0489            3.29m\n",
      "        23       63527.7556            3.26m\n",
      "        24       63007.8502            3.24m\n",
      "        25       62606.3969            3.21m\n",
      "        26       62086.1604            3.18m\n",
      "        27       61679.5763            3.15m\n",
      "        28       61302.3373            3.12m\n",
      "        29       60860.8988            3.09m\n",
      "        30       60436.4397            3.06m\n",
      "        31       59806.6876            3.03m\n",
      "        32       59357.9016            3.00m\n",
      "        33       58666.7061            2.97m\n",
      "        34       58092.7122            2.94m\n",
      "        35       57582.5734            2.92m\n",
      "        36       57070.9886            2.88m\n",
      "        37       56453.9747            2.85m\n",
      "        38       55893.9173            2.82m\n",
      "        39       55377.0774            2.79m\n",
      "        40       54847.4618            2.76m\n",
      "        41       54306.1391            2.73m\n",
      "        42       53613.0629            2.70m\n",
      "        43       53124.7923            2.67m\n",
      "        44       52450.7346            2.65m\n",
      "        45       51843.1353            2.63m\n",
      "        46       51277.9913            2.61m\n",
      "        47       50707.5501            2.60m\n",
      "        48       50279.9599            2.57m\n",
      "        49       49755.7776            2.54m\n",
      "        50       49104.2485            2.51m\n",
      "        51       48574.3258            2.48m\n",
      "        52       48065.9415            2.46m\n",
      "        53       47508.1204            2.43m\n",
      "        54       47068.4950            2.40m\n",
      "        55       46584.9320            2.37m\n",
      "        56       45988.5262            2.34m\n",
      "        57       45500.9032            2.31m\n",
      "        58       45119.6392            2.28m\n",
      "        59       44669.6844            2.24m\n",
      "        60       44205.0516            2.21m\n",
      "        61       43728.9788            2.18m\n",
      "        62       43271.2448            2.15m\n",
      "        63       42809.5755            2.12m\n",
      "        64       42419.8552            2.09m\n",
      "        65       41987.9882            2.06m\n",
      "        66       41614.5390            2.03m\n",
      "        67       41299.1191            2.00m\n",
      "        68       40877.5011            1.96m\n",
      "        69       40459.7079            1.93m\n",
      "        70       40108.4891            1.90m\n",
      "        71       39615.2344            1.87m\n",
      "        72       39201.2748            1.84m\n",
      "        73       38911.6697            1.81m\n",
      "        74       38537.3159            1.78m\n",
      "        75       38143.8654            1.74m\n",
      "        76       37746.9748            1.72m\n",
      "        77       37393.4526            1.68m\n",
      "        78       37097.5872            1.65m\n",
      "        79       36771.2924            1.62m\n",
      "        80       36422.1154            1.59m\n",
      "        81       36167.1139            1.55m\n",
      "        82       35879.9402            1.52m\n",
      "        83       35570.8092            1.49m\n",
      "        84       35308.8208            1.46m\n",
      "        85       35020.7963            1.42m\n",
      "        86       34702.0102            1.39m\n",
      "        87       34395.8250            1.36m\n",
      "        88       34073.1200            1.33m\n",
      "        89       33792.8410            1.29m\n",
      "        90       33403.7315            1.26m\n",
      "        91       33188.9759            1.23m\n",
      "        92       32769.3867            1.19m\n",
      "        93       32428.4043            1.16m\n",
      "        94       32074.8600            1.13m\n",
      "        95       31739.2052            1.09m\n",
      "        96       31442.2611            1.06m\n",
      "        97       31186.1097            1.03m\n",
      "        98       30880.2497           59.74s\n",
      "        99       30620.2315           57.76s\n",
      "       100       30361.0891           55.77s\n",
      "       101       30034.0261           53.79s\n",
      "       102       29722.2415           51.81s\n",
      "       103       29478.9714           49.83s\n",
      "       104       29332.5941           47.85s\n",
      "       105       29069.6705           45.86s\n",
      "       106       28791.7619           43.88s\n",
      "       107       28629.1181           41.91s\n",
      "       108       28346.3104           39.91s\n",
      "       109       28135.0766           37.92s\n",
      "       110       27896.4697           35.93s\n",
      "       111       27645.6746           33.94s\n",
      "       112       27430.6886           31.94s\n",
      "       113       27157.4217           29.95s\n",
      "       114       26909.1834           27.94s\n",
      "       115       26643.1130           25.98s\n",
      "       116       26431.6209           24.05s\n",
      "       117       26272.4618           22.05s\n",
      "       118       26054.8734           20.04s\n",
      "       119       25864.1595           18.04s\n",
      "       120       25691.3076           16.04s\n",
      "       121       25414.1980           14.06s\n",
      "       122       25243.2503           12.07s\n",
      "       123       25003.1418           10.08s\n",
      "       124       24750.7040            8.07s\n",
      "       125       24579.3092            6.06s\n",
      "       126       24352.0263            4.04s\n",
      "       127       24157.1689            2.02s\n",
      "       128       23972.1893            0.00s\n"
     ]
    }
   ],
   "source": [
    "# gradient boosting using ensemble-decision tree classifier for readmitted after PCA\n",
    "\n",
    "x2_train, x2_test, y2_train, y2_test = train_test_split(PCAs, y2_re, test_size=0.2)\n",
    "\n",
    "params = {'n_estimators': 128, 'loss':'deviance', 'max_depth': 16, 'min_samples_split': 64,\n",
    "          'learning_rate': 0.1,'max_features':'sqrt','verbose':4}\n",
    "clf = ensemble.GradientBoostingClassifier(**params)\n",
    "clf = clf.fit(x2_train, y2_train)\n",
    "y2_pred=clf.predict(x2_test)"
   ]
  },
  {
   "cell_type": "code",
   "execution_count": 328,
   "metadata": {},
   "outputs": [
    {
     "name": "stdout",
     "output_type": "stream",
     "text": [
      "Tree Accuracy by hold-out evaluation:  0.5484230572715871\n",
      "Precision: 0.548\n",
      "Recall: 0.548\n",
      "F1 score: 0.548423\n"
     ]
    }
   ],
   "source": [
    "# printing the accuracy , precision and recall for readmitted by gradient boosting using ensemble after PCA\n",
    "\n",
    "acc=accuracy_score(y2_pred, y2_test)\n",
    "print('Tree Accuracy by hold-out evaluation: ',acc)\n",
    "confusion_matrix(y2_test, y2_pred, labels=[0, 1, 2])\n",
    "precision = precision_score(y2_test, y2_pred, labels=[0,1,2], average='micro')\n",
    "print('Precision: %.3f' % precision)\n",
    "recall = recall_score(y2_test, y2_pred, labels=[0,1,2], average='micro')\n",
    "print('Recall: %.3f' % recall)\n",
    "f1 = f1_score(y2_test, y2_pred, labels=[0,1,2], average='micro')\n",
    "print('F1 score: %f' % f1)"
   ]
  },
  {
   "cell_type": "code",
   "execution_count": 297,
   "metadata": {},
   "outputs": [
    {
     "name": "stdout",
     "output_type": "stream",
     "text": [
      "Accuracy by hold-out evaluation:  1.0\n",
      "Precision: 1.000\n",
      "Recall: 1.000\n",
      "F1 score: 1.000000\n"
     ]
    },
    {
     "name": "stderr",
     "output_type": "stream",
     "text": [
      "C:\\Users\\raina\\Anaconda3\\lib\\site-packages\\sklearn\\svm\\_base.py:947: ConvergenceWarning: Liblinear failed to converge, increase the number of iterations.\n",
      "  \"the number of iterations.\", ConvergenceWarning)\n"
     ]
    }
   ],
   "source": [
    "# SVM for diabetesMed\n",
    "\n",
    "from sklearn.svm import LinearSVC\n",
    "\n",
    "# by hold-out evaluation\n",
    "#x1_train, x1_test, y1_train, y1_test = train_test_split(data_b_diab, y1_d, test_size=0.2)\n",
    "\n",
    "clf = LinearSVC(random_state=0, tol=1e-5, max_iter=168)\n",
    "#clf=SVC(kernel='linear', C=1E10) # C is large -> hard margin; C is small -> soft margin\n",
    "clf=clf.fit(x1_train, y1_train)\n",
    "y1_pred=clf.predict(x1_test)\n",
    "acc=accuracy_score(y1_pred, y1_test)\n",
    "print('Accuracy by hold-out evaluation: ',acc)\n",
    "confusion_matrix(y1_test, y1_pred)\n",
    "precision = precision_score(y1_test, y1_pred, average='binary')\n",
    "print('Precision: %.3f' % precision)\n",
    "recall = recall_score(y1_test, y1_pred, average='binary')\n",
    "print('Recall: %.3f' % recall)\n",
    "f1 = f1_score(y1_test, y1_pred, average='binary')\n",
    "print('F1 score: %f' % f1)"
   ]
  },
  {
   "cell_type": "code",
   "execution_count": 307,
   "metadata": {},
   "outputs": [
    {
     "name": "stdout",
     "output_type": "stream",
     "text": [
      "Accuracy by hold-out evaluation:  0.7951182173839089\n",
      "Precision: 0.766\n",
      "Recall: 1.000\n",
      "F1 score: 0.867797\n"
     ]
    },
    {
     "name": "stderr",
     "output_type": "stream",
     "text": [
      "C:\\Users\\raina\\Anaconda3\\lib\\site-packages\\sklearn\\svm\\_base.py:947: ConvergenceWarning: Liblinear failed to converge, increase the number of iterations.\n",
      "  \"the number of iterations.\", ConvergenceWarning)\n"
     ]
    }
   ],
   "source": [
    "# SVM for diabetesMed after PCA\n",
    "\n",
    "from sklearn.svm import LinearSVC\n",
    "\n",
    "# by hold-out evaluation\n",
    "x1_train, x1_test, y1_train, y1_test = train_test_split(PCAs, y1_dia, test_size=0.2)\n",
    "#clf=SVC(kernel='linear', C=1E10) # C is large -> hard margin; C is small -> soft margin\n",
    "clf = LinearSVC(random_state=0, tol=1e-5)\n",
    "clf=clf.fit(x1_train, y1_train)\n",
    "y1_pred=clf.predict(x1_test)\n",
    "acc=accuracy_score(y1_pred, y1_test)\n",
    "print('Accuracy by hold-out evaluation: ',acc)\n",
    "confusion_matrix(y1_test, y1_pred)\n",
    "precision = precision_score(y1_test, y1_pred, average='binary')\n",
    "print('Precision: %.3f' % precision)\n",
    "recall = recall_score(y1_test, y1_pred, average='binary')\n",
    "print('Recall: %.3f' % recall)\n",
    "f1 = f1_score(y1_test, y1_pred, average='binary')\n",
    "print('F1 score: %f' % f1)"
   ]
  },
  {
   "cell_type": "code",
   "execution_count": 320,
   "metadata": {},
   "outputs": [
    {
     "name": "stdout",
     "output_type": "stream",
     "text": [
      "Tree Accuracy by hold-out evaluation:  0.5795903200334432\n",
      "Precision: 0.580\n",
      "Recall: 0.580\n",
      "F1 score: 0.579590\n"
     ]
    },
    {
     "name": "stderr",
     "output_type": "stream",
     "text": [
      "C:\\Users\\raina\\Anaconda3\\lib\\site-packages\\sklearn\\svm\\_base.py:947: ConvergenceWarning: Liblinear failed to converge, increase the number of iterations.\n",
      "  \"the number of iterations.\", ConvergenceWarning)\n"
     ]
    }
   ],
   "source": [
    "# SVM for readmitted\n",
    "\n",
    "from sklearn.svm import LinearSVC\n",
    "\n",
    "# by hold-out evaluation\n",
    "x2_train, x2_test, y2_train, y2_test = train_test_split(data_final_re, y2_re, test_size=0.2)\n",
    "\n",
    "#clf=SVC(kernel='linear', C=1E10) # C is large -> hard margin; C is small -> soft margin\n",
    "clf = LinearSVC(random_state=0, tol=1e-5)\n",
    "clf=clf.fit(x2_train, y2_train)\n",
    "y2_pred=clf.predict(x2_test)\n",
    "acc=accuracy_score(y2_pred, y2_test)\n",
    "print('Tree Accuracy by hold-out evaluation: ',acc)\n",
    "confusion_matrix(y2_test, y2_pred, labels=[0, 1, 2])\n",
    "precision = precision_score(y2_test, y2_pred, labels=[0,1,2], average='micro')\n",
    "print('Precision: %.3f' % precision)\n",
    "recall = recall_score(y2_test, y2_pred, labels=[0,1,2], average='micro')\n",
    "print('Recall: %.3f' % recall)\n",
    "f1 = f1_score(y2_test, y2_pred, labels=[0,1,2], average='micro')\n",
    "print('F1 score: %f' % f1)"
   ]
  },
  {
   "cell_type": "code",
   "execution_count": 329,
   "metadata": {},
   "outputs": [
    {
     "name": "stdout",
     "output_type": "stream",
     "text": [
      "Tree Accuracy by hold-out evaluation:  0.5616145663988109\n",
      "Precision: 0.562\n",
      "Recall: 0.562\n",
      "F1 score: 0.561615\n"
     ]
    },
    {
     "name": "stderr",
     "output_type": "stream",
     "text": [
      "C:\\Users\\raina\\Anaconda3\\lib\\site-packages\\sklearn\\svm\\_base.py:947: ConvergenceWarning: Liblinear failed to converge, increase the number of iterations.\n",
      "  \"the number of iterations.\", ConvergenceWarning)\n"
     ]
    }
   ],
   "source": [
    "# SVM for readmitted after PCA\n",
    "\n",
    "from sklearn.svm import LinearSVC\n",
    "\n",
    "# by hold-out evaluation\n",
    "x2_train, x2_test, y2_train, y2_test = train_test_split(PCAs, y2_re, test_size=0.2)\n",
    "\n",
    "#clf=SVC(kernel='linear', C=1E10) # C is large -> hard margin; C is small -> soft margin\n",
    "clf = LinearSVC(random_state=0, tol=1e-5)\n",
    "clf=clf.fit(x2_train, y2_train)\n",
    "y2_pred=clf.predict(x2_test)\n",
    "acc=accuracy_score(y2_pred, y2_test)\n",
    "print('Tree Accuracy by hold-out evaluation: ',acc)\n",
    "confusion_matrix(y2_test, y2_pred, labels=[0, 1, 2])\n",
    "precision = precision_score(y2_test, y2_pred, labels=[0,1,2], average='micro')\n",
    "print('Precision: %.3f' % precision)\n",
    "recall = recall_score(y2_test, y2_pred, labels=[0,1,2], average='micro')\n",
    "print('Recall: %.3f' % recall)\n",
    "f1 = f1_score(y2_test, y2_pred, labels=[0,1,2], average='micro')\n",
    "print('F1 score: %f' % f1)"
   ]
  },
  {
   "cell_type": "code",
   "execution_count": null,
   "metadata": {},
   "outputs": [],
   "source": []
  }
 ],
 "metadata": {
  "kernelspec": {
   "display_name": "Python 3",
   "language": "python",
   "name": "python3"
  },
  "language_info": {
   "codemirror_mode": {
    "name": "ipython",
    "version": 3
   },
   "file_extension": ".py",
   "mimetype": "text/x-python",
   "name": "python",
   "nbconvert_exporter": "python",
   "pygments_lexer": "ipython3",
   "version": "3.7.4"
  }
 },
 "nbformat": 4,
 "nbformat_minor": 4
}
